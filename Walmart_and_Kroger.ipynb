{
  "nbformat": 4,
  "nbformat_minor": 0,
  "metadata": {
    "colab": {
      "name": "Walmart and Kroger.ipynb",
      "provenance": [],
      "collapsed_sections": []
    },
    "kernelspec": {
      "name": "python3",
      "display_name": "Python 3"
    },
    "language_info": {
      "name": "python"
    }
  },
  "cells": [
    {
      "cell_type": "code",
      "execution_count": null,
      "metadata": {
        "id": "7xdOc8tJ-Nzi"
      },
      "outputs": [],
      "source": [
        "#importing basic libraries\n",
        "import pandas as pd, numpy as np, seaborn as sns, matplotlib.pyplot as plt\n",
        "%matplotlib inline"
      ]
    },
    {
      "cell_type": "markdown",
      "source": [
        "![Walmart_logo.svg.png](data:image/png;base64,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)\n",
        "\n",
        "\n"
      ],
      "metadata": {
        "id": "jfw1RGVSPGow"
      }
    },
    {
      "cell_type": "markdown",
      "source": [
        "**Walmart is an American multinational retail corporation that operates a chain of hypermarkets, discount department stores, and grocery stores from the United States**\n",
        "\n",
        "**The details of the walmart stores data are collected recently on April 25th 2022**\n",
        "\n",
        "*   Each store is having store number, and its name is given in the data\n",
        "*   Address, street, city , state and zip code of the stores is given.\n"
      ],
      "metadata": {
        "id": "xFWPX9K0PeZ0"
      }
    },
    {
      "cell_type": "code",
      "source": [
        "#importing walmart data\n",
        "walmart= pd.read_csv('/content/Walmart_USA.csv.zip')\n",
        "walmart.head(2)"
      ],
      "metadata": {
        "colab": {
          "base_uri": "https://localhost:8080/",
          "height": 414
        },
        "id": "EKAOp-7nANn-",
        "outputId": "8f406a88-a6c6-4e17-a6d1-2ef4229da5b1"
      },
      "execution_count": null,
      "outputs": [
        {
          "output_type": "execute_result",
          "data": {
            "text/plain": [
              "   Store No.                     Name   Latitude  Longitude  \\\n",
              "0       4253  Sauk Centre Supercenter  45.720665 -94.947005   \n",
              "1        805       Fenton Supercenter  38.510098 -90.438772   \n",
              "\n",
              "                                      Address                   Street  \\\n",
              "0       205 12th St S, Sauk Centre, MN, 56378            205 12th St S   \n",
              "1  653 Gravois Bluffs Blvd, Fenton, MO, 63026  653 Gravois Bluffs Blvd   \n",
              "\n",
              "          City State  Zip_Code     County  ... Provider Updated Date Country  \\\n",
              "0  Sauk Centre    MN     56378    Stearns  ...  Walmart   2022-04-25     USA   \n",
              "1       Fenton    MO     63026  St. Louis  ...  Walmart   2022-04-25     USA   \n",
              "\n",
              "  Status                                      Direction URL  \\\n",
              "0   Open  https://www.google.com/maps/dir/Current+Locati...   \n",
              "1   Open  https://www.google.com/maps/dir/Current+Locati...   \n",
              "\n",
              "                      NAICS 1                                        NAICS 2  \\\n",
              "0  452210 - Department Stores  452319 - All Other General Merchandise Stores   \n",
              "1  452210 - Department Stores  452319 - All Other General Merchandise Stores   \n",
              "\n",
              "                                    SIC 1                      SIC 2  \\\n",
              "0  53119901 - Department stores, discount  53310000 - Variety stores   \n",
              "1  53119901 - Department stores, discount  53310000 - Variety stores   \n",
              "\n",
              "  Stock Ticker  \n",
              "0     WMT:NYSE  \n",
              "1     WMT:NYSE  \n",
              "\n",
              "[2 rows x 23 columns]"
            ],
            "text/html": [
              "\n",
              "  <div id=\"df-0546e3ab-0141-4605-ae83-ca69847baa32\">\n",
              "    <div class=\"colab-df-container\">\n",
              "      <div>\n",
              "<style scoped>\n",
              "    .dataframe tbody tr th:only-of-type {\n",
              "        vertical-align: middle;\n",
              "    }\n",
              "\n",
              "    .dataframe tbody tr th {\n",
              "        vertical-align: top;\n",
              "    }\n",
              "\n",
              "    .dataframe thead th {\n",
              "        text-align: right;\n",
              "    }\n",
              "</style>\n",
              "<table border=\"1\" class=\"dataframe\">\n",
              "  <thead>\n",
              "    <tr style=\"text-align: right;\">\n",
              "      <th></th>\n",
              "      <th>Store No.</th>\n",
              "      <th>Name</th>\n",
              "      <th>Latitude</th>\n",
              "      <th>Longitude</th>\n",
              "      <th>Address</th>\n",
              "      <th>Street</th>\n",
              "      <th>City</th>\n",
              "      <th>State</th>\n",
              "      <th>Zip_Code</th>\n",
              "      <th>County</th>\n",
              "      <th>...</th>\n",
              "      <th>Provider</th>\n",
              "      <th>Updated Date</th>\n",
              "      <th>Country</th>\n",
              "      <th>Status</th>\n",
              "      <th>Direction URL</th>\n",
              "      <th>NAICS 1</th>\n",
              "      <th>NAICS 2</th>\n",
              "      <th>SIC 1</th>\n",
              "      <th>SIC 2</th>\n",
              "      <th>Stock Ticker</th>\n",
              "    </tr>\n",
              "  </thead>\n",
              "  <tbody>\n",
              "    <tr>\n",
              "      <th>0</th>\n",
              "      <td>4253</td>\n",
              "      <td>Sauk Centre Supercenter</td>\n",
              "      <td>45.720665</td>\n",
              "      <td>-94.947005</td>\n",
              "      <td>205 12th St S, Sauk Centre, MN, 56378</td>\n",
              "      <td>205 12th St S</td>\n",
              "      <td>Sauk Centre</td>\n",
              "      <td>MN</td>\n",
              "      <td>56378</td>\n",
              "      <td>Stearns</td>\n",
              "      <td>...</td>\n",
              "      <td>Walmart</td>\n",
              "      <td>2022-04-25</td>\n",
              "      <td>USA</td>\n",
              "      <td>Open</td>\n",
              "      <td>https://www.google.com/maps/dir/Current+Locati...</td>\n",
              "      <td>452210 - Department Stores</td>\n",
              "      <td>452319 - All Other General Merchandise Stores</td>\n",
              "      <td>53119901 - Department stores, discount</td>\n",
              "      <td>53310000 - Variety stores</td>\n",
              "      <td>WMT:NYSE</td>\n",
              "    </tr>\n",
              "    <tr>\n",
              "      <th>1</th>\n",
              "      <td>805</td>\n",
              "      <td>Fenton Supercenter</td>\n",
              "      <td>38.510098</td>\n",
              "      <td>-90.438772</td>\n",
              "      <td>653 Gravois Bluffs Blvd, Fenton, MO, 63026</td>\n",
              "      <td>653 Gravois Bluffs Blvd</td>\n",
              "      <td>Fenton</td>\n",
              "      <td>MO</td>\n",
              "      <td>63026</td>\n",
              "      <td>St. Louis</td>\n",
              "      <td>...</td>\n",
              "      <td>Walmart</td>\n",
              "      <td>2022-04-25</td>\n",
              "      <td>USA</td>\n",
              "      <td>Open</td>\n",
              "      <td>https://www.google.com/maps/dir/Current+Locati...</td>\n",
              "      <td>452210 - Department Stores</td>\n",
              "      <td>452319 - All Other General Merchandise Stores</td>\n",
              "      <td>53119901 - Department stores, discount</td>\n",
              "      <td>53310000 - Variety stores</td>\n",
              "      <td>WMT:NYSE</td>\n",
              "    </tr>\n",
              "  </tbody>\n",
              "</table>\n",
              "<p>2 rows × 23 columns</p>\n",
              "</div>\n",
              "      <button class=\"colab-df-convert\" onclick=\"convertToInteractive('df-0546e3ab-0141-4605-ae83-ca69847baa32')\"\n",
              "              title=\"Convert this dataframe to an interactive table.\"\n",
              "              style=\"display:none;\">\n",
              "        \n",
              "  <svg xmlns=\"http://www.w3.org/2000/svg\" height=\"24px\"viewBox=\"0 0 24 24\"\n",
              "       width=\"24px\">\n",
              "    <path d=\"M0 0h24v24H0V0z\" fill=\"none\"/>\n",
              "    <path d=\"M18.56 5.44l.94 2.06.94-2.06 2.06-.94-2.06-.94-.94-2.06-.94 2.06-2.06.94zm-11 1L8.5 8.5l.94-2.06 2.06-.94-2.06-.94L8.5 2.5l-.94 2.06-2.06.94zm10 10l.94 2.06.94-2.06 2.06-.94-2.06-.94-.94-2.06-.94 2.06-2.06.94z\"/><path d=\"M17.41 7.96l-1.37-1.37c-.4-.4-.92-.59-1.43-.59-.52 0-1.04.2-1.43.59L10.3 9.45l-7.72 7.72c-.78.78-.78 2.05 0 2.83L4 21.41c.39.39.9.59 1.41.59.51 0 1.02-.2 1.41-.59l7.78-7.78 2.81-2.81c.8-.78.8-2.07 0-2.86zM5.41 20L4 18.59l7.72-7.72 1.47 1.35L5.41 20z\"/>\n",
              "  </svg>\n",
              "      </button>\n",
              "      \n",
              "  <style>\n",
              "    .colab-df-container {\n",
              "      display:flex;\n",
              "      flex-wrap:wrap;\n",
              "      gap: 12px;\n",
              "    }\n",
              "\n",
              "    .colab-df-convert {\n",
              "      background-color: #E8F0FE;\n",
              "      border: none;\n",
              "      border-radius: 50%;\n",
              "      cursor: pointer;\n",
              "      display: none;\n",
              "      fill: #1967D2;\n",
              "      height: 32px;\n",
              "      padding: 0 0 0 0;\n",
              "      width: 32px;\n",
              "    }\n",
              "\n",
              "    .colab-df-convert:hover {\n",
              "      background-color: #E2EBFA;\n",
              "      box-shadow: 0px 1px 2px rgba(60, 64, 67, 0.3), 0px 1px 3px 1px rgba(60, 64, 67, 0.15);\n",
              "      fill: #174EA6;\n",
              "    }\n",
              "\n",
              "    [theme=dark] .colab-df-convert {\n",
              "      background-color: #3B4455;\n",
              "      fill: #D2E3FC;\n",
              "    }\n",
              "\n",
              "    [theme=dark] .colab-df-convert:hover {\n",
              "      background-color: #434B5C;\n",
              "      box-shadow: 0px 1px 3px 1px rgba(0, 0, 0, 0.15);\n",
              "      filter: drop-shadow(0px 1px 2px rgba(0, 0, 0, 0.3));\n",
              "      fill: #FFFFFF;\n",
              "    }\n",
              "  </style>\n",
              "\n",
              "      <script>\n",
              "        const buttonEl =\n",
              "          document.querySelector('#df-0546e3ab-0141-4605-ae83-ca69847baa32 button.colab-df-convert');\n",
              "        buttonEl.style.display =\n",
              "          google.colab.kernel.accessAllowed ? 'block' : 'none';\n",
              "\n",
              "        async function convertToInteractive(key) {\n",
              "          const element = document.querySelector('#df-0546e3ab-0141-4605-ae83-ca69847baa32');\n",
              "          const dataTable =\n",
              "            await google.colab.kernel.invokeFunction('convertToInteractive',\n",
              "                                                     [key], {});\n",
              "          if (!dataTable) return;\n",
              "\n",
              "          const docLinkHtml = 'Like what you see? Visit the ' +\n",
              "            '<a target=\"_blank\" href=https://colab.research.google.com/notebooks/data_table.ipynb>data table notebook</a>'\n",
              "            + ' to learn more about interactive tables.';\n",
              "          element.innerHTML = '';\n",
              "          dataTable['output_type'] = 'display_data';\n",
              "          await google.colab.output.renderOutput(dataTable, element);\n",
              "          const docLink = document.createElement('div');\n",
              "          docLink.innerHTML = docLinkHtml;\n",
              "          element.appendChild(docLink);\n",
              "        }\n",
              "      </script>\n",
              "    </div>\n",
              "  </div>\n",
              "  "
            ]
          },
          "metadata": {},
          "execution_count": 811
        }
      ]
    },
    {
      "cell_type": "markdown",
      "source": [
        "### **Analysis for walmart Store data**"
      ],
      "metadata": {
        "id": "0SUG3_PK1wa7"
      }
    },
    {
      "cell_type": "markdown",
      "source": [
        "### Data Cleaning process"
      ],
      "metadata": {
        "id": "q-8paBr316Yq"
      }
    },
    {
      "cell_type": "code",
      "source": [
        "walmart.columns"
      ],
      "metadata": {
        "colab": {
          "base_uri": "https://localhost:8080/"
        },
        "id": "RwXHTKfsZXcE",
        "outputId": "170382c4-4e60-4104-bcf7-59fd03824671"
      },
      "execution_count": null,
      "outputs": [
        {
          "output_type": "execute_result",
          "data": {
            "text/plain": [
              "Index(['Store No.', 'Name', 'Latitude', 'Longitude', 'Address', 'Street',\n",
              "       'City', 'State', 'Zip_Code', 'County', 'Phone', 'Open Hours', 'URL',\n",
              "       'Provider', 'Updated Date', 'Country', 'Status', 'Direction URL',\n",
              "       'NAICS 1', 'NAICS 2', 'SIC 1', 'SIC 2', 'Stock Ticker'],\n",
              "      dtype='object')"
            ]
          },
          "metadata": {},
          "execution_count": 812
        }
      ]
    },
    {
      "cell_type": "markdown",
      "source": [
        "**some of the column names are not in proper order we need to rearrage them by adding new names in a dictionary. here the key will  be old variable names and values in the dictionary is new name.**"
      ],
      "metadata": {
        "id": "Hl6XkCGFbW1W"
      }
    },
    {
      "cell_type": "code",
      "source": [
        "#renaming the variable name\n",
        "walmart.rename(columns= {'Store No.':'Store_No', 'Open Hours':'Open_Hours', 'Updated Date':'Updated_Date', 'Direction URL':'URL', 'NAICS 1':'NAICS_1', 'NAICS 2':'NAICS_2', 'SIC 1':'SIC_1', 'SIC 2':'SIC_2', 'Stock Ticker':'Stock_Ticker'}, inplace=True)"
      ],
      "metadata": {
        "id": "2OAUDx8yZDVL"
      },
      "execution_count": null,
      "outputs": []
    },
    {
      "cell_type": "code",
      "source": [
        "walmart.columns"
      ],
      "metadata": {
        "colab": {
          "base_uri": "https://localhost:8080/"
        },
        "id": "N2wuFaoQaPRP",
        "outputId": "f1c8fac9-d8f9-48ef-fc01-59283435907a"
      },
      "execution_count": null,
      "outputs": [
        {
          "output_type": "execute_result",
          "data": {
            "text/plain": [
              "Index(['Store_No', 'Name', 'Latitude', 'Longitude', 'Address', 'Street',\n",
              "       'City', 'State', 'Zip_Code', 'County', 'Phone', 'Open_Hours', 'URL',\n",
              "       'Provider', 'Updated_Date', 'Country', 'Status', 'URL', 'NAICS_1',\n",
              "       'NAICS_2', 'SIC_1', 'SIC_2', 'Stock_Ticker'],\n",
              "      dtype='object')"
            ]
          },
          "metadata": {},
          "execution_count": 814
        }
      ]
    },
    {
      "cell_type": "code",
      "source": [
        "walmart.shape"
      ],
      "metadata": {
        "colab": {
          "base_uri": "https://localhost:8080/"
        },
        "id": "yGSvRRc0MyJD",
        "outputId": "0da3bda1-4fb4-4e27-b00d-67be401085c5"
      },
      "execution_count": null,
      "outputs": [
        {
          "output_type": "execute_result",
          "data": {
            "text/plain": [
              "(4666, 23)"
            ]
          },
          "metadata": {},
          "execution_count": 815
        }
      ]
    },
    {
      "cell_type": "markdown",
      "source": [
        "**The data contains 4666 rows and 23 columns**"
      ],
      "metadata": {
        "id": "rw68dhKuQzUn"
      }
    },
    {
      "cell_type": "code",
      "source": [
        "walmart.duplicated().sum()"
      ],
      "metadata": {
        "colab": {
          "base_uri": "https://localhost:8080/"
        },
        "id": "l31H8ryCXx9J",
        "outputId": "eff0b7e7-d410-4035-fcc2-8274ae11b15d"
      },
      "execution_count": null,
      "outputs": [
        {
          "output_type": "execute_result",
          "data": {
            "text/plain": [
              "0"
            ]
          },
          "metadata": {},
          "execution_count": 816
        }
      ]
    },
    {
      "cell_type": "markdown",
      "source": [
        "**Their is no duplicate values in the data.**"
      ],
      "metadata": {
        "id": "-DWb0HncX-Ri"
      }
    },
    {
      "cell_type": "code",
      "source": [
        "walmart.info()"
      ],
      "metadata": {
        "colab": {
          "base_uri": "https://localhost:8080/"
        },
        "id": "lHxBBCCRQ9fI",
        "outputId": "25fe98f9-f574-42c9-9539-de0f99dcb0cb"
      },
      "execution_count": null,
      "outputs": [
        {
          "output_type": "stream",
          "name": "stdout",
          "text": [
            "<class 'pandas.core.frame.DataFrame'>\n",
            "RangeIndex: 4666 entries, 0 to 4665\n",
            "Data columns (total 23 columns):\n",
            " #   Column        Non-Null Count  Dtype  \n",
            "---  ------        --------------  -----  \n",
            " 0   Store_No      4666 non-null   int64  \n",
            " 1   Name          4666 non-null   object \n",
            " 2   Latitude      4666 non-null   float64\n",
            " 3   Longitude     4666 non-null   float64\n",
            " 4   Address       4666 non-null   object \n",
            " 5   Street        4666 non-null   object \n",
            " 6   City          4666 non-null   object \n",
            " 7   State         4666 non-null   object \n",
            " 8   Zip_Code      4666 non-null   int64  \n",
            " 9   County        4666 non-null   object \n",
            " 10  Phone         4666 non-null   object \n",
            " 11  Open_Hours    4660 non-null   object \n",
            " 12  URL           4666 non-null   object \n",
            " 13  Provider      4666 non-null   object \n",
            " 14  Updated_Date  4666 non-null   object \n",
            " 15  Country       4666 non-null   object \n",
            " 16  Status        4666 non-null   object \n",
            " 17  URL           4666 non-null   object \n",
            " 18  NAICS_1       4666 non-null   object \n",
            " 19  NAICS_2       4666 non-null   object \n",
            " 20  SIC_1         4666 non-null   object \n",
            " 21  SIC_2         4666 non-null   object \n",
            " 22  Stock_Ticker  4666 non-null   object \n",
            "dtypes: float64(2), int64(2), object(19)\n",
            "memory usage: 838.5+ KB\n"
          ]
        }
      ]
    },
    {
      "cell_type": "code",
      "source": [
        "#to take the count of null values of each variables\n",
        "walmart.isna().sum()"
      ],
      "metadata": {
        "colab": {
          "base_uri": "https://localhost:8080/"
        },
        "id": "N7ZOS1X7Q9oR",
        "outputId": "35ebc0f2-3484-4381-fc35-89aeb85146c0"
      },
      "execution_count": null,
      "outputs": [
        {
          "output_type": "execute_result",
          "data": {
            "text/plain": [
              "Store_No        0\n",
              "Name            0\n",
              "Latitude        0\n",
              "Longitude       0\n",
              "Address         0\n",
              "Street          0\n",
              "City            0\n",
              "State           0\n",
              "Zip_Code        0\n",
              "County          0\n",
              "Phone           0\n",
              "Open_Hours      6\n",
              "URL             0\n",
              "Provider        0\n",
              "Updated_Date    0\n",
              "Country         0\n",
              "Status          0\n",
              "URL             0\n",
              "NAICS_1         0\n",
              "NAICS_2         0\n",
              "SIC_1           0\n",
              "SIC_2           0\n",
              "Stock_Ticker    0\n",
              "dtype: int64"
            ]
          },
          "metadata": {},
          "execution_count": 818
        }
      ]
    },
    {
      "cell_type": "markdown",
      "source": [
        "**The address is already splitted into seperate variables so we dont need the address column in the data we can remove it.**\n",
        "\n",
        "**Also we are removing the updated date column from the data**\n",
        "\n",
        "**there is no much use with some of the variables of the data so we can remove those variables** "
      ],
      "metadata": {
        "id": "2i0x6q0yTcS9"
      }
    },
    {
      "cell_type": "code",
      "source": [
        "walmart.drop(['Address','Updated_Date', 'Country','URL','Phone', 'Provider', 'Zip_Code', 'Store_No'], axis=1, inplace=True)"
      ],
      "metadata": {
        "id": "CakzPojlThNE"
      },
      "execution_count": null,
      "outputs": []
    },
    {
      "cell_type": "code",
      "source": [
        "walmart.shape"
      ],
      "metadata": {
        "colab": {
          "base_uri": "https://localhost:8080/"
        },
        "id": "tZJUuVCaTFlt",
        "outputId": "1da1368c-336b-4835-b82f-b38bbf24a71f"
      },
      "execution_count": null,
      "outputs": [
        {
          "output_type": "execute_result",
          "data": {
            "text/plain": [
              "(4666, 14)"
            ]
          },
          "metadata": {},
          "execution_count": 820
        }
      ]
    },
    {
      "cell_type": "code",
      "source": [
        "walmart.head(2)"
      ],
      "metadata": {
        "colab": {
          "base_uri": "https://localhost:8080/",
          "height": 260
        },
        "id": "eUfTJoaKQVHa",
        "outputId": "e74228a4-a0fc-4670-d42f-764764c1c5a3"
      },
      "execution_count": null,
      "outputs": [
        {
          "output_type": "execute_result",
          "data": {
            "text/plain": [
              "                      Name   Latitude  Longitude                   Street  \\\n",
              "0  Sauk Centre Supercenter  45.720665 -94.947005            205 12th St S   \n",
              "1       Fenton Supercenter  38.510098 -90.438772  653 Gravois Bluffs Blvd   \n",
              "\n",
              "          City State     County  \\\n",
              "0  Sauk Centre    MN    Stearns   \n",
              "1       Fenton    MO  St. Louis   \n",
              "\n",
              "                                          Open_Hours Status  \\\n",
              "0  sunday :- 06:00 - 23:00 | monday :- 06:00 - 23...   Open   \n",
              "1  sunday :- 06:00 - 23:00 | monday :- 06:00 - 23...   Open   \n",
              "\n",
              "                      NAICS_1                                        NAICS_2  \\\n",
              "0  452210 - Department Stores  452319 - All Other General Merchandise Stores   \n",
              "1  452210 - Department Stores  452319 - All Other General Merchandise Stores   \n",
              "\n",
              "                                    SIC_1                      SIC_2  \\\n",
              "0  53119901 - Department stores, discount  53310000 - Variety stores   \n",
              "1  53119901 - Department stores, discount  53310000 - Variety stores   \n",
              "\n",
              "  Stock_Ticker  \n",
              "0     WMT:NYSE  \n",
              "1     WMT:NYSE  "
            ],
            "text/html": [
              "\n",
              "  <div id=\"df-a33ff484-85c7-45df-a554-b0fb0ab2eed9\">\n",
              "    <div class=\"colab-df-container\">\n",
              "      <div>\n",
              "<style scoped>\n",
              "    .dataframe tbody tr th:only-of-type {\n",
              "        vertical-align: middle;\n",
              "    }\n",
              "\n",
              "    .dataframe tbody tr th {\n",
              "        vertical-align: top;\n",
              "    }\n",
              "\n",
              "    .dataframe thead th {\n",
              "        text-align: right;\n",
              "    }\n",
              "</style>\n",
              "<table border=\"1\" class=\"dataframe\">\n",
              "  <thead>\n",
              "    <tr style=\"text-align: right;\">\n",
              "      <th></th>\n",
              "      <th>Name</th>\n",
              "      <th>Latitude</th>\n",
              "      <th>Longitude</th>\n",
              "      <th>Street</th>\n",
              "      <th>City</th>\n",
              "      <th>State</th>\n",
              "      <th>County</th>\n",
              "      <th>Open_Hours</th>\n",
              "      <th>Status</th>\n",
              "      <th>NAICS_1</th>\n",
              "      <th>NAICS_2</th>\n",
              "      <th>SIC_1</th>\n",
              "      <th>SIC_2</th>\n",
              "      <th>Stock_Ticker</th>\n",
              "    </tr>\n",
              "  </thead>\n",
              "  <tbody>\n",
              "    <tr>\n",
              "      <th>0</th>\n",
              "      <td>Sauk Centre Supercenter</td>\n",
              "      <td>45.720665</td>\n",
              "      <td>-94.947005</td>\n",
              "      <td>205 12th St S</td>\n",
              "      <td>Sauk Centre</td>\n",
              "      <td>MN</td>\n",
              "      <td>Stearns</td>\n",
              "      <td>sunday :- 06:00 - 23:00 | monday :- 06:00 - 23...</td>\n",
              "      <td>Open</td>\n",
              "      <td>452210 - Department Stores</td>\n",
              "      <td>452319 - All Other General Merchandise Stores</td>\n",
              "      <td>53119901 - Department stores, discount</td>\n",
              "      <td>53310000 - Variety stores</td>\n",
              "      <td>WMT:NYSE</td>\n",
              "    </tr>\n",
              "    <tr>\n",
              "      <th>1</th>\n",
              "      <td>Fenton Supercenter</td>\n",
              "      <td>38.510098</td>\n",
              "      <td>-90.438772</td>\n",
              "      <td>653 Gravois Bluffs Blvd</td>\n",
              "      <td>Fenton</td>\n",
              "      <td>MO</td>\n",
              "      <td>St. Louis</td>\n",
              "      <td>sunday :- 06:00 - 23:00 | monday :- 06:00 - 23...</td>\n",
              "      <td>Open</td>\n",
              "      <td>452210 - Department Stores</td>\n",
              "      <td>452319 - All Other General Merchandise Stores</td>\n",
              "      <td>53119901 - Department stores, discount</td>\n",
              "      <td>53310000 - Variety stores</td>\n",
              "      <td>WMT:NYSE</td>\n",
              "    </tr>\n",
              "  </tbody>\n",
              "</table>\n",
              "</div>\n",
              "      <button class=\"colab-df-convert\" onclick=\"convertToInteractive('df-a33ff484-85c7-45df-a554-b0fb0ab2eed9')\"\n",
              "              title=\"Convert this dataframe to an interactive table.\"\n",
              "              style=\"display:none;\">\n",
              "        \n",
              "  <svg xmlns=\"http://www.w3.org/2000/svg\" height=\"24px\"viewBox=\"0 0 24 24\"\n",
              "       width=\"24px\">\n",
              "    <path d=\"M0 0h24v24H0V0z\" fill=\"none\"/>\n",
              "    <path d=\"M18.56 5.44l.94 2.06.94-2.06 2.06-.94-2.06-.94-.94-2.06-.94 2.06-2.06.94zm-11 1L8.5 8.5l.94-2.06 2.06-.94-2.06-.94L8.5 2.5l-.94 2.06-2.06.94zm10 10l.94 2.06.94-2.06 2.06-.94-2.06-.94-.94-2.06-.94 2.06-2.06.94z\"/><path d=\"M17.41 7.96l-1.37-1.37c-.4-.4-.92-.59-1.43-.59-.52 0-1.04.2-1.43.59L10.3 9.45l-7.72 7.72c-.78.78-.78 2.05 0 2.83L4 21.41c.39.39.9.59 1.41.59.51 0 1.02-.2 1.41-.59l7.78-7.78 2.81-2.81c.8-.78.8-2.07 0-2.86zM5.41 20L4 18.59l7.72-7.72 1.47 1.35L5.41 20z\"/>\n",
              "  </svg>\n",
              "      </button>\n",
              "      \n",
              "  <style>\n",
              "    .colab-df-container {\n",
              "      display:flex;\n",
              "      flex-wrap:wrap;\n",
              "      gap: 12px;\n",
              "    }\n",
              "\n",
              "    .colab-df-convert {\n",
              "      background-color: #E8F0FE;\n",
              "      border: none;\n",
              "      border-radius: 50%;\n",
              "      cursor: pointer;\n",
              "      display: none;\n",
              "      fill: #1967D2;\n",
              "      height: 32px;\n",
              "      padding: 0 0 0 0;\n",
              "      width: 32px;\n",
              "    }\n",
              "\n",
              "    .colab-df-convert:hover {\n",
              "      background-color: #E2EBFA;\n",
              "      box-shadow: 0px 1px 2px rgba(60, 64, 67, 0.3), 0px 1px 3px 1px rgba(60, 64, 67, 0.15);\n",
              "      fill: #174EA6;\n",
              "    }\n",
              "\n",
              "    [theme=dark] .colab-df-convert {\n",
              "      background-color: #3B4455;\n",
              "      fill: #D2E3FC;\n",
              "    }\n",
              "\n",
              "    [theme=dark] .colab-df-convert:hover {\n",
              "      background-color: #434B5C;\n",
              "      box-shadow: 0px 1px 3px 1px rgba(0, 0, 0, 0.15);\n",
              "      filter: drop-shadow(0px 1px 2px rgba(0, 0, 0, 0.3));\n",
              "      fill: #FFFFFF;\n",
              "    }\n",
              "  </style>\n",
              "\n",
              "      <script>\n",
              "        const buttonEl =\n",
              "          document.querySelector('#df-a33ff484-85c7-45df-a554-b0fb0ab2eed9 button.colab-df-convert');\n",
              "        buttonEl.style.display =\n",
              "          google.colab.kernel.accessAllowed ? 'block' : 'none';\n",
              "\n",
              "        async function convertToInteractive(key) {\n",
              "          const element = document.querySelector('#df-a33ff484-85c7-45df-a554-b0fb0ab2eed9');\n",
              "          const dataTable =\n",
              "            await google.colab.kernel.invokeFunction('convertToInteractive',\n",
              "                                                     [key], {});\n",
              "          if (!dataTable) return;\n",
              "\n",
              "          const docLinkHtml = 'Like what you see? Visit the ' +\n",
              "            '<a target=\"_blank\" href=https://colab.research.google.com/notebooks/data_table.ipynb>data table notebook</a>'\n",
              "            + ' to learn more about interactive tables.';\n",
              "          element.innerHTML = '';\n",
              "          dataTable['output_type'] = 'display_data';\n",
              "          await google.colab.output.renderOutput(dataTable, element);\n",
              "          const docLink = document.createElement('div');\n",
              "          docLink.innerHTML = docLinkHtml;\n",
              "          element.appendChild(docLink);\n",
              "        }\n",
              "      </script>\n",
              "    </div>\n",
              "  </div>\n",
              "  "
            ]
          },
          "metadata": {},
          "execution_count": 821
        }
      ]
    },
    {
      "cell_type": "code",
      "source": [
        "walmart['Stock_Ticker'].value_counts()"
      ],
      "metadata": {
        "colab": {
          "base_uri": "https://localhost:8080/"
        },
        "id": "YxK0ffc5QdG_",
        "outputId": "e060f0cb-16b5-42f8-a868-236af805582c"
      },
      "execution_count": null,
      "outputs": [
        {
          "output_type": "execute_result",
          "data": {
            "text/plain": [
              "WMT:NYSE    4666\n",
              "Name: Stock_Ticker, dtype: int64"
            ]
          },
          "metadata": {},
          "execution_count": 822
        }
      ]
    },
    {
      "cell_type": "code",
      "source": [
        "walmart['NAICS_1'].value_counts()"
      ],
      "metadata": {
        "colab": {
          "base_uri": "https://localhost:8080/"
        },
        "id": "JlomJHwXQldW",
        "outputId": "ed04cb5c-c9d7-419c-9cdd-931a3925acd7"
      },
      "execution_count": null,
      "outputs": [
        {
          "output_type": "execute_result",
          "data": {
            "text/plain": [
              "452210 - Department Stores    4666\n",
              "Name: NAICS_1, dtype: int64"
            ]
          },
          "metadata": {},
          "execution_count": 823
        }
      ]
    },
    {
      "cell_type": "code",
      "source": [
        "walmart['NAICS_2'].value_counts()"
      ],
      "metadata": {
        "colab": {
          "base_uri": "https://localhost:8080/"
        },
        "id": "nMlsmvkKQsBn",
        "outputId": "b8664515-c13a-4bae-8ffb-508a66e0a3b7"
      },
      "execution_count": null,
      "outputs": [
        {
          "output_type": "execute_result",
          "data": {
            "text/plain": [
              "452319 - All Other General Merchandise Stores    4666\n",
              "Name: NAICS_2, dtype: int64"
            ]
          },
          "metadata": {},
          "execution_count": 824
        }
      ]
    },
    {
      "cell_type": "code",
      "source": [
        "walmart['SIC_1'].value_counts()"
      ],
      "metadata": {
        "colab": {
          "base_uri": "https://localhost:8080/"
        },
        "id": "jWAdoGB7Qt4X",
        "outputId": "1c6357d5-84a1-4c5b-f325-5aadd947eee4"
      },
      "execution_count": null,
      "outputs": [
        {
          "output_type": "execute_result",
          "data": {
            "text/plain": [
              "53119901 - Department stores, discount    4666\n",
              "Name: SIC_1, dtype: int64"
            ]
          },
          "metadata": {},
          "execution_count": 825
        }
      ]
    },
    {
      "cell_type": "code",
      "source": [
        "walmart['SIC_2'].value_counts()"
      ],
      "metadata": {
        "colab": {
          "base_uri": "https://localhost:8080/"
        },
        "id": "DhABW-LpQt70",
        "outputId": "9ac7bf57-8456-4548-9d0b-a42de2e08c14"
      },
      "execution_count": null,
      "outputs": [
        {
          "output_type": "execute_result",
          "data": {
            "text/plain": [
              "53310000 - Variety stores    4666\n",
              "Name: SIC_2, dtype: int64"
            ]
          },
          "metadata": {},
          "execution_count": 826
        }
      ]
    },
    {
      "cell_type": "markdown",
      "source": [
        "**All the Stores having NAICS and SIC codes same, so we are going to eliminate those variables..**"
      ],
      "metadata": {
        "id": "hk_32MARTzol"
      }
    },
    {
      "cell_type": "code",
      "source": [
        "walmart.drop(['NAICS_1',\t'NAICS_2',\t'SIC_1',\t'SIC_2',\t'Stock_Ticker'], axis=1, inplace=True)"
      ],
      "metadata": {
        "id": "FnuFR3lmT84i"
      },
      "execution_count": null,
      "outputs": []
    },
    {
      "cell_type": "code",
      "source": [
        "walmart.shape"
      ],
      "metadata": {
        "colab": {
          "base_uri": "https://localhost:8080/"
        },
        "id": "VmjXoQJgUNRq",
        "outputId": "abc3e287-a83e-48e6-94f7-a41380b0b79a"
      },
      "execution_count": null,
      "outputs": [
        {
          "output_type": "execute_result",
          "data": {
            "text/plain": [
              "(4666, 9)"
            ]
          },
          "metadata": {},
          "execution_count": 828
        }
      ]
    },
    {
      "cell_type": "code",
      "source": [
        "walmart.head(3)"
      ],
      "metadata": {
        "colab": {
          "base_uri": "https://localhost:8080/",
          "height": 143
        },
        "id": "V9-FfJf1USQJ",
        "outputId": "83007fcf-8b33-4d74-d6ea-5894fb328769"
      },
      "execution_count": null,
      "outputs": [
        {
          "output_type": "execute_result",
          "data": {
            "text/plain": [
              "                      Name   Latitude  Longitude                   Street  \\\n",
              "0  Sauk Centre Supercenter  45.720665 -94.947005            205 12th St S   \n",
              "1       Fenton Supercenter  38.510098 -90.438772  653 Gravois Bluffs Blvd   \n",
              "2      Gadsden Supercenter  34.012769 -85.987031       340 E Meighan Blvd   \n",
              "\n",
              "          City State     County  \\\n",
              "0  Sauk Centre    MN    Stearns   \n",
              "1       Fenton    MO  St. Louis   \n",
              "2      Gadsden    AL     Etowah   \n",
              "\n",
              "                                          Open_Hours Status  \n",
              "0  sunday :- 06:00 - 23:00 | monday :- 06:00 - 23...   Open  \n",
              "1  sunday :- 06:00 - 23:00 | monday :- 06:00 - 23...   Open  \n",
              "2  sunday :- 06:00 - 23:00 | monday :- 06:00 - 23...   Open  "
            ],
            "text/html": [
              "\n",
              "  <div id=\"df-610b9fe2-5372-45b4-81cc-8e775083b9c4\">\n",
              "    <div class=\"colab-df-container\">\n",
              "      <div>\n",
              "<style scoped>\n",
              "    .dataframe tbody tr th:only-of-type {\n",
              "        vertical-align: middle;\n",
              "    }\n",
              "\n",
              "    .dataframe tbody tr th {\n",
              "        vertical-align: top;\n",
              "    }\n",
              "\n",
              "    .dataframe thead th {\n",
              "        text-align: right;\n",
              "    }\n",
              "</style>\n",
              "<table border=\"1\" class=\"dataframe\">\n",
              "  <thead>\n",
              "    <tr style=\"text-align: right;\">\n",
              "      <th></th>\n",
              "      <th>Name</th>\n",
              "      <th>Latitude</th>\n",
              "      <th>Longitude</th>\n",
              "      <th>Street</th>\n",
              "      <th>City</th>\n",
              "      <th>State</th>\n",
              "      <th>County</th>\n",
              "      <th>Open_Hours</th>\n",
              "      <th>Status</th>\n",
              "    </tr>\n",
              "  </thead>\n",
              "  <tbody>\n",
              "    <tr>\n",
              "      <th>0</th>\n",
              "      <td>Sauk Centre Supercenter</td>\n",
              "      <td>45.720665</td>\n",
              "      <td>-94.947005</td>\n",
              "      <td>205 12th St S</td>\n",
              "      <td>Sauk Centre</td>\n",
              "      <td>MN</td>\n",
              "      <td>Stearns</td>\n",
              "      <td>sunday :- 06:00 - 23:00 | monday :- 06:00 - 23...</td>\n",
              "      <td>Open</td>\n",
              "    </tr>\n",
              "    <tr>\n",
              "      <th>1</th>\n",
              "      <td>Fenton Supercenter</td>\n",
              "      <td>38.510098</td>\n",
              "      <td>-90.438772</td>\n",
              "      <td>653 Gravois Bluffs Blvd</td>\n",
              "      <td>Fenton</td>\n",
              "      <td>MO</td>\n",
              "      <td>St. Louis</td>\n",
              "      <td>sunday :- 06:00 - 23:00 | monday :- 06:00 - 23...</td>\n",
              "      <td>Open</td>\n",
              "    </tr>\n",
              "    <tr>\n",
              "      <th>2</th>\n",
              "      <td>Gadsden Supercenter</td>\n",
              "      <td>34.012769</td>\n",
              "      <td>-85.987031</td>\n",
              "      <td>340 E Meighan Blvd</td>\n",
              "      <td>Gadsden</td>\n",
              "      <td>AL</td>\n",
              "      <td>Etowah</td>\n",
              "      <td>sunday :- 06:00 - 23:00 | monday :- 06:00 - 23...</td>\n",
              "      <td>Open</td>\n",
              "    </tr>\n",
              "  </tbody>\n",
              "</table>\n",
              "</div>\n",
              "      <button class=\"colab-df-convert\" onclick=\"convertToInteractive('df-610b9fe2-5372-45b4-81cc-8e775083b9c4')\"\n",
              "              title=\"Convert this dataframe to an interactive table.\"\n",
              "              style=\"display:none;\">\n",
              "        \n",
              "  <svg xmlns=\"http://www.w3.org/2000/svg\" height=\"24px\"viewBox=\"0 0 24 24\"\n",
              "       width=\"24px\">\n",
              "    <path d=\"M0 0h24v24H0V0z\" fill=\"none\"/>\n",
              "    <path d=\"M18.56 5.44l.94 2.06.94-2.06 2.06-.94-2.06-.94-.94-2.06-.94 2.06-2.06.94zm-11 1L8.5 8.5l.94-2.06 2.06-.94-2.06-.94L8.5 2.5l-.94 2.06-2.06.94zm10 10l.94 2.06.94-2.06 2.06-.94-2.06-.94-.94-2.06-.94 2.06-2.06.94z\"/><path d=\"M17.41 7.96l-1.37-1.37c-.4-.4-.92-.59-1.43-.59-.52 0-1.04.2-1.43.59L10.3 9.45l-7.72 7.72c-.78.78-.78 2.05 0 2.83L4 21.41c.39.39.9.59 1.41.59.51 0 1.02-.2 1.41-.59l7.78-7.78 2.81-2.81c.8-.78.8-2.07 0-2.86zM5.41 20L4 18.59l7.72-7.72 1.47 1.35L5.41 20z\"/>\n",
              "  </svg>\n",
              "      </button>\n",
              "      \n",
              "  <style>\n",
              "    .colab-df-container {\n",
              "      display:flex;\n",
              "      flex-wrap:wrap;\n",
              "      gap: 12px;\n",
              "    }\n",
              "\n",
              "    .colab-df-convert {\n",
              "      background-color: #E8F0FE;\n",
              "      border: none;\n",
              "      border-radius: 50%;\n",
              "      cursor: pointer;\n",
              "      display: none;\n",
              "      fill: #1967D2;\n",
              "      height: 32px;\n",
              "      padding: 0 0 0 0;\n",
              "      width: 32px;\n",
              "    }\n",
              "\n",
              "    .colab-df-convert:hover {\n",
              "      background-color: #E2EBFA;\n",
              "      box-shadow: 0px 1px 2px rgba(60, 64, 67, 0.3), 0px 1px 3px 1px rgba(60, 64, 67, 0.15);\n",
              "      fill: #174EA6;\n",
              "    }\n",
              "\n",
              "    [theme=dark] .colab-df-convert {\n",
              "      background-color: #3B4455;\n",
              "      fill: #D2E3FC;\n",
              "    }\n",
              "\n",
              "    [theme=dark] .colab-df-convert:hover {\n",
              "      background-color: #434B5C;\n",
              "      box-shadow: 0px 1px 3px 1px rgba(0, 0, 0, 0.15);\n",
              "      filter: drop-shadow(0px 1px 2px rgba(0, 0, 0, 0.3));\n",
              "      fill: #FFFFFF;\n",
              "    }\n",
              "  </style>\n",
              "\n",
              "      <script>\n",
              "        const buttonEl =\n",
              "          document.querySelector('#df-610b9fe2-5372-45b4-81cc-8e775083b9c4 button.colab-df-convert');\n",
              "        buttonEl.style.display =\n",
              "          google.colab.kernel.accessAllowed ? 'block' : 'none';\n",
              "\n",
              "        async function convertToInteractive(key) {\n",
              "          const element = document.querySelector('#df-610b9fe2-5372-45b4-81cc-8e775083b9c4');\n",
              "          const dataTable =\n",
              "            await google.colab.kernel.invokeFunction('convertToInteractive',\n",
              "                                                     [key], {});\n",
              "          if (!dataTable) return;\n",
              "\n",
              "          const docLinkHtml = 'Like what you see? Visit the ' +\n",
              "            '<a target=\"_blank\" href=https://colab.research.google.com/notebooks/data_table.ipynb>data table notebook</a>'\n",
              "            + ' to learn more about interactive tables.';\n",
              "          element.innerHTML = '';\n",
              "          dataTable['output_type'] = 'display_data';\n",
              "          await google.colab.output.renderOutput(dataTable, element);\n",
              "          const docLink = document.createElement('div');\n",
              "          docLink.innerHTML = docLinkHtml;\n",
              "          element.appendChild(docLink);\n",
              "        }\n",
              "      </script>\n",
              "    </div>\n",
              "  </div>\n",
              "  "
            ]
          },
          "metadata": {},
          "execution_count": 829
        }
      ]
    },
    {
      "cell_type": "markdown",
      "source": [
        "**Here in next codes we are going to dividenthe hours**"
      ],
      "metadata": {
        "id": "UHUjhmeaSpzS"
      }
    },
    {
      "cell_type": "code",
      "source": [
        "walmart.Open_Hours.head(11)"
      ],
      "metadata": {
        "colab": {
          "base_uri": "https://localhost:8080/"
        },
        "outputId": "e0dee403-057b-4b91-9415-f3fd4220d1e4",
        "id": "8nBJYYXL4D60"
      },
      "execution_count": null,
      "outputs": [
        {
          "output_type": "execute_result",
          "data": {
            "text/plain": [
              "0     sunday :- 06:00 - 23:00 | monday :- 06:00 - 23...\n",
              "1     sunday :- 06:00 - 23:00 | monday :- 06:00 - 23...\n",
              "2     sunday :- 06:00 - 23:00 | monday :- 06:00 - 23...\n",
              "3     sunday :- 06:00 - 23:00 | monday :- 06:00 - 23...\n",
              "4     sunday :- 06:00 - 23:00 | monday :- 06:00 - 23...\n",
              "5     sunday :- 06:00 - 23:00 | monday :- 06:00 - 23...\n",
              "6     sunday :- 06:00 - 23:00 | monday :- 06:00 - 23...\n",
              "7     sunday :- 06:00 - 23:00 | monday :- 06:00 - 23...\n",
              "8     sunday :- 06:00 - 23:00 | monday :- 06:00 - 23...\n",
              "9                                                   NaN\n",
              "10    sunday :- 06:00 - 23:00 | monday :- 06:00 - 23...\n",
              "Name: Open_Hours, dtype: object"
            ]
          },
          "metadata": {},
          "execution_count": 830
        }
      ]
    },
    {
      "cell_type": "code",
      "source": [
        "walmart['Open_Hours'].str.split('|')"
      ],
      "metadata": {
        "colab": {
          "base_uri": "https://localhost:8080/"
        },
        "outputId": "4a54b009-2fc2-41bb-acbc-5d3554524c8c",
        "id": "Lqxhz9btEeUQ"
      },
      "execution_count": null,
      "outputs": [
        {
          "output_type": "execute_result",
          "data": {
            "text/plain": [
              "0       [sunday :- 06:00 - 23:00 ,  monday :- 06:00 - ...\n",
              "1       [sunday :- 06:00 - 23:00 ,  monday :- 06:00 - ...\n",
              "2       [sunday :- 06:00 - 23:00 ,  monday :- 06:00 - ...\n",
              "3       [sunday :- 06:00 - 23:00 ,  monday :- 06:00 - ...\n",
              "4       [sunday :- 06:00 - 23:00 ,  monday :- 06:00 - ...\n",
              "                              ...                        \n",
              "4661    [sunday :- 06:00 - 23:00 ,  monday :- 06:00 - ...\n",
              "4662    [sunday :- 06:00 - 23:00 ,  monday :- 06:00 - ...\n",
              "4663    [sunday :- 06:00 - 23:00 ,  monday :- 06:00 - ...\n",
              "4664    [sunday :- 07:00 - 19:00 ,  monday :- 07:00 - ...\n",
              "4665    [sunday :- 07:00 - 19:00 ,  monday :- 07:00 - ...\n",
              "Name: Open_Hours, Length: 4666, dtype: object"
            ]
          },
          "metadata": {},
          "execution_count": 831
        }
      ]
    },
    {
      "cell_type": "code",
      "source": [
        "walmart['Sunday']=walmart['Open_Hours'].str.split('|').str[0]\n",
        "walmart['Monday']=walmart['Open_Hours'].str.split('|').str[1]\n",
        "walmart['Tuesday']=walmart['Open_Hours'].str.split('|').str[2]\n",
        "walmart['Wednesday']=walmart['Open_Hours'].str.split('|').str[3]\n",
        "walmart['Thursday']=walmart['Open_Hours'].str.split('|').str[4]\n",
        "walmart['Friday']=walmart['Open_Hours'].str.split('|').str[5]\n",
        "walmart['Saturday']=walmart['Open_Hours'].str.split('|').str[6]"
      ],
      "metadata": {
        "id": "QinUpH0lEeUR"
      },
      "execution_count": null,
      "outputs": []
    },
    {
      "cell_type": "code",
      "source": [
        "walmart.head(2)"
      ],
      "metadata": {
        "colab": {
          "base_uri": "https://localhost:8080/",
          "height": 243
        },
        "outputId": "0c4ed42e-7263-4d5c-c8d2-c17e7f0328fe",
        "id": "vvjvBbiUEeUR"
      },
      "execution_count": null,
      "outputs": [
        {
          "output_type": "execute_result",
          "data": {
            "text/plain": [
              "                      Name   Latitude  Longitude                   Street  \\\n",
              "0  Sauk Centre Supercenter  45.720665 -94.947005            205 12th St S   \n",
              "1       Fenton Supercenter  38.510098 -90.438772  653 Gravois Bluffs Blvd   \n",
              "\n",
              "          City State     County  \\\n",
              "0  Sauk Centre    MN    Stearns   \n",
              "1       Fenton    MO  St. Louis   \n",
              "\n",
              "                                          Open_Hours Status  \\\n",
              "0  sunday :- 06:00 - 23:00 | monday :- 06:00 - 23...   Open   \n",
              "1  sunday :- 06:00 - 23:00 | monday :- 06:00 - 23...   Open   \n",
              "\n",
              "                     Sunday                     Monday  \\\n",
              "0  sunday :- 06:00 - 23:00    monday :- 06:00 - 23:00    \n",
              "1  sunday :- 06:00 - 23:00    monday :- 06:00 - 23:00    \n",
              "\n",
              "                      Tuesday                     Wednesday  \\\n",
              "0   tuesday :- 06:00 - 23:00    wednesday :- 06:00 - 23:00    \n",
              "1   tuesday :- 06:00 - 23:00    wednesday :- 06:00 - 23:00    \n",
              "\n",
              "                      Thursday                     Friday  \\\n",
              "0   thursday :- 06:00 - 23:00    friday :- 06:00 - 23:00    \n",
              "1   thursday :- 06:00 - 23:00    friday :- 06:00 - 23:00    \n",
              "\n",
              "                     Saturday  \n",
              "0   saturday :- 06:00 - 23:00  \n",
              "1   saturday :- 06:00 - 23:00  "
            ],
            "text/html": [
              "\n",
              "  <div id=\"df-a3f953e0-3eb9-49a8-b2e6-a6bdc4e1ff8c\">\n",
              "    <div class=\"colab-df-container\">\n",
              "      <div>\n",
              "<style scoped>\n",
              "    .dataframe tbody tr th:only-of-type {\n",
              "        vertical-align: middle;\n",
              "    }\n",
              "\n",
              "    .dataframe tbody tr th {\n",
              "        vertical-align: top;\n",
              "    }\n",
              "\n",
              "    .dataframe thead th {\n",
              "        text-align: right;\n",
              "    }\n",
              "</style>\n",
              "<table border=\"1\" class=\"dataframe\">\n",
              "  <thead>\n",
              "    <tr style=\"text-align: right;\">\n",
              "      <th></th>\n",
              "      <th>Name</th>\n",
              "      <th>Latitude</th>\n",
              "      <th>Longitude</th>\n",
              "      <th>Street</th>\n",
              "      <th>City</th>\n",
              "      <th>State</th>\n",
              "      <th>County</th>\n",
              "      <th>Open_Hours</th>\n",
              "      <th>Status</th>\n",
              "      <th>Sunday</th>\n",
              "      <th>Monday</th>\n",
              "      <th>Tuesday</th>\n",
              "      <th>Wednesday</th>\n",
              "      <th>Thursday</th>\n",
              "      <th>Friday</th>\n",
              "      <th>Saturday</th>\n",
              "    </tr>\n",
              "  </thead>\n",
              "  <tbody>\n",
              "    <tr>\n",
              "      <th>0</th>\n",
              "      <td>Sauk Centre Supercenter</td>\n",
              "      <td>45.720665</td>\n",
              "      <td>-94.947005</td>\n",
              "      <td>205 12th St S</td>\n",
              "      <td>Sauk Centre</td>\n",
              "      <td>MN</td>\n",
              "      <td>Stearns</td>\n",
              "      <td>sunday :- 06:00 - 23:00 | monday :- 06:00 - 23...</td>\n",
              "      <td>Open</td>\n",
              "      <td>sunday :- 06:00 - 23:00</td>\n",
              "      <td>monday :- 06:00 - 23:00</td>\n",
              "      <td>tuesday :- 06:00 - 23:00</td>\n",
              "      <td>wednesday :- 06:00 - 23:00</td>\n",
              "      <td>thursday :- 06:00 - 23:00</td>\n",
              "      <td>friday :- 06:00 - 23:00</td>\n",
              "      <td>saturday :- 06:00 - 23:00</td>\n",
              "    </tr>\n",
              "    <tr>\n",
              "      <th>1</th>\n",
              "      <td>Fenton Supercenter</td>\n",
              "      <td>38.510098</td>\n",
              "      <td>-90.438772</td>\n",
              "      <td>653 Gravois Bluffs Blvd</td>\n",
              "      <td>Fenton</td>\n",
              "      <td>MO</td>\n",
              "      <td>St. Louis</td>\n",
              "      <td>sunday :- 06:00 - 23:00 | monday :- 06:00 - 23...</td>\n",
              "      <td>Open</td>\n",
              "      <td>sunday :- 06:00 - 23:00</td>\n",
              "      <td>monday :- 06:00 - 23:00</td>\n",
              "      <td>tuesday :- 06:00 - 23:00</td>\n",
              "      <td>wednesday :- 06:00 - 23:00</td>\n",
              "      <td>thursday :- 06:00 - 23:00</td>\n",
              "      <td>friday :- 06:00 - 23:00</td>\n",
              "      <td>saturday :- 06:00 - 23:00</td>\n",
              "    </tr>\n",
              "  </tbody>\n",
              "</table>\n",
              "</div>\n",
              "      <button class=\"colab-df-convert\" onclick=\"convertToInteractive('df-a3f953e0-3eb9-49a8-b2e6-a6bdc4e1ff8c')\"\n",
              "              title=\"Convert this dataframe to an interactive table.\"\n",
              "              style=\"display:none;\">\n",
              "        \n",
              "  <svg xmlns=\"http://www.w3.org/2000/svg\" height=\"24px\"viewBox=\"0 0 24 24\"\n",
              "       width=\"24px\">\n",
              "    <path d=\"M0 0h24v24H0V0z\" fill=\"none\"/>\n",
              "    <path d=\"M18.56 5.44l.94 2.06.94-2.06 2.06-.94-2.06-.94-.94-2.06-.94 2.06-2.06.94zm-11 1L8.5 8.5l.94-2.06 2.06-.94-2.06-.94L8.5 2.5l-.94 2.06-2.06.94zm10 10l.94 2.06.94-2.06 2.06-.94-2.06-.94-.94-2.06-.94 2.06-2.06.94z\"/><path d=\"M17.41 7.96l-1.37-1.37c-.4-.4-.92-.59-1.43-.59-.52 0-1.04.2-1.43.59L10.3 9.45l-7.72 7.72c-.78.78-.78 2.05 0 2.83L4 21.41c.39.39.9.59 1.41.59.51 0 1.02-.2 1.41-.59l7.78-7.78 2.81-2.81c.8-.78.8-2.07 0-2.86zM5.41 20L4 18.59l7.72-7.72 1.47 1.35L5.41 20z\"/>\n",
              "  </svg>\n",
              "      </button>\n",
              "      \n",
              "  <style>\n",
              "    .colab-df-container {\n",
              "      display:flex;\n",
              "      flex-wrap:wrap;\n",
              "      gap: 12px;\n",
              "    }\n",
              "\n",
              "    .colab-df-convert {\n",
              "      background-color: #E8F0FE;\n",
              "      border: none;\n",
              "      border-radius: 50%;\n",
              "      cursor: pointer;\n",
              "      display: none;\n",
              "      fill: #1967D2;\n",
              "      height: 32px;\n",
              "      padding: 0 0 0 0;\n",
              "      width: 32px;\n",
              "    }\n",
              "\n",
              "    .colab-df-convert:hover {\n",
              "      background-color: #E2EBFA;\n",
              "      box-shadow: 0px 1px 2px rgba(60, 64, 67, 0.3), 0px 1px 3px 1px rgba(60, 64, 67, 0.15);\n",
              "      fill: #174EA6;\n",
              "    }\n",
              "\n",
              "    [theme=dark] .colab-df-convert {\n",
              "      background-color: #3B4455;\n",
              "      fill: #D2E3FC;\n",
              "    }\n",
              "\n",
              "    [theme=dark] .colab-df-convert:hover {\n",
              "      background-color: #434B5C;\n",
              "      box-shadow: 0px 1px 3px 1px rgba(0, 0, 0, 0.15);\n",
              "      filter: drop-shadow(0px 1px 2px rgba(0, 0, 0, 0.3));\n",
              "      fill: #FFFFFF;\n",
              "    }\n",
              "  </style>\n",
              "\n",
              "      <script>\n",
              "        const buttonEl =\n",
              "          document.querySelector('#df-a3f953e0-3eb9-49a8-b2e6-a6bdc4e1ff8c button.colab-df-convert');\n",
              "        buttonEl.style.display =\n",
              "          google.colab.kernel.accessAllowed ? 'block' : 'none';\n",
              "\n",
              "        async function convertToInteractive(key) {\n",
              "          const element = document.querySelector('#df-a3f953e0-3eb9-49a8-b2e6-a6bdc4e1ff8c');\n",
              "          const dataTable =\n",
              "            await google.colab.kernel.invokeFunction('convertToInteractive',\n",
              "                                                     [key], {});\n",
              "          if (!dataTable) return;\n",
              "\n",
              "          const docLinkHtml = 'Like what you see? Visit the ' +\n",
              "            '<a target=\"_blank\" href=https://colab.research.google.com/notebooks/data_table.ipynb>data table notebook</a>'\n",
              "            + ' to learn more about interactive tables.';\n",
              "          element.innerHTML = '';\n",
              "          dataTable['output_type'] = 'display_data';\n",
              "          await google.colab.output.renderOutput(dataTable, element);\n",
              "          const docLink = document.createElement('div');\n",
              "          docLink.innerHTML = docLinkHtml;\n",
              "          element.appendChild(docLink);\n",
              "        }\n",
              "      </script>\n",
              "    </div>\n",
              "  </div>\n",
              "  "
            ]
          },
          "metadata": {},
          "execution_count": 833
        }
      ]
    },
    {
      "cell_type": "code",
      "source": [
        "walmart['Sunday'].str.split(':-')\n",
        "walmart['Monday'].str.split(':-')\n",
        "walmart['Tuesday'].str.split(':-')\n",
        "walmart['Wednesday'].str.split(':-')\n",
        "walmart['Thursday'].str.split(':-')\n",
        "walmart['Friday'].str.split(':-')\n",
        "walmart['Saturday'].str.split(':-')"
      ],
      "metadata": {
        "colab": {
          "base_uri": "https://localhost:8080/"
        },
        "id": "Cel3EUXjE84o",
        "outputId": "aef9e809-c223-4337-9d00-d48fae018738"
      },
      "execution_count": null,
      "outputs": [
        {
          "output_type": "execute_result",
          "data": {
            "text/plain": [
              "0       [ saturday ,  06:00 - 23:00]\n",
              "1       [ saturday ,  06:00 - 23:00]\n",
              "2       [ saturday ,  06:00 - 23:00]\n",
              "3       [ saturday ,  06:00 - 23:00]\n",
              "4       [ saturday ,  06:00 - 23:00]\n",
              "                    ...             \n",
              "4661    [ saturday ,  06:00 - 23:00]\n",
              "4662    [ saturday ,  06:00 - 23:00]\n",
              "4663    [ saturday ,  06:00 - 23:00]\n",
              "4664    [ saturday ,  07:00 - 19:00]\n",
              "4665    [ saturday ,  07:00 - 19:00]\n",
              "Name: Saturday, Length: 4666, dtype: object"
            ]
          },
          "metadata": {},
          "execution_count": 834
        }
      ]
    },
    {
      "cell_type": "code",
      "source": [
        "walmart['Sunday_Hours']=walmart['Sunday'].str.split(':-').str[1]\n",
        "walmart['Monday_Hours']=walmart['Monday'].str.split(':-').str[1]\n",
        "walmart['Tuesday_Hours']=walmart['Tuesday'].str.split(':-').str[1]\n",
        "walmart['Wednesday_Hours']=walmart['Wednesday'].str.split(':-').str[1]\n",
        "walmart['Thursday_Hours']=walmart['Thursday'].str.split(':-').str[1]\n",
        "walmart['Friday_Hours']=walmart['Friday'].str.split(':-').str[1]\n",
        "walmart['Saturday_Hours']=walmart['Saturday'].str.split(':-').str[1]"
      ],
      "metadata": {
        "id": "hq3347gGEu1i"
      },
      "execution_count": null,
      "outputs": []
    },
    {
      "cell_type": "code",
      "source": [
        "walmart.head(2)"
      ],
      "metadata": {
        "colab": {
          "base_uri": "https://localhost:8080/",
          "height": 344
        },
        "id": "QbvGvlXYGRMR",
        "outputId": "5ce9fd1b-8124-491f-f175-252ffb65934a"
      },
      "execution_count": null,
      "outputs": [
        {
          "output_type": "execute_result",
          "data": {
            "text/plain": [
              "                      Name   Latitude  Longitude                   Street  \\\n",
              "0  Sauk Centre Supercenter  45.720665 -94.947005            205 12th St S   \n",
              "1       Fenton Supercenter  38.510098 -90.438772  653 Gravois Bluffs Blvd   \n",
              "\n",
              "          City State     County  \\\n",
              "0  Sauk Centre    MN    Stearns   \n",
              "1       Fenton    MO  St. Louis   \n",
              "\n",
              "                                          Open_Hours Status  \\\n",
              "0  sunday :- 06:00 - 23:00 | monday :- 06:00 - 23...   Open   \n",
              "1  sunday :- 06:00 - 23:00 | monday :- 06:00 - 23...   Open   \n",
              "\n",
              "                     Sunday  ...                     Thursday  \\\n",
              "0  sunday :- 06:00 - 23:00   ...   thursday :- 06:00 - 23:00    \n",
              "1  sunday :- 06:00 - 23:00   ...   thursday :- 06:00 - 23:00    \n",
              "\n",
              "                      Friday                    Saturday     Sunday_Hours  \\\n",
              "0   friday :- 06:00 - 23:00    saturday :- 06:00 - 23:00   06:00 - 23:00    \n",
              "1   friday :- 06:00 - 23:00    saturday :- 06:00 - 23:00   06:00 - 23:00    \n",
              "\n",
              "      Monday_Hours    Tuesday_Hours  Wednesday_Hours   Thursday_Hours  \\\n",
              "0   06:00 - 23:00    06:00 - 23:00    06:00 - 23:00    06:00 - 23:00    \n",
              "1   06:00 - 23:00    06:00 - 23:00    06:00 - 23:00    06:00 - 23:00    \n",
              "\n",
              "      Friday_Hours  Saturday_Hours  \n",
              "0   06:00 - 23:00    06:00 - 23:00  \n",
              "1   06:00 - 23:00    06:00 - 23:00  \n",
              "\n",
              "[2 rows x 23 columns]"
            ],
            "text/html": [
              "\n",
              "  <div id=\"df-b4b94525-6961-4b5f-a639-29e1f59db604\">\n",
              "    <div class=\"colab-df-container\">\n",
              "      <div>\n",
              "<style scoped>\n",
              "    .dataframe tbody tr th:only-of-type {\n",
              "        vertical-align: middle;\n",
              "    }\n",
              "\n",
              "    .dataframe tbody tr th {\n",
              "        vertical-align: top;\n",
              "    }\n",
              "\n",
              "    .dataframe thead th {\n",
              "        text-align: right;\n",
              "    }\n",
              "</style>\n",
              "<table border=\"1\" class=\"dataframe\">\n",
              "  <thead>\n",
              "    <tr style=\"text-align: right;\">\n",
              "      <th></th>\n",
              "      <th>Name</th>\n",
              "      <th>Latitude</th>\n",
              "      <th>Longitude</th>\n",
              "      <th>Street</th>\n",
              "      <th>City</th>\n",
              "      <th>State</th>\n",
              "      <th>County</th>\n",
              "      <th>Open_Hours</th>\n",
              "      <th>Status</th>\n",
              "      <th>Sunday</th>\n",
              "      <th>...</th>\n",
              "      <th>Thursday</th>\n",
              "      <th>Friday</th>\n",
              "      <th>Saturday</th>\n",
              "      <th>Sunday_Hours</th>\n",
              "      <th>Monday_Hours</th>\n",
              "      <th>Tuesday_Hours</th>\n",
              "      <th>Wednesday_Hours</th>\n",
              "      <th>Thursday_Hours</th>\n",
              "      <th>Friday_Hours</th>\n",
              "      <th>Saturday_Hours</th>\n",
              "    </tr>\n",
              "  </thead>\n",
              "  <tbody>\n",
              "    <tr>\n",
              "      <th>0</th>\n",
              "      <td>Sauk Centre Supercenter</td>\n",
              "      <td>45.720665</td>\n",
              "      <td>-94.947005</td>\n",
              "      <td>205 12th St S</td>\n",
              "      <td>Sauk Centre</td>\n",
              "      <td>MN</td>\n",
              "      <td>Stearns</td>\n",
              "      <td>sunday :- 06:00 - 23:00 | monday :- 06:00 - 23...</td>\n",
              "      <td>Open</td>\n",
              "      <td>sunday :- 06:00 - 23:00</td>\n",
              "      <td>...</td>\n",
              "      <td>thursday :- 06:00 - 23:00</td>\n",
              "      <td>friday :- 06:00 - 23:00</td>\n",
              "      <td>saturday :- 06:00 - 23:00</td>\n",
              "      <td>06:00 - 23:00</td>\n",
              "      <td>06:00 - 23:00</td>\n",
              "      <td>06:00 - 23:00</td>\n",
              "      <td>06:00 - 23:00</td>\n",
              "      <td>06:00 - 23:00</td>\n",
              "      <td>06:00 - 23:00</td>\n",
              "      <td>06:00 - 23:00</td>\n",
              "    </tr>\n",
              "    <tr>\n",
              "      <th>1</th>\n",
              "      <td>Fenton Supercenter</td>\n",
              "      <td>38.510098</td>\n",
              "      <td>-90.438772</td>\n",
              "      <td>653 Gravois Bluffs Blvd</td>\n",
              "      <td>Fenton</td>\n",
              "      <td>MO</td>\n",
              "      <td>St. Louis</td>\n",
              "      <td>sunday :- 06:00 - 23:00 | monday :- 06:00 - 23...</td>\n",
              "      <td>Open</td>\n",
              "      <td>sunday :- 06:00 - 23:00</td>\n",
              "      <td>...</td>\n",
              "      <td>thursday :- 06:00 - 23:00</td>\n",
              "      <td>friday :- 06:00 - 23:00</td>\n",
              "      <td>saturday :- 06:00 - 23:00</td>\n",
              "      <td>06:00 - 23:00</td>\n",
              "      <td>06:00 - 23:00</td>\n",
              "      <td>06:00 - 23:00</td>\n",
              "      <td>06:00 - 23:00</td>\n",
              "      <td>06:00 - 23:00</td>\n",
              "      <td>06:00 - 23:00</td>\n",
              "      <td>06:00 - 23:00</td>\n",
              "    </tr>\n",
              "  </tbody>\n",
              "</table>\n",
              "<p>2 rows × 23 columns</p>\n",
              "</div>\n",
              "      <button class=\"colab-df-convert\" onclick=\"convertToInteractive('df-b4b94525-6961-4b5f-a639-29e1f59db604')\"\n",
              "              title=\"Convert this dataframe to an interactive table.\"\n",
              "              style=\"display:none;\">\n",
              "        \n",
              "  <svg xmlns=\"http://www.w3.org/2000/svg\" height=\"24px\"viewBox=\"0 0 24 24\"\n",
              "       width=\"24px\">\n",
              "    <path d=\"M0 0h24v24H0V0z\" fill=\"none\"/>\n",
              "    <path d=\"M18.56 5.44l.94 2.06.94-2.06 2.06-.94-2.06-.94-.94-2.06-.94 2.06-2.06.94zm-11 1L8.5 8.5l.94-2.06 2.06-.94-2.06-.94L8.5 2.5l-.94 2.06-2.06.94zm10 10l.94 2.06.94-2.06 2.06-.94-2.06-.94-.94-2.06-.94 2.06-2.06.94z\"/><path d=\"M17.41 7.96l-1.37-1.37c-.4-.4-.92-.59-1.43-.59-.52 0-1.04.2-1.43.59L10.3 9.45l-7.72 7.72c-.78.78-.78 2.05 0 2.83L4 21.41c.39.39.9.59 1.41.59.51 0 1.02-.2 1.41-.59l7.78-7.78 2.81-2.81c.8-.78.8-2.07 0-2.86zM5.41 20L4 18.59l7.72-7.72 1.47 1.35L5.41 20z\"/>\n",
              "  </svg>\n",
              "      </button>\n",
              "      \n",
              "  <style>\n",
              "    .colab-df-container {\n",
              "      display:flex;\n",
              "      flex-wrap:wrap;\n",
              "      gap: 12px;\n",
              "    }\n",
              "\n",
              "    .colab-df-convert {\n",
              "      background-color: #E8F0FE;\n",
              "      border: none;\n",
              "      border-radius: 50%;\n",
              "      cursor: pointer;\n",
              "      display: none;\n",
              "      fill: #1967D2;\n",
              "      height: 32px;\n",
              "      padding: 0 0 0 0;\n",
              "      width: 32px;\n",
              "    }\n",
              "\n",
              "    .colab-df-convert:hover {\n",
              "      background-color: #E2EBFA;\n",
              "      box-shadow: 0px 1px 2px rgba(60, 64, 67, 0.3), 0px 1px 3px 1px rgba(60, 64, 67, 0.15);\n",
              "      fill: #174EA6;\n",
              "    }\n",
              "\n",
              "    [theme=dark] .colab-df-convert {\n",
              "      background-color: #3B4455;\n",
              "      fill: #D2E3FC;\n",
              "    }\n",
              "\n",
              "    [theme=dark] .colab-df-convert:hover {\n",
              "      background-color: #434B5C;\n",
              "      box-shadow: 0px 1px 3px 1px rgba(0, 0, 0, 0.15);\n",
              "      filter: drop-shadow(0px 1px 2px rgba(0, 0, 0, 0.3));\n",
              "      fill: #FFFFFF;\n",
              "    }\n",
              "  </style>\n",
              "\n",
              "      <script>\n",
              "        const buttonEl =\n",
              "          document.querySelector('#df-b4b94525-6961-4b5f-a639-29e1f59db604 button.colab-df-convert');\n",
              "        buttonEl.style.display =\n",
              "          google.colab.kernel.accessAllowed ? 'block' : 'none';\n",
              "\n",
              "        async function convertToInteractive(key) {\n",
              "          const element = document.querySelector('#df-b4b94525-6961-4b5f-a639-29e1f59db604');\n",
              "          const dataTable =\n",
              "            await google.colab.kernel.invokeFunction('convertToInteractive',\n",
              "                                                     [key], {});\n",
              "          if (!dataTable) return;\n",
              "\n",
              "          const docLinkHtml = 'Like what you see? Visit the ' +\n",
              "            '<a target=\"_blank\" href=https://colab.research.google.com/notebooks/data_table.ipynb>data table notebook</a>'\n",
              "            + ' to learn more about interactive tables.';\n",
              "          element.innerHTML = '';\n",
              "          dataTable['output_type'] = 'display_data';\n",
              "          await google.colab.output.renderOutput(dataTable, element);\n",
              "          const docLink = document.createElement('div');\n",
              "          docLink.innerHTML = docLinkHtml;\n",
              "          element.appendChild(docLink);\n",
              "        }\n",
              "      </script>\n",
              "    </div>\n",
              "  </div>\n",
              "  "
            ]
          },
          "metadata": {},
          "execution_count": 836
        }
      ]
    },
    {
      "cell_type": "code",
      "source": [
        "walmart.columns"
      ],
      "metadata": {
        "colab": {
          "base_uri": "https://localhost:8080/"
        },
        "id": "EvxYv0_RGdlK",
        "outputId": "db9ae482-4894-416e-9724-6f077bc4ab05"
      },
      "execution_count": null,
      "outputs": [
        {
          "output_type": "execute_result",
          "data": {
            "text/plain": [
              "Index(['Name', 'Latitude', 'Longitude', 'Street', 'City', 'State', 'County',\n",
              "       'Open_Hours', 'Status', 'Sunday', 'Monday', 'Tuesday', 'Wednesday',\n",
              "       'Thursday', 'Friday', 'Saturday', 'Sunday_Hours', 'Monday_Hours',\n",
              "       'Tuesday_Hours', 'Wednesday_Hours', 'Thursday_Hours', 'Friday_Hours',\n",
              "       'Saturday_Hours'],\n",
              "      dtype='object')"
            ]
          },
          "metadata": {},
          "execution_count": 837
        }
      ]
    },
    {
      "cell_type": "code",
      "source": [
        "walmart.drop(['Open_Hours','Sunday', 'Monday', 'Tuesday', 'Wednesday',\n",
        "       'Thursday', 'Friday', 'Saturday'], axis=1, inplace=True)"
      ],
      "metadata": {
        "id": "ssiBH_rzGiNx"
      },
      "execution_count": null,
      "outputs": []
    },
    {
      "cell_type": "code",
      "source": [
        "walmart.head(2)"
      ],
      "metadata": {
        "colab": {
          "base_uri": "https://localhost:8080/",
          "height": 263
        },
        "id": "gkUMkZndGz3Q",
        "outputId": "729fedbd-d1c5-4315-834e-d33c732564b2"
      },
      "execution_count": null,
      "outputs": [
        {
          "output_type": "execute_result",
          "data": {
            "text/plain": [
              "                      Name   Latitude  Longitude                   Street  \\\n",
              "0  Sauk Centre Supercenter  45.720665 -94.947005            205 12th St S   \n",
              "1       Fenton Supercenter  38.510098 -90.438772  653 Gravois Bluffs Blvd   \n",
              "\n",
              "          City State     County Status     Sunday_Hours     Monday_Hours  \\\n",
              "0  Sauk Centre    MN    Stearns   Open   06:00 - 23:00    06:00 - 23:00    \n",
              "1       Fenton    MO  St. Louis   Open   06:00 - 23:00    06:00 - 23:00    \n",
              "\n",
              "     Tuesday_Hours  Wednesday_Hours   Thursday_Hours     Friday_Hours  \\\n",
              "0   06:00 - 23:00    06:00 - 23:00    06:00 - 23:00    06:00 - 23:00    \n",
              "1   06:00 - 23:00    06:00 - 23:00    06:00 - 23:00    06:00 - 23:00    \n",
              "\n",
              "   Saturday_Hours  \n",
              "0   06:00 - 23:00  \n",
              "1   06:00 - 23:00  "
            ],
            "text/html": [
              "\n",
              "  <div id=\"df-78f85021-d25b-42fa-aa4e-9482d9bfed7e\">\n",
              "    <div class=\"colab-df-container\">\n",
              "      <div>\n",
              "<style scoped>\n",
              "    .dataframe tbody tr th:only-of-type {\n",
              "        vertical-align: middle;\n",
              "    }\n",
              "\n",
              "    .dataframe tbody tr th {\n",
              "        vertical-align: top;\n",
              "    }\n",
              "\n",
              "    .dataframe thead th {\n",
              "        text-align: right;\n",
              "    }\n",
              "</style>\n",
              "<table border=\"1\" class=\"dataframe\">\n",
              "  <thead>\n",
              "    <tr style=\"text-align: right;\">\n",
              "      <th></th>\n",
              "      <th>Name</th>\n",
              "      <th>Latitude</th>\n",
              "      <th>Longitude</th>\n",
              "      <th>Street</th>\n",
              "      <th>City</th>\n",
              "      <th>State</th>\n",
              "      <th>County</th>\n",
              "      <th>Status</th>\n",
              "      <th>Sunday_Hours</th>\n",
              "      <th>Monday_Hours</th>\n",
              "      <th>Tuesday_Hours</th>\n",
              "      <th>Wednesday_Hours</th>\n",
              "      <th>Thursday_Hours</th>\n",
              "      <th>Friday_Hours</th>\n",
              "      <th>Saturday_Hours</th>\n",
              "    </tr>\n",
              "  </thead>\n",
              "  <tbody>\n",
              "    <tr>\n",
              "      <th>0</th>\n",
              "      <td>Sauk Centre Supercenter</td>\n",
              "      <td>45.720665</td>\n",
              "      <td>-94.947005</td>\n",
              "      <td>205 12th St S</td>\n",
              "      <td>Sauk Centre</td>\n",
              "      <td>MN</td>\n",
              "      <td>Stearns</td>\n",
              "      <td>Open</td>\n",
              "      <td>06:00 - 23:00</td>\n",
              "      <td>06:00 - 23:00</td>\n",
              "      <td>06:00 - 23:00</td>\n",
              "      <td>06:00 - 23:00</td>\n",
              "      <td>06:00 - 23:00</td>\n",
              "      <td>06:00 - 23:00</td>\n",
              "      <td>06:00 - 23:00</td>\n",
              "    </tr>\n",
              "    <tr>\n",
              "      <th>1</th>\n",
              "      <td>Fenton Supercenter</td>\n",
              "      <td>38.510098</td>\n",
              "      <td>-90.438772</td>\n",
              "      <td>653 Gravois Bluffs Blvd</td>\n",
              "      <td>Fenton</td>\n",
              "      <td>MO</td>\n",
              "      <td>St. Louis</td>\n",
              "      <td>Open</td>\n",
              "      <td>06:00 - 23:00</td>\n",
              "      <td>06:00 - 23:00</td>\n",
              "      <td>06:00 - 23:00</td>\n",
              "      <td>06:00 - 23:00</td>\n",
              "      <td>06:00 - 23:00</td>\n",
              "      <td>06:00 - 23:00</td>\n",
              "      <td>06:00 - 23:00</td>\n",
              "    </tr>\n",
              "  </tbody>\n",
              "</table>\n",
              "</div>\n",
              "      <button class=\"colab-df-convert\" onclick=\"convertToInteractive('df-78f85021-d25b-42fa-aa4e-9482d9bfed7e')\"\n",
              "              title=\"Convert this dataframe to an interactive table.\"\n",
              "              style=\"display:none;\">\n",
              "        \n",
              "  <svg xmlns=\"http://www.w3.org/2000/svg\" height=\"24px\"viewBox=\"0 0 24 24\"\n",
              "       width=\"24px\">\n",
              "    <path d=\"M0 0h24v24H0V0z\" fill=\"none\"/>\n",
              "    <path d=\"M18.56 5.44l.94 2.06.94-2.06 2.06-.94-2.06-.94-.94-2.06-.94 2.06-2.06.94zm-11 1L8.5 8.5l.94-2.06 2.06-.94-2.06-.94L8.5 2.5l-.94 2.06-2.06.94zm10 10l.94 2.06.94-2.06 2.06-.94-2.06-.94-.94-2.06-.94 2.06-2.06.94z\"/><path d=\"M17.41 7.96l-1.37-1.37c-.4-.4-.92-.59-1.43-.59-.52 0-1.04.2-1.43.59L10.3 9.45l-7.72 7.72c-.78.78-.78 2.05 0 2.83L4 21.41c.39.39.9.59 1.41.59.51 0 1.02-.2 1.41-.59l7.78-7.78 2.81-2.81c.8-.78.8-2.07 0-2.86zM5.41 20L4 18.59l7.72-7.72 1.47 1.35L5.41 20z\"/>\n",
              "  </svg>\n",
              "      </button>\n",
              "      \n",
              "  <style>\n",
              "    .colab-df-container {\n",
              "      display:flex;\n",
              "      flex-wrap:wrap;\n",
              "      gap: 12px;\n",
              "    }\n",
              "\n",
              "    .colab-df-convert {\n",
              "      background-color: #E8F0FE;\n",
              "      border: none;\n",
              "      border-radius: 50%;\n",
              "      cursor: pointer;\n",
              "      display: none;\n",
              "      fill: #1967D2;\n",
              "      height: 32px;\n",
              "      padding: 0 0 0 0;\n",
              "      width: 32px;\n",
              "    }\n",
              "\n",
              "    .colab-df-convert:hover {\n",
              "      background-color: #E2EBFA;\n",
              "      box-shadow: 0px 1px 2px rgba(60, 64, 67, 0.3), 0px 1px 3px 1px rgba(60, 64, 67, 0.15);\n",
              "      fill: #174EA6;\n",
              "    }\n",
              "\n",
              "    [theme=dark] .colab-df-convert {\n",
              "      background-color: #3B4455;\n",
              "      fill: #D2E3FC;\n",
              "    }\n",
              "\n",
              "    [theme=dark] .colab-df-convert:hover {\n",
              "      background-color: #434B5C;\n",
              "      box-shadow: 0px 1px 3px 1px rgba(0, 0, 0, 0.15);\n",
              "      filter: drop-shadow(0px 1px 2px rgba(0, 0, 0, 0.3));\n",
              "      fill: #FFFFFF;\n",
              "    }\n",
              "  </style>\n",
              "\n",
              "      <script>\n",
              "        const buttonEl =\n",
              "          document.querySelector('#df-78f85021-d25b-42fa-aa4e-9482d9bfed7e button.colab-df-convert');\n",
              "        buttonEl.style.display =\n",
              "          google.colab.kernel.accessAllowed ? 'block' : 'none';\n",
              "\n",
              "        async function convertToInteractive(key) {\n",
              "          const element = document.querySelector('#df-78f85021-d25b-42fa-aa4e-9482d9bfed7e');\n",
              "          const dataTable =\n",
              "            await google.colab.kernel.invokeFunction('convertToInteractive',\n",
              "                                                     [key], {});\n",
              "          if (!dataTable) return;\n",
              "\n",
              "          const docLinkHtml = 'Like what you see? Visit the ' +\n",
              "            '<a target=\"_blank\" href=https://colab.research.google.com/notebooks/data_table.ipynb>data table notebook</a>'\n",
              "            + ' to learn more about interactive tables.';\n",
              "          element.innerHTML = '';\n",
              "          dataTable['output_type'] = 'display_data';\n",
              "          await google.colab.output.renderOutput(dataTable, element);\n",
              "          const docLink = document.createElement('div');\n",
              "          docLink.innerHTML = docLinkHtml;\n",
              "          element.appendChild(docLink);\n",
              "        }\n",
              "      </script>\n",
              "    </div>\n",
              "  </div>\n",
              "  "
            ]
          },
          "metadata": {},
          "execution_count": 839
        }
      ]
    },
    {
      "cell_type": "code",
      "source": [
        "walmart.info()"
      ],
      "metadata": {
        "colab": {
          "base_uri": "https://localhost:8080/"
        },
        "id": "9z7RfKDeHKD8",
        "outputId": "d5ef6833-16ba-486f-eb96-0a9709c815be"
      },
      "execution_count": null,
      "outputs": [
        {
          "output_type": "stream",
          "name": "stdout",
          "text": [
            "<class 'pandas.core.frame.DataFrame'>\n",
            "RangeIndex: 4666 entries, 0 to 4665\n",
            "Data columns (total 15 columns):\n",
            " #   Column           Non-Null Count  Dtype  \n",
            "---  ------           --------------  -----  \n",
            " 0   Name             4666 non-null   object \n",
            " 1   Latitude         4666 non-null   float64\n",
            " 2   Longitude        4666 non-null   float64\n",
            " 3   Street           4666 non-null   object \n",
            " 4   City             4666 non-null   object \n",
            " 5   State            4666 non-null   object \n",
            " 6   County           4666 non-null   object \n",
            " 7   Status           4666 non-null   object \n",
            " 8   Sunday_Hours     4660 non-null   object \n",
            " 9   Monday_Hours     4660 non-null   object \n",
            " 10  Tuesday_Hours    4660 non-null   object \n",
            " 11  Wednesday_Hours  4660 non-null   object \n",
            " 12  Thursday_Hours   4660 non-null   object \n",
            " 13  Friday_Hours     4655 non-null   object \n",
            " 14  Saturday_Hours   4652 non-null   object \n",
            "dtypes: float64(2), object(13)\n",
            "memory usage: 546.9+ KB\n"
          ]
        }
      ]
    },
    {
      "cell_type": "markdown",
      "source": [
        "**inside this data their is null values in Hours of each day so by checking the percentage we need to fill the hours to clean the data**..\\\n",
        " "
      ],
      "metadata": {
        "id": "-xuDPOEH4D62"
      }
    },
    {
      "cell_type": "code",
      "source": [
        "walmart.isnull().sum()"
      ],
      "metadata": {
        "colab": {
          "base_uri": "https://localhost:8080/"
        },
        "outputId": "40bd501c-f07d-44cf-ba69-b378df839dcb",
        "id": "MS5fON7l4D63"
      },
      "execution_count": null,
      "outputs": [
        {
          "output_type": "execute_result",
          "data": {
            "text/plain": [
              "Name                0\n",
              "Latitude            0\n",
              "Longitude           0\n",
              "Street              0\n",
              "City                0\n",
              "State               0\n",
              "County              0\n",
              "Status              0\n",
              "Sunday_Hours        6\n",
              "Monday_Hours        6\n",
              "Tuesday_Hours       6\n",
              "Wednesday_Hours     6\n",
              "Thursday_Hours      6\n",
              "Friday_Hours       11\n",
              "Saturday_Hours     14\n",
              "dtype: int64"
            ]
          },
          "metadata": {},
          "execution_count": 841
        }
      ]
    },
    {
      "cell_type": "code",
      "source": [
        "walmart.shape[0]"
      ],
      "metadata": {
        "colab": {
          "base_uri": "https://localhost:8080/"
        },
        "outputId": "27e16eba-de10-4baa-b01f-6c8151733257",
        "id": "vsYnTxzn4D63"
      },
      "execution_count": null,
      "outputs": [
        {
          "output_type": "execute_result",
          "data": {
            "text/plain": [
              "4666"
            ]
          },
          "metadata": {},
          "execution_count": 842
        }
      ]
    },
    {
      "cell_type": "code",
      "source": [
        "#Sunday Hours Splitting\n",
        "\n",
        "# so we have 4666 number of rows, out of which only 6 columns are missing, so lets calculate the ratio for sunday_hours\n",
        "walmart.Sunday_Hours.isnull().sum()/walmart.shape[0]"
      ],
      "metadata": {
        "colab": {
          "base_uri": "https://localhost:8080/"
        },
        "outputId": "93debc1b-e5db-4abe-9ad0-6dc90e1f2fca",
        "id": "G5fxHskl4D64"
      },
      "execution_count": null,
      "outputs": [
        {
          "output_type": "execute_result",
          "data": {
            "text/plain": [
              "0.0012858979854264896"
            ]
          },
          "metadata": {},
          "execution_count": 843
        }
      ]
    },
    {
      "cell_type": "code",
      "source": [
        "100*(walmart.Sunday_Hours.isnull().sum()/walmart.shape[0])"
      ],
      "metadata": {
        "colab": {
          "base_uri": "https://localhost:8080/"
        },
        "outputId": "9ac8cf78-6815-49c2-a701-5bce8f029221",
        "id": "6GCf6ad64D64"
      },
      "execution_count": null,
      "outputs": [
        {
          "output_type": "execute_result",
          "data": {
            "text/plain": [
              "0.12858979854264896"
            ]
          },
          "metadata": {},
          "execution_count": 844
        }
      ]
    },
    {
      "cell_type": "markdown",
      "source": [
        "**This is quite high, so we can't delete it, in such case we have to handle to the missing values by replacing with some values.**"
      ],
      "metadata": {
        "id": "5kbAe-DW4D65"
      }
    },
    {
      "cell_type": "code",
      "source": [
        "walmart.Sunday_Hours.mode()"
      ],
      "metadata": {
        "colab": {
          "base_uri": "https://localhost:8080/"
        },
        "outputId": "e158770d-b40c-4927-f2a5-7890581c1410",
        "id": "SC0x2laC4D65"
      },
      "execution_count": null,
      "outputs": [
        {
          "output_type": "execute_result",
          "data": {
            "text/plain": [
              "0     06:00 - 23:00 \n",
              "dtype: object"
            ]
          },
          "metadata": {},
          "execution_count": 845
        }
      ]
    },
    {
      "cell_type": "code",
      "source": [
        "Sunday_Hours_mode=walmart.Sunday_Hours.mode()\n",
        "Sunday_Hours_mode"
      ],
      "metadata": {
        "colab": {
          "base_uri": "https://localhost:8080/"
        },
        "outputId": "2787410d-908c-4929-f054-58e296fb45c3",
        "id": "sWfysdZ94D65"
      },
      "execution_count": null,
      "outputs": [
        {
          "output_type": "execute_result",
          "data": {
            "text/plain": [
              "0     06:00 - 23:00 \n",
              "dtype: object"
            ]
          },
          "metadata": {},
          "execution_count": 846
        }
      ]
    },
    {
      "cell_type": "code",
      "source": [
        "Sunday_Hours_mode[0]"
      ],
      "metadata": {
        "colab": {
          "base_uri": "https://localhost:8080/",
          "height": 36
        },
        "id": "HtbX_FLiJbnJ",
        "outputId": "9cc03549-afdf-457c-9e1b-a678327128b9"
      },
      "execution_count": null,
      "outputs": [
        {
          "output_type": "execute_result",
          "data": {
            "text/plain": [
              "' 06:00 - 23:00 '"
            ],
            "application/vnd.google.colaboratory.intrinsic+json": {
              "type": "string"
            }
          },
          "metadata": {},
          "execution_count": 847
        }
      ]
    },
    {
      "cell_type": "code",
      "source": [
        "walmart.Sunday_Hours.fillna(Sunday_Hours_mode[0],inplace=True)\n",
        "walmart.Sunday_Hours.value_counts(normalize=True)"
      ],
      "metadata": {
        "id": "Pz63OSJD4D66",
        "colab": {
          "base_uri": "https://localhost:8080/"
        },
        "outputId": "47b6f9df-fd67-4604-ae88-0420a8ac90d1"
      },
      "execution_count": null,
      "outputs": [
        {
          "output_type": "execute_result",
          "data": {
            "text/plain": [
              " 06:00 - 23:00     0.912773\n",
              " 07:00 - 23:00     0.047150\n",
              " 06:00 - 22:00     0.025075\n",
              " 07:00 - 22:00     0.003000\n",
              " 07:00 - 19:00     0.001500\n",
              " 06:00 - 21:00     0.001286\n",
              " 07:00 - 20:30     0.001072\n",
              " 07:00 - 21:00     0.001072\n",
              " 06:00 - 20:00     0.000857\n",
              " 06:00 - 00:00     0.000643\n",
              " 08:00 - 22:00     0.000643\n",
              " 07:00 - 20:00     0.000643\n",
              " 09:00 - 17:30     0.000429\n",
              " 08:00 - 19:00     0.000429\n",
              " 09:00 - 20:30     0.000429\n",
              " 08:00 - 21:00     0.000429\n",
              " 08:00 - 23:00     0.000429\n",
              " 06:00 - 22:30     0.000214\n",
              " 06:00 - 20:30     0.000214\n",
              " 08:00 - 19:30     0.000214\n",
              " 08:00 - 20:00     0.000214\n",
              " 07:00 - 21:30     0.000214\n",
              " 05:45 - 23:15     0.000214\n",
              " 07:00 - 18:15     0.000214\n",
              " 05:00 - 23:00     0.000214\n",
              " 08:00 - 18:00     0.000214\n",
              " 07:30 - 20:30     0.000214\n",
              "Name: Sunday_Hours, dtype: float64"
            ]
          },
          "metadata": {},
          "execution_count": 848
        }
      ]
    },
    {
      "cell_type": "code",
      "source": [
        "walmart.Sunday_Hours.isnull().sum()\n",
        "# so finally the null values of the Sunday Hours is filled by mode values."
      ],
      "metadata": {
        "colab": {
          "base_uri": "https://localhost:8080/"
        },
        "outputId": "417b6d2f-5d04-4016-eef6-d98fd3f80dac",
        "id": "9XvMypO24D66"
      },
      "execution_count": null,
      "outputs": [
        {
          "output_type": "execute_result",
          "data": {
            "text/plain": [
              "0"
            ]
          },
          "metadata": {},
          "execution_count": 849
        }
      ]
    },
    {
      "cell_type": "code",
      "source": [
        "#Monday Hours Splitting\n",
        "\n",
        "100*(walmart.Monday_Hours.isnull().sum()/walmart.shape[0])\n",
        "#the percentage of null values is high in Monday hours so we need to replace null values by most repeated value"
      ],
      "metadata": {
        "colab": {
          "base_uri": "https://localhost:8080/"
        },
        "id": "8OUlPhYqJ_79",
        "outputId": "4cb998fc-f302-4afe-bf02-701adf289995"
      },
      "execution_count": null,
      "outputs": [
        {
          "output_type": "execute_result",
          "data": {
            "text/plain": [
              "0.12858979854264896"
            ]
          },
          "metadata": {},
          "execution_count": 850
        }
      ]
    },
    {
      "cell_type": "code",
      "source": [
        "walmart.Monday_Hours.mode()"
      ],
      "metadata": {
        "colab": {
          "base_uri": "https://localhost:8080/"
        },
        "outputId": "229db59d-6347-4bb1-b5de-ec22a0b2b257",
        "id": "YDhshmVZLIoN"
      },
      "execution_count": null,
      "outputs": [
        {
          "output_type": "execute_result",
          "data": {
            "text/plain": [
              "0     06:00 - 23:00 \n",
              "dtype: object"
            ]
          },
          "metadata": {},
          "execution_count": 851
        }
      ]
    },
    {
      "cell_type": "code",
      "source": [
        "Monday_Hours_mode=walmart.Monday_Hours.mode()\n",
        "Monday_Hours_mode"
      ],
      "metadata": {
        "colab": {
          "base_uri": "https://localhost:8080/"
        },
        "outputId": "6b709e05-94ee-42c3-8adc-6a6acfe1edd7",
        "id": "AGdW0cIALIoN"
      },
      "execution_count": null,
      "outputs": [
        {
          "output_type": "execute_result",
          "data": {
            "text/plain": [
              "0     06:00 - 23:00 \n",
              "dtype: object"
            ]
          },
          "metadata": {},
          "execution_count": 852
        }
      ]
    },
    {
      "cell_type": "code",
      "source": [
        "Monday_Hours_mode[0]"
      ],
      "metadata": {
        "colab": {
          "base_uri": "https://localhost:8080/",
          "height": 36
        },
        "outputId": "07ed6fa7-0ed8-4290-ee50-2505442a8c12",
        "id": "Nm4gyaj7LIoN"
      },
      "execution_count": null,
      "outputs": [
        {
          "output_type": "execute_result",
          "data": {
            "text/plain": [
              "' 06:00 - 23:00 '"
            ],
            "application/vnd.google.colaboratory.intrinsic+json": {
              "type": "string"
            }
          },
          "metadata": {},
          "execution_count": 853
        }
      ]
    },
    {
      "cell_type": "code",
      "source": [
        "walmart.Monday_Hours.fillna(Monday_Hours_mode[0],inplace=True)\n",
        "walmart.Monday_Hours.value_counts(normalize=True)"
      ],
      "metadata": {
        "colab": {
          "base_uri": "https://localhost:8080/"
        },
        "outputId": "52d070ec-2634-4153-dd4d-1d5fa1135ddc",
        "id": "UJxZcWlJLIoO"
      },
      "execution_count": null,
      "outputs": [
        {
          "output_type": "execute_result",
          "data": {
            "text/plain": [
              " 06:00 - 23:00     0.913416\n",
              " 07:00 - 23:00     0.047150\n",
              " 06:00 - 22:00     0.025504\n",
              " 07:00 - 22:00     0.003429\n",
              " 07:00 - 19:00     0.001500\n",
              " 07:00 - 20:30     0.001072\n",
              " 07:00 - 21:00     0.001072\n",
              " 06:00 - 20:00     0.000857\n",
              " 06:00 - 21:00     0.000643\n",
              " 08:00 - 23:00     0.000429\n",
              " 09:00 - 17:30     0.000429\n",
              " 08:00 - 19:00     0.000429\n",
              " 09:00 - 20:30     0.000429\n",
              " 06:00 - 18:00     0.000429\n",
              " 06:00 - 22:30     0.000214\n",
              " 08:00 - 22:00     0.000214\n",
              " 06:00 - 20:30     0.000214\n",
              " 08:00 - 21:00     0.000214\n",
              " 06:00 - 17:30     0.000214\n",
              " 10:00 - 19:30     0.000214\n",
              " 08:00 - 20:00     0.000214\n",
              " 07:00 - 21:30     0.000214\n",
              " 06:00 - 10:00     0.000214\n",
              " 05:45 - 23:15     0.000214\n",
              " 07:00 - 18:15     0.000214\n",
              " 05:00 - 23:00     0.000214\n",
              " 07:00 - 20:00     0.000214\n",
              " 08:00 - 18:00     0.000214\n",
              " 07:30 - 20:30     0.000214\n",
              "Name: Monday_Hours, dtype: float64"
            ]
          },
          "metadata": {},
          "execution_count": 854
        }
      ]
    },
    {
      "cell_type": "code",
      "source": [
        "walmart.Monday_Hours.isnull().sum()"
      ],
      "metadata": {
        "colab": {
          "base_uri": "https://localhost:8080/"
        },
        "outputId": "87488f1d-779d-41c6-f8b9-ad3f22ac8608",
        "id": "Qpt6Y2CWLIoO"
      },
      "execution_count": null,
      "outputs": [
        {
          "output_type": "execute_result",
          "data": {
            "text/plain": [
              "0"
            ]
          },
          "metadata": {},
          "execution_count": 855
        }
      ]
    },
    {
      "cell_type": "code",
      "source": [
        "#Filling Tuesday Hours\n",
        "\n",
        "100*(walmart.Tuesday_Hours.isnull().sum()/walmart.shape[0])\n",
        "#the percentage of null values is high in Tuesady hours so we need to replace null values by most repeated value"
      ],
      "metadata": {
        "colab": {
          "base_uri": "https://localhost:8080/"
        },
        "id": "r55JsPz0KGJT",
        "outputId": "27e60297-fb3e-4a04-849f-434c18dc198c"
      },
      "execution_count": null,
      "outputs": [
        {
          "output_type": "execute_result",
          "data": {
            "text/plain": [
              "0.12858979854264896"
            ]
          },
          "metadata": {},
          "execution_count": 856
        }
      ]
    },
    {
      "cell_type": "code",
      "source": [
        "walmart.Tuesday_Hours.mode()"
      ],
      "metadata": {
        "colab": {
          "base_uri": "https://localhost:8080/"
        },
        "outputId": "f443f681-0def-4d2b-ab32-a2efb0efc435",
        "id": "Uy3N_0wPLt92"
      },
      "execution_count": null,
      "outputs": [
        {
          "output_type": "execute_result",
          "data": {
            "text/plain": [
              "0     06:00 - 23:00 \n",
              "dtype: object"
            ]
          },
          "metadata": {},
          "execution_count": 857
        }
      ]
    },
    {
      "cell_type": "code",
      "source": [
        "Tuesday_Hours_mode=walmart.Tuesday_Hours.mode()\n",
        "Tuesday_Hours_mode"
      ],
      "metadata": {
        "colab": {
          "base_uri": "https://localhost:8080/"
        },
        "outputId": "8a3a7576-33f6-4e91-af70-1b8b02a8f5a5",
        "id": "RW4X_ZGkLt93"
      },
      "execution_count": null,
      "outputs": [
        {
          "output_type": "execute_result",
          "data": {
            "text/plain": [
              "0     06:00 - 23:00 \n",
              "dtype: object"
            ]
          },
          "metadata": {},
          "execution_count": 858
        }
      ]
    },
    {
      "cell_type": "code",
      "source": [
        "Tuesday_Hours_mode[0]"
      ],
      "metadata": {
        "colab": {
          "base_uri": "https://localhost:8080/",
          "height": 36
        },
        "outputId": "97b2337f-74b7-458c-9b0b-610d84546cdd",
        "id": "9Tk8yQYiLt93"
      },
      "execution_count": null,
      "outputs": [
        {
          "output_type": "execute_result",
          "data": {
            "text/plain": [
              "' 06:00 - 23:00 '"
            ],
            "application/vnd.google.colaboratory.intrinsic+json": {
              "type": "string"
            }
          },
          "metadata": {},
          "execution_count": 859
        }
      ]
    },
    {
      "cell_type": "code",
      "source": [
        "walmart.Tuesday_Hours.fillna(Tuesday_Hours_mode[0],inplace=True)\n",
        "walmart.Tuesday_Hours.value_counts(normalize=True)"
      ],
      "metadata": {
        "colab": {
          "base_uri": "https://localhost:8080/"
        },
        "outputId": "4636bcfc-9e04-455d-90c6-beb9e763089d",
        "id": "N2y662FwLt94"
      },
      "execution_count": null,
      "outputs": [
        {
          "output_type": "execute_result",
          "data": {
            "text/plain": [
              " 06:00 - 23:00     0.902486\n",
              " 07:00 - 23:00     0.057437\n",
              " 06:00 - 22:00     0.025932\n",
              " 07:00 - 22:00     0.003429\n",
              " 07:00 - 19:00     0.001500\n",
              " 07:00 - 20:30     0.001286\n",
              " 07:00 - 21:00     0.001072\n",
              " 06:00 - 20:00     0.000857\n",
              " 06:00 - 21:00     0.000643\n",
              " 08:00 - 23:00     0.000429\n",
              " 09:00 - 17:30     0.000429\n",
              " 08:00 - 19:00     0.000429\n",
              " 09:00 - 20:30     0.000429\n",
              " 07:00 - 18:00     0.000429\n",
              " 06:00 - 22:30     0.000214\n",
              " 08:00 - 22:00     0.000214\n",
              " 08:00 - 21:00     0.000214\n",
              " 07:00 - 17:30     0.000214\n",
              " 10:00 - 19:30     0.000214\n",
              " 08:00 - 20:00     0.000214\n",
              " 12:30 - 23:00     0.000214\n",
              " 07:00 - 21:30     0.000214\n",
              " 06:00 - 23:15     0.000214\n",
              " 07:00 - 18:15     0.000214\n",
              " 06:00 - 11:00     0.000214\n",
              " 05:00 - 23:00     0.000214\n",
              " 07:00 - 20:00     0.000214\n",
              " 08:00 - 18:00     0.000214\n",
              " 07:30 - 20:30     0.000214\n",
              "Name: Tuesday_Hours, dtype: float64"
            ]
          },
          "metadata": {},
          "execution_count": 860
        }
      ]
    },
    {
      "cell_type": "code",
      "source": [
        "walmart.Tuesday_Hours.isnull().sum()"
      ],
      "metadata": {
        "colab": {
          "base_uri": "https://localhost:8080/"
        },
        "outputId": "450d60dd-e721-40c3-bab3-ba7dd8438a7b",
        "id": "vcr0ChiMLt94"
      },
      "execution_count": null,
      "outputs": [
        {
          "output_type": "execute_result",
          "data": {
            "text/plain": [
              "0"
            ]
          },
          "metadata": {},
          "execution_count": 861
        }
      ]
    },
    {
      "cell_type": "code",
      "source": [
        "#filling Wednesday Hours\n",
        "\n",
        "100*(walmart.Wednesday_Hours.isnull().sum()/walmart.shape[0])\n",
        "#the percentage of null values is high in Wednesday hours so we need to replace null values by most repeated value"
      ],
      "metadata": {
        "colab": {
          "base_uri": "https://localhost:8080/"
        },
        "id": "-GF3AxlkKJt-",
        "outputId": "78a2a308-4c17-4b5d-ef31-b0bff01e1926"
      },
      "execution_count": null,
      "outputs": [
        {
          "output_type": "execute_result",
          "data": {
            "text/plain": [
              "0.12858979854264896"
            ]
          },
          "metadata": {},
          "execution_count": 862
        }
      ]
    },
    {
      "cell_type": "code",
      "source": [
        ""
      ],
      "metadata": {
        "id": "K_fwf5NAM3U1"
      },
      "execution_count": null,
      "outputs": []
    },
    {
      "cell_type": "code",
      "source": [
        "walmart.Wednesday_Hours.mode()"
      ],
      "metadata": {
        "colab": {
          "base_uri": "https://localhost:8080/"
        },
        "outputId": "53dae47f-f509-4d72-d46d-3ec3348c4397",
        "id": "FV0YLXHnM-Te"
      },
      "execution_count": null,
      "outputs": [
        {
          "output_type": "execute_result",
          "data": {
            "text/plain": [
              "0     06:00 - 23:00 \n",
              "dtype: object"
            ]
          },
          "metadata": {},
          "execution_count": 863
        }
      ]
    },
    {
      "cell_type": "code",
      "source": [
        "Wednesday_Hours_mode=walmart.Wednesday_Hours.mode()\n",
        "Wednesday_Hours_mode"
      ],
      "metadata": {
        "colab": {
          "base_uri": "https://localhost:8080/"
        },
        "outputId": "618f0f30-4d2e-44f3-8c09-1fc4083ade89",
        "id": "uJ_jI0FdM-Tf"
      },
      "execution_count": null,
      "outputs": [
        {
          "output_type": "execute_result",
          "data": {
            "text/plain": [
              "0     06:00 - 23:00 \n",
              "dtype: object"
            ]
          },
          "metadata": {},
          "execution_count": 864
        }
      ]
    },
    {
      "cell_type": "code",
      "source": [
        "Wednesday_Hours_mode[0]"
      ],
      "metadata": {
        "colab": {
          "base_uri": "https://localhost:8080/",
          "height": 36
        },
        "outputId": "ed39a885-edca-46a4-d0ad-ee9cbf599248",
        "id": "GBkZB7IEM-Tf"
      },
      "execution_count": null,
      "outputs": [
        {
          "output_type": "execute_result",
          "data": {
            "text/plain": [
              "' 06:00 - 23:00 '"
            ],
            "application/vnd.google.colaboratory.intrinsic+json": {
              "type": "string"
            }
          },
          "metadata": {},
          "execution_count": 865
        }
      ]
    },
    {
      "cell_type": "code",
      "source": [
        "walmart.Wednesday_Hours.fillna(Wednesday_Hours_mode[0],inplace=True)\n",
        "walmart.Wednesday_Hours.value_counts(normalize=True)"
      ],
      "metadata": {
        "colab": {
          "base_uri": "https://localhost:8080/"
        },
        "outputId": "22e4d824-d9d1-4283-8c19-74c0ca7fc197",
        "id": "hGm40fo4M-Tg"
      },
      "execution_count": null,
      "outputs": [
        {
          "output_type": "execute_result",
          "data": {
            "text/plain": [
              " 06:00 - 23:00     0.913416\n",
              " 07:00 - 23:00     0.047150\n",
              " 06:00 - 22:00     0.025718\n",
              " 07:00 - 22:00     0.003429\n",
              " 07:00 - 19:00     0.001500\n",
              " 07:00 - 20:30     0.001072\n",
              " 07:00 - 21:00     0.001072\n",
              " 06:00 - 20:00     0.000857\n",
              " 06:00 - 21:00     0.000643\n",
              " 08:00 - 23:00     0.000429\n",
              " 09:00 - 17:30     0.000429\n",
              " 08:00 - 19:00     0.000429\n",
              " 09:00 - 20:30     0.000429\n",
              " 06:00 - 18:00     0.000429\n",
              " 06:00 - 22:30     0.000214\n",
              " 08:00 - 22:00     0.000214\n",
              " 06:00 - 20:30     0.000214\n",
              " 08:00 - 21:00     0.000214\n",
              " 06:00 - 17:30     0.000214\n",
              " 10:00 - 19:30     0.000214\n",
              " 08:00 - 20:00     0.000214\n",
              " 07:00 - 21:30     0.000214\n",
              " 05:45 - 23:15     0.000214\n",
              " 07:00 - 18:15     0.000214\n",
              " 05:00 - 23:00     0.000214\n",
              " 07:00 - 20:00     0.000214\n",
              " 08:00 - 18:00     0.000214\n",
              " 07:30 - 20:30     0.000214\n",
              "Name: Wednesday_Hours, dtype: float64"
            ]
          },
          "metadata": {},
          "execution_count": 866
        }
      ]
    },
    {
      "cell_type": "code",
      "source": [
        "walmart.Wednesday_Hours.isnull().sum()"
      ],
      "metadata": {
        "colab": {
          "base_uri": "https://localhost:8080/"
        },
        "outputId": "dac647cf-dd1c-4f3e-c232-6373bd29fe1f",
        "id": "Q85Hg2N1M-Tg"
      },
      "execution_count": null,
      "outputs": [
        {
          "output_type": "execute_result",
          "data": {
            "text/plain": [
              "0"
            ]
          },
          "metadata": {},
          "execution_count": 867
        }
      ]
    },
    {
      "cell_type": "code",
      "source": [
        "#filling Thursday Hours\n",
        "\n",
        "100*(walmart.Thursday_Hours.isnull().sum()/walmart.shape[0])\n",
        "#the percentage of null values is high in Thursday hours so we need to replace null values by most repeated value"
      ],
      "metadata": {
        "colab": {
          "base_uri": "https://localhost:8080/"
        },
        "id": "VMVxprJgKMyd",
        "outputId": "eccaaa57-e426-4d50-d73d-904524cb573f"
      },
      "execution_count": null,
      "outputs": [
        {
          "output_type": "execute_result",
          "data": {
            "text/plain": [
              "0.12858979854264896"
            ]
          },
          "metadata": {},
          "execution_count": 868
        }
      ]
    },
    {
      "cell_type": "code",
      "source": [
        ""
      ],
      "metadata": {
        "id": "1YcglM_YNTp4"
      },
      "execution_count": null,
      "outputs": []
    },
    {
      "cell_type": "code",
      "source": [
        "walmart.Thursday_Hours.mode()"
      ],
      "metadata": {
        "colab": {
          "base_uri": "https://localhost:8080/"
        },
        "outputId": "aaecb6a5-d481-4e93-e134-7899b20206a9",
        "id": "2M2c3X5sNWa8"
      },
      "execution_count": null,
      "outputs": [
        {
          "output_type": "execute_result",
          "data": {
            "text/plain": [
              "0     06:00 - 23:00 \n",
              "dtype: object"
            ]
          },
          "metadata": {},
          "execution_count": 869
        }
      ]
    },
    {
      "cell_type": "code",
      "source": [
        "Thursday_Hours_mode=walmart.Thursday_Hours.mode()\n",
        "Thursday_Hours_mode"
      ],
      "metadata": {
        "colab": {
          "base_uri": "https://localhost:8080/"
        },
        "outputId": "4f78db25-cad2-499a-cc0f-29876fc62a1c",
        "id": "BIlh0gUeNWa9"
      },
      "execution_count": null,
      "outputs": [
        {
          "output_type": "execute_result",
          "data": {
            "text/plain": [
              "0     06:00 - 23:00 \n",
              "dtype: object"
            ]
          },
          "metadata": {},
          "execution_count": 870
        }
      ]
    },
    {
      "cell_type": "code",
      "source": [
        "Thursday_Hours_mode[0]"
      ],
      "metadata": {
        "colab": {
          "base_uri": "https://localhost:8080/",
          "height": 36
        },
        "outputId": "ad0cc43c-5a6b-48ae-c131-014f323f972c",
        "id": "GAZik_pINWa9"
      },
      "execution_count": null,
      "outputs": [
        {
          "output_type": "execute_result",
          "data": {
            "text/plain": [
              "' 06:00 - 23:00 '"
            ],
            "application/vnd.google.colaboratory.intrinsic+json": {
              "type": "string"
            }
          },
          "metadata": {},
          "execution_count": 871
        }
      ]
    },
    {
      "cell_type": "code",
      "source": [
        "walmart.Thursday_Hours.fillna(Thursday_Hours_mode[0],inplace=True)\n",
        "walmart.Thursday_Hours.value_counts(normalize=True)"
      ],
      "metadata": {
        "colab": {
          "base_uri": "https://localhost:8080/"
        },
        "outputId": "9e13a82b-b9a2-4f5b-9eef-35bfc9cfadd9",
        "id": "jM67gvPSNWa-"
      },
      "execution_count": null,
      "outputs": [
        {
          "output_type": "execute_result",
          "data": {
            "text/plain": [
              " 06:00 - 23:00     0.912345\n",
              " 07:00 - 23:00     0.047150\n",
              " 06:00 - 22:00     0.025932\n",
              " 07:00 - 22:00     0.003429\n",
              " 07:00 - 19:00     0.001500\n",
              " 07:00 - 20:30     0.001072\n",
              " 07:00 - 21:00     0.001072\n",
              " 06:00 - 18:00     0.000857\n",
              " 06:00 - 20:00     0.000857\n",
              " 06:00 - 21:00     0.000643\n",
              " 08:00 - 19:00     0.000429\n",
              " 06:00 - 19:00     0.000429\n",
              " 08:00 - 23:00     0.000429\n",
              " 09:00 - 17:30     0.000429\n",
              " 09:00 - 20:30     0.000429\n",
              " 10:00 - 17:30     0.000214\n",
              " 08:00 - 18:00     0.000214\n",
              " 07:00 - 20:00     0.000214\n",
              " 05:00 - 23:00     0.000214\n",
              " 05:45 - 23:15     0.000214\n",
              " 07:00 - 21:30     0.000214\n",
              " 06:00 - 17:30     0.000214\n",
              " 08:00 - 21:00     0.000214\n",
              " 07:00 - 18:15     0.000214\n",
              " 08:00 - 20:00     0.000214\n",
              " 06:00 - 22:30     0.000214\n",
              " 08:00 - 22:00     0.000214\n",
              " 06:00 - 20:30     0.000214\n",
              " 07:30 - 20:30     0.000214\n",
              "Name: Thursday_Hours, dtype: float64"
            ]
          },
          "metadata": {},
          "execution_count": 872
        }
      ]
    },
    {
      "cell_type": "code",
      "source": [
        "walmart.Thursday_Hours.isnull().sum()"
      ],
      "metadata": {
        "colab": {
          "base_uri": "https://localhost:8080/"
        },
        "outputId": "adf7a1b8-0c3b-4e12-80d5-b3133f92062e",
        "id": "4infgAZANWa-"
      },
      "execution_count": null,
      "outputs": [
        {
          "output_type": "execute_result",
          "data": {
            "text/plain": [
              "0"
            ]
          },
          "metadata": {},
          "execution_count": 873
        }
      ]
    },
    {
      "cell_type": "code",
      "source": [
        "#filling Friday Hours\n",
        "\n",
        "100*(walmart.Friday_Hours.isnull().sum()/walmart.shape[0])\n",
        "#the percentage of null values is high in Friday hours so we need to replace null values by most repeated value"
      ],
      "metadata": {
        "colab": {
          "base_uri": "https://localhost:8080/"
        },
        "id": "18GlagEMKQWr",
        "outputId": "4236e9eb-58e2-405c-c77e-fa46e57995da"
      },
      "execution_count": null,
      "outputs": [
        {
          "output_type": "execute_result",
          "data": {
            "text/plain": [
              "0.23574796399485642"
            ]
          },
          "metadata": {},
          "execution_count": 874
        }
      ]
    },
    {
      "cell_type": "code",
      "source": [
        ""
      ],
      "metadata": {
        "id": "nYY_yw-3Nmw-"
      },
      "execution_count": null,
      "outputs": []
    },
    {
      "cell_type": "code",
      "source": [
        "walmart.Friday_Hours.mode()"
      ],
      "metadata": {
        "colab": {
          "base_uri": "https://localhost:8080/"
        },
        "outputId": "4871096c-d263-4569-feb0-22585fee08de",
        "id": "R_0ky1EpNzlI"
      },
      "execution_count": null,
      "outputs": [
        {
          "output_type": "execute_result",
          "data": {
            "text/plain": [
              "0     06:00 - 23:00 \n",
              "dtype: object"
            ]
          },
          "metadata": {},
          "execution_count": 875
        }
      ]
    },
    {
      "cell_type": "code",
      "source": [
        "Friday_Hours_mode=walmart.Friday_Hours.mode()\n",
        "Friday_Hours_mode"
      ],
      "metadata": {
        "colab": {
          "base_uri": "https://localhost:8080/"
        },
        "outputId": "265327f8-c4fb-4f70-c5b7-1c92e6c16401",
        "id": "RsHhK-d6NzlJ"
      },
      "execution_count": null,
      "outputs": [
        {
          "output_type": "execute_result",
          "data": {
            "text/plain": [
              "0     06:00 - 23:00 \n",
              "dtype: object"
            ]
          },
          "metadata": {},
          "execution_count": 876
        }
      ]
    },
    {
      "cell_type": "code",
      "source": [
        "Friday_Hours_mode[0]"
      ],
      "metadata": {
        "colab": {
          "base_uri": "https://localhost:8080/",
          "height": 36
        },
        "outputId": "671a3a75-c7a8-4002-9fad-1e315b902fcc",
        "id": "EDL6eUTXNzlK"
      },
      "execution_count": null,
      "outputs": [
        {
          "output_type": "execute_result",
          "data": {
            "text/plain": [
              "' 06:00 - 23:00 '"
            ],
            "application/vnd.google.colaboratory.intrinsic+json": {
              "type": "string"
            }
          },
          "metadata": {},
          "execution_count": 877
        }
      ]
    },
    {
      "cell_type": "code",
      "source": [
        "walmart.Friday_Hours.fillna(Friday_Hours_mode[0],inplace=True)\n",
        "walmart.Friday_Hours.value_counts(normalize=True)"
      ],
      "metadata": {
        "colab": {
          "base_uri": "https://localhost:8080/"
        },
        "outputId": "7fdcc2d1-8c4d-4af8-fbd5-9ac6deea53d1",
        "id": "GbsQtWcyNzlK"
      },
      "execution_count": null,
      "outputs": [
        {
          "output_type": "execute_result",
          "data": {
            "text/plain": [
              " 06:00 - 23:00     0.914059\n",
              " 07:00 - 23:00     0.047150\n",
              " 06:00 - 22:00     0.025932\n",
              " 07:00 - 22:00     0.003429\n",
              " 07:00 - 19:00     0.001072\n",
              " 07:00 - 20:30     0.001072\n",
              " 07:00 - 21:00     0.001072\n",
              " 06:00 - 20:00     0.000857\n",
              " 06:00 - 18:00     0.000643\n",
              " 06:00 - 21:00     0.000643\n",
              " 08:00 - 23:00     0.000429\n",
              " 09:00 - 20:30     0.000429\n",
              " 08:00 - 19:00     0.000429\n",
              " 07:00 - 20:00     0.000214\n",
              " 05:00 - 23:00     0.000214\n",
              " 05:45 - 23:15     0.000214\n",
              " 07:00 - 21:30     0.000214\n",
              " 08:00 - 21:00     0.000214\n",
              " 06:00 - 17:30     0.000214\n",
              " 06:00 - 20:30     0.000214\n",
              " 07:00 - 19:00     0.000214\n",
              " 14:00 - 17:00     0.000214\n",
              " 06:00 - 22:30     0.000214\n",
              " 08:00 - 22:00     0.000214\n",
              " 08:00 - 20:00     0.000214\n",
              " 09:00 - 13:00     0.000214\n",
              "Name: Friday_Hours, dtype: float64"
            ]
          },
          "metadata": {},
          "execution_count": 878
        }
      ]
    },
    {
      "cell_type": "code",
      "source": [
        "walmart.Friday_Hours.isnull().sum()"
      ],
      "metadata": {
        "colab": {
          "base_uri": "https://localhost:8080/"
        },
        "outputId": "34d62965-fced-4169-de7e-852ea2ed2469",
        "id": "rACWvU6hNzlL"
      },
      "execution_count": null,
      "outputs": [
        {
          "output_type": "execute_result",
          "data": {
            "text/plain": [
              "0"
            ]
          },
          "metadata": {},
          "execution_count": 879
        }
      ]
    },
    {
      "cell_type": "code",
      "source": [
        "#filling Saturday Hours\n",
        "\n",
        "100*(walmart.Saturday_Hours.isnull().sum()/walmart.shape[0])\n",
        "#the percentage of null values is high in Saturday hours so we need to replace null values by most repeated value"
      ],
      "metadata": {
        "colab": {
          "base_uri": "https://localhost:8080/"
        },
        "id": "RQSnaAtbKUoh",
        "outputId": "b69f12ea-9eb0-44d2-8879-1677cc92ce12"
      },
      "execution_count": null,
      "outputs": [
        {
          "output_type": "execute_result",
          "data": {
            "text/plain": [
              "0.30004286326618085"
            ]
          },
          "metadata": {},
          "execution_count": 880
        }
      ]
    },
    {
      "cell_type": "code",
      "source": [
        ""
      ],
      "metadata": {
        "id": "cmyXMFkIOL8h"
      },
      "execution_count": null,
      "outputs": []
    },
    {
      "cell_type": "code",
      "source": [
        "walmart.Saturday_Hours.mode()"
      ],
      "metadata": {
        "colab": {
          "base_uri": "https://localhost:8080/"
        },
        "outputId": "396f81e4-fc34-4cb1-bada-6d95ed6511d9",
        "id": "IjFsqu20OPHd"
      },
      "execution_count": null,
      "outputs": [
        {
          "output_type": "execute_result",
          "data": {
            "text/plain": [
              "0     06:00 - 23:00\n",
              "dtype: object"
            ]
          },
          "metadata": {},
          "execution_count": 881
        }
      ]
    },
    {
      "cell_type": "code",
      "source": [
        "Saturday_Hours_mode=walmart.Saturday_Hours.mode()\n",
        "Saturday_Hours_mode"
      ],
      "metadata": {
        "colab": {
          "base_uri": "https://localhost:8080/"
        },
        "outputId": "18b3ec67-39b0-42d0-e7e9-e679514328e3",
        "id": "i7ZJGGL-OPHe"
      },
      "execution_count": null,
      "outputs": [
        {
          "output_type": "execute_result",
          "data": {
            "text/plain": [
              "0     06:00 - 23:00\n",
              "dtype: object"
            ]
          },
          "metadata": {},
          "execution_count": 882
        }
      ]
    },
    {
      "cell_type": "code",
      "source": [
        "Saturday_Hours_mode[0]"
      ],
      "metadata": {
        "colab": {
          "base_uri": "https://localhost:8080/",
          "height": 36
        },
        "outputId": "ec2cfb15-b545-4d13-ba3d-c85c325433da",
        "id": "EKj-0gwDOPHf"
      },
      "execution_count": null,
      "outputs": [
        {
          "output_type": "execute_result",
          "data": {
            "text/plain": [
              "' 06:00 - 23:00'"
            ],
            "application/vnd.google.colaboratory.intrinsic+json": {
              "type": "string"
            }
          },
          "metadata": {},
          "execution_count": 883
        }
      ]
    },
    {
      "cell_type": "code",
      "source": [
        "walmart.Saturday_Hours.fillna(Saturday_Hours_mode[0],inplace=True)\n",
        "walmart.Saturday_Hours.value_counts(normalize=True)"
      ],
      "metadata": {
        "colab": {
          "base_uri": "https://localhost:8080/"
        },
        "outputId": "b749d351-f5af-4663-d2df-53b8259afadd",
        "id": "ocl5KxcJOPHf"
      },
      "execution_count": null,
      "outputs": [
        {
          "output_type": "execute_result",
          "data": {
            "text/plain": [
              " 06:00 - 23:00    0.917917\n",
              " 07:00 - 23:00    0.044363\n",
              " 06:00 - 22:00    0.025718\n",
              " 07:00 - 22:00    0.003429\n",
              " 07:00 - 19:00    0.001072\n",
              " 07:00 - 20:30    0.001072\n",
              " 06:00 - 20:00    0.000857\n",
              " 07:00 - 21:00    0.000857\n",
              " 06:00 - 00:00    0.000643\n",
              " 06:00 - 21:00    0.000643\n",
              " 08:00 - 23:00    0.000429\n",
              " 07:00 - 20:00    0.000429\n",
              " 09:00 - 20:30    0.000429\n",
              " 08:00 - 19:00    0.000429\n",
              " 08:00 - 22:00    0.000214\n",
              " 06:00 - 22:30    0.000214\n",
              " 06:00 - 20:30    0.000214\n",
              " 08:00 - 21:00    0.000214\n",
              " 08:00 - 20:00    0.000214\n",
              " 07:00 - 21:30    0.000214\n",
              " 05:45 - 23:15    0.000214\n",
              " 05:00 - 23:00    0.000214\n",
              "Name: Saturday_Hours, dtype: float64"
            ]
          },
          "metadata": {},
          "execution_count": 884
        }
      ]
    },
    {
      "cell_type": "code",
      "source": [
        "walmart.Saturday_Hours.isnull().sum()"
      ],
      "metadata": {
        "colab": {
          "base_uri": "https://localhost:8080/"
        },
        "outputId": "c5f00be7-38ff-42b2-a21e-257b4b93d0dd",
        "id": "Ig_tbWTHOPHf"
      },
      "execution_count": null,
      "outputs": [
        {
          "output_type": "execute_result",
          "data": {
            "text/plain": [
              "0"
            ]
          },
          "metadata": {},
          "execution_count": 885
        }
      ]
    },
    {
      "cell_type": "code",
      "source": [
        "walmart.isna().sum()\n",
        "#here we can find all the Hours filled with most repeated values and finally now there is no null values in the data\n",
        "#since the ratio of blank cells was high we cant drop the rows so that we replaced those blank cells using mode values."
      ],
      "metadata": {
        "colab": {
          "base_uri": "https://localhost:8080/"
        },
        "id": "7y2o5ahsOgGA",
        "outputId": "5d2ef051-6b8e-4fa2-f91e-b07ab5892284"
      },
      "execution_count": null,
      "outputs": [
        {
          "output_type": "execute_result",
          "data": {
            "text/plain": [
              "Name               0\n",
              "Latitude           0\n",
              "Longitude          0\n",
              "Street             0\n",
              "City               0\n",
              "State              0\n",
              "County             0\n",
              "Status             0\n",
              "Sunday_Hours       0\n",
              "Monday_Hours       0\n",
              "Tuesday_Hours      0\n",
              "Wednesday_Hours    0\n",
              "Thursday_Hours     0\n",
              "Friday_Hours       0\n",
              "Saturday_Hours     0\n",
              "dtype: int64"
            ]
          },
          "metadata": {},
          "execution_count": 886
        }
      ]
    },
    {
      "cell_type": "code",
      "source": [
        "walmart.info()"
      ],
      "metadata": {
        "colab": {
          "base_uri": "https://localhost:8080/"
        },
        "id": "FYXfzY3SOd7m",
        "outputId": "5db63ac0-9e3c-480a-c22f-82c5728c196a"
      },
      "execution_count": null,
      "outputs": [
        {
          "output_type": "stream",
          "name": "stdout",
          "text": [
            "<class 'pandas.core.frame.DataFrame'>\n",
            "RangeIndex: 4666 entries, 0 to 4665\n",
            "Data columns (total 15 columns):\n",
            " #   Column           Non-Null Count  Dtype  \n",
            "---  ------           --------------  -----  \n",
            " 0   Name             4666 non-null   object \n",
            " 1   Latitude         4666 non-null   float64\n",
            " 2   Longitude        4666 non-null   float64\n",
            " 3   Street           4666 non-null   object \n",
            " 4   City             4666 non-null   object \n",
            " 5   State            4666 non-null   object \n",
            " 6   County           4666 non-null   object \n",
            " 7   Status           4666 non-null   object \n",
            " 8   Sunday_Hours     4666 non-null   object \n",
            " 9   Monday_Hours     4666 non-null   object \n",
            " 10  Tuesday_Hours    4666 non-null   object \n",
            " 11  Wednesday_Hours  4666 non-null   object \n",
            " 12  Thursday_Hours   4666 non-null   object \n",
            " 13  Friday_Hours     4666 non-null   object \n",
            " 14  Saturday_Hours   4666 non-null   object \n",
            "dtypes: float64(2), object(13)\n",
            "memory usage: 546.9+ KB\n"
          ]
        }
      ]
    },
    {
      "cell_type": "markdown",
      "source": [
        "All the null values of the data cleared now."
      ],
      "metadata": {
        "id": "r4-lOTJHO2Tv"
      }
    },
    {
      "cell_type": "markdown",
      "source": [
        "## Data Analysis and visualiation of walmart data"
      ],
      "metadata": {
        "id": "Tg7giJhGaikG"
      }
    },
    {
      "cell_type": "code",
      "source": [
        "#Nominal analysis\n",
        "#mostly the data contain only categorical variables(Nominal)\n",
        "\n",
        "#finding the count of the state codes to check in which state walmart stores are mostly opened\n",
        "walmart['State'].value_counts()"
      ],
      "metadata": {
        "colab": {
          "base_uri": "https://localhost:8080/"
        },
        "id": "XUJDtxju_N4y",
        "outputId": "23eed1d5-2bf3-4ca1-f199-c1a304a50dff"
      },
      "execution_count": null,
      "outputs": [
        {
          "output_type": "execute_result",
          "data": {
            "text/plain": [
              "TX    516\n",
              "FL    341\n",
              "CA    278\n",
              "NC    192\n",
              "GA    189\n",
              "IL    160\n",
              "OH    146\n",
              "MO    137\n",
              "TN    136\n",
              "PA    136\n",
              "VA    134\n",
              "AL    131\n",
              "LA    125\n",
              "OK    121\n",
              "AR    119\n",
              "IN    113\n",
              "AZ    112\n",
              "SC    109\n",
              "NY     99\n",
              "MI     94\n",
              "KY     93\n",
              "WI     89\n",
              "CO     88\n",
              "MS     79\n",
              "KS     74\n",
              "MN     68\n",
              "WA     66\n",
              "NJ     62\n",
              "IA     60\n",
              "UT     51\n",
              "MA     48\n",
              "MD     47\n",
              "NM     46\n",
              "OR     45\n",
              "NV     43\n",
              "NE     42\n",
              "WV     39\n",
              "CT     33\n",
              "PR     30\n",
              "ID     26\n",
              "NH     26\n",
              "ME     22\n",
              "SD     15\n",
              "MT     14\n",
              "ND     14\n",
              "WY     12\n",
              "HI     10\n",
              "RI      9\n",
              "AK      9\n",
              "DE      9\n",
              "VT      6\n",
              "DC      3\n",
              "Name: State, dtype: int64"
            ]
          },
          "metadata": {},
          "execution_count": 888
        }
      ]
    },
    {
      "cell_type": "code",
      "source": [
        "state=walmart['State'].value_counts().plot.bar(color = 'blue', figsize = (15, 5))\n",
        "plt.title('Count of the state codes\\n',fontdict={'fontsize':20,'fontweight':5,'color':'Blue'})\n",
        "plt.xlabel('State codes', fontdict={'fontsize':15,'fontweight':5,'color':'Blue'})\n",
        "plt.ylabel('count', fontdict={'fontsize':15,'fontweight':5,'color':'Blue'})"
      ],
      "metadata": {
        "colab": {
          "base_uri": "https://localhost:8080/",
          "height": 406
        },
        "id": "KBTpdZFl7VTD",
        "outputId": "1ca671c9-c3f2-4beb-c80b-0e33759baee6"
      },
      "execution_count": null,
      "outputs": [
        {
          "output_type": "execute_result",
          "data": {
            "text/plain": [
              "Text(0, 0.5, 'count')"
            ]
          },
          "metadata": {},
          "execution_count": 889
        },
        {
          "output_type": "display_data",
          "data": {
            "text/plain": [
              "<Figure size 1080x360 with 1 Axes>"
            ],
            "image/png": "[encoded data removed]"
          },
          "metadata": {
            "needs_background": "light"
          }
        }
      ]
    },
    {
      "cell_type": "markdown",
      "source": [
        "Top 5 states where the Supercenters are mostly built is given below: \n",
        "\n",
        "*   Texas\n",
        "*   Florida\n",
        "*   California\n",
        "*   North Carolina\n",
        "*   Georgia\n",
        "\n",
        "States that there is less stores is given below: \n",
        "\n",
        "*   District of Columbia\n",
        "*   Vermont\n",
        "*   Delaware\n",
        "*   Alaska\n",
        "*   Rhode Island\n",
        "\n",
        "\n",
        "\n",
        "\n"
      ],
      "metadata": {
        "id": "ntYrfuVHLjdf"
      }
    },
    {
      "cell_type": "code",
      "source": [
        "walmart['Name'].value_counts()"
      ],
      "metadata": {
        "colab": {
          "base_uri": "https://localhost:8080/"
        },
        "id": "wsSgVTdn_lFR",
        "outputId": "29fe5605-d125-458e-95b0-988366ddedc6"
      },
      "execution_count": null,
      "outputs": [
        {
          "output_type": "execute_result",
          "data": {
            "text/plain": [
              "San Antonio Supercenter             23\n",
              "Houston Supercenter                 20\n",
              "Jacksonville Supercenter            18\n",
              "Orlando Neighborhood Market         14\n",
              "Springfield Supercenter             14\n",
              "                                    ..\n",
              "Peru Supercenter                     1\n",
              "Collinsville Neighborhood Market     1\n",
              "Freeport Supercenter                 1\n",
              "Morton Supercenter                   1\n",
              "Gillette Supercenter                 1\n",
              "Name: Name, Length: 3147, dtype: int64"
            ]
          },
          "metadata": {},
          "execution_count": 890
        }
      ]
    },
    {
      "cell_type": "markdown",
      "source": [
        "Most of the supercenter are named in name of city names of US like: San Antonio Supercenter, Houston Supercentor, Jacksonville and Orlando.\n"
      ],
      "metadata": {
        "id": "zt3NY7ZsM5dU"
      }
    },
    {
      "cell_type": "code",
      "source": [
        "walmart['City'].value_counts()"
      ],
      "metadata": {
        "colab": {
          "base_uri": "https://localhost:8080/"
        },
        "id": "guMyWuIQDDv3",
        "outputId": "564b4b6f-6ebc-4331-d875-85db21f74871"
      },
      "execution_count": null,
      "outputs": [
        {
          "output_type": "execute_result",
          "data": {
            "text/plain": [
              "San Antonio       29\n",
              "Houston           26\n",
              "Orlando           25\n",
              "Jacksonville      24\n",
              "Las Vegas         22\n",
              "                  ..\n",
              "Colby              1\n",
              "Mcpherson          1\n",
              "Crawfordsville     1\n",
              "Brazil             1\n",
              "Gillette           1\n",
              "Name: City, Length: 2547, dtype: int64"
            ]
          },
          "metadata": {},
          "execution_count": 891
        }
      ]
    },
    {
      "cell_type": "markdown",
      "source": [
        "The cities where supercenters are mostly seen are: San Antonio, Houston, Orlando, Jacksonville"
      ],
      "metadata": {
        "id": "IBz_ADIHNShh"
      }
    },
    {
      "cell_type": "code",
      "source": [
        "walmart['County'].value_counts()"
      ],
      "metadata": {
        "colab": {
          "base_uri": "https://localhost:8080/"
        },
        "id": "yE5nRNSVDKCD",
        "outputId": "bc9c0323-3cb4-49ca-e013-c2c56917cd3f"
      },
      "execution_count": null,
      "outputs": [
        {
          "output_type": "execute_result",
          "data": {
            "text/plain": [
              "Maricopa      60\n",
              "Orange        60\n",
              "Jefferson     55\n",
              "Washington    49\n",
              "Harris        47\n",
              "              ..\n",
              "Cheyenne       1\n",
              "Winneshiek     1\n",
              "Wapello        1\n",
              "Muscatine      1\n",
              "Haskell        1\n",
              "Name: County, Length: 1243, dtype: int64"
            ]
          },
          "metadata": {},
          "execution_count": 892
        }
      ]
    },
    {
      "cell_type": "markdown",
      "source": [
        "Stores are mostly bulit in these county of US:\n",
        "\n",
        "\n",
        "*   Maricopa\n",
        "*   Orange\n",
        "*   Jefferson \n",
        "*   Washington\n",
        "\n"
      ],
      "metadata": {
        "id": "BJW3mq1uN85h"
      }
    },
    {
      "cell_type": "code",
      "source": [
        "walmart['Status'].value_counts()"
      ],
      "metadata": {
        "colab": {
          "base_uri": "https://localhost:8080/"
        },
        "id": "JCEvP7oGDZT5",
        "outputId": "a4181131-b283-49f2-a8a8-607b9ed033cb"
      },
      "execution_count": null,
      "outputs": [
        {
          "output_type": "execute_result",
          "data": {
            "text/plain": [
              "Open               4663\n",
              "Possibly Closed       3\n",
              "Name: Status, dtype: int64"
            ]
          },
          "metadata": {},
          "execution_count": 893
        }
      ]
    },
    {
      "cell_type": "code",
      "source": [
        "Storestatus=walmart['Status'].value_counts().plot.bar(color = 'cyan')\n",
        "plt.title('Status of walmart Supercenters on April 25th 2022\\n',fontdict={'fontsize':20,'fontweight':5,'color':'Blue'})\n",
        "plt.xlabel('status', fontdict={'fontsize':15,'fontweight':5,'color':'Blue'})\n",
        "plt.ylabel('count', fontdict={'fontsize':15,'fontweight':5,'color':'Blue'})"
      ],
      "metadata": {
        "colab": {
          "base_uri": "https://localhost:8080/",
          "height": 412
        },
        "id": "i37wC4rgO6I1",
        "outputId": "454832f0-25f5-49b7-e709-0bc83f901234"
      },
      "execution_count": null,
      "outputs": [
        {
          "output_type": "execute_result",
          "data": {
            "text/plain": [
              "Text(0, 0.5, 'count')"
            ]
          },
          "metadata": {},
          "execution_count": 894
        },
        {
          "output_type": "display_data",
          "data": {
            "text/plain": [
              "<Figure size 432x288 with 1 Axes>"
            ],
            "image/png": "[encoded data removed]"
          },
          "metadata": {
            "needs_background": "light"
          }
        }
      ]
    },
    {
      "cell_type": "markdown",
      "source": [
        "while collecting information only 3 stores are possibly closed. balance all supercenter is still working in US."
      ],
      "metadata": {
        "id": "CXz6EQWNOixB"
      }
    },
    {
      "cell_type": "code",
      "source": [
        "plt.figure(figsize = (20,5))\n",
        "sns.countplot(x='Status', data=walmart, hue='State', palette='flag')"
      ],
      "metadata": {
        "colab": {
          "base_uri": "https://localhost:8080/",
          "height": 883
        },
        "id": "7qxHAqV5fMYB",
        "outputId": "daabdf58-e792-47c6-8abf-044ed9c61af1"
      },
      "execution_count": null,
      "outputs": [
        {
          "output_type": "execute_result",
          "data": {
            "text/plain": [
              "<matplotlib.axes._subplots.AxesSubplot at 0x7f54fb362490>"
            ]
          },
          "metadata": {},
          "execution_count": 895
        },
        {
          "output_type": "display_data",
          "data": {
            "text/plain": [
              "<Figure size 1440x360 with 1 Axes>"
            ],
            "image/png": "[encoded data removed]"
          },
          "metadata": {
            "needs_background": "light"
          }
        }
      ]
    },
    {
      "cell_type": "code",
      "source": [
        "#to check the stores which are Possibly closed.\n",
        "Possibly_closed_stores=walmart.loc[walmart['Status'] == 'Possibly Closed']\n",
        "Possibly_closed_stores"
      ],
      "metadata": {
        "colab": {
          "base_uri": "https://localhost:8080/",
          "height": 311
        },
        "id": "eO_yCJLk0bWf",
        "outputId": "a0f3c9ba-6153-48ef-a6e3-e8f913682b6e"
      },
      "execution_count": null,
      "outputs": [
        {
          "output_type": "execute_result",
          "data": {
            "text/plain": [
              "                        Name   Latitude   Longitude            Street  \\\n",
              "174           Bellevue Store  47.572888 -122.172531  12620 Se 41st Pl   \n",
              "4664  Louisville Supercenter  38.171432  -85.870209   7100 Raggard Rd   \n",
              "4665  Cincinnati Supercenter  39.296846  -84.518984   1143 Smiley Ave   \n",
              "\n",
              "            City State     County           Status     Sunday_Hours  \\\n",
              "174     Bellevue    WA       King  Possibly Closed   07:00 - 19:00    \n",
              "4664  Louisville    KY  Jefferson  Possibly Closed   07:00 - 19:00    \n",
              "4665  Cincinnati    OH   Hamilton  Possibly Closed   07:00 - 19:00    \n",
              "\n",
              "         Monday_Hours    Tuesday_Hours  Wednesday_Hours   Thursday_Hours  \\\n",
              "174    07:00 - 19:00    07:00 - 19:00    07:00 - 19:00    07:00 - 19:00    \n",
              "4664   07:00 - 19:00    07:00 - 19:00    07:00 - 19:00    07:00 - 19:00    \n",
              "4665   07:00 - 19:00    07:00 - 19:00    07:00 - 19:00    07:00 - 19:00    \n",
              "\n",
              "         Friday_Hours  Saturday_Hours  \n",
              "174    07:00 - 19:00    07:00 - 19:00  \n",
              "4664   07:00 - 19:00    07:00 - 19:00  \n",
              "4665   07:00 - 19:00    07:00 - 19:00  "
            ],
            "text/html": [
              "\n",
              "  <div id=\"df-779b5c86-4bf8-4c55-a9c8-6e3a81b34836\">\n",
              "    <div class=\"colab-df-container\">\n",
              "      <div>\n",
              "<style scoped>\n",
              "    .dataframe tbody tr th:only-of-type {\n",
              "        vertical-align: middle;\n",
              "    }\n",
              "\n",
              "    .dataframe tbody tr th {\n",
              "        vertical-align: top;\n",
              "    }\n",
              "\n",
              "    .dataframe thead th {\n",
              "        text-align: right;\n",
              "    }\n",
              "</style>\n",
              "<table border=\"1\" class=\"dataframe\">\n",
              "  <thead>\n",
              "    <tr style=\"text-align: right;\">\n",
              "      <th></th>\n",
              "      <th>Name</th>\n",
              "      <th>Latitude</th>\n",
              "      <th>Longitude</th>\n",
              "      <th>Street</th>\n",
              "      <th>City</th>\n",
              "      <th>State</th>\n",
              "      <th>County</th>\n",
              "      <th>Status</th>\n",
              "      <th>Sunday_Hours</th>\n",
              "      <th>Monday_Hours</th>\n",
              "      <th>Tuesday_Hours</th>\n",
              "      <th>Wednesday_Hours</th>\n",
              "      <th>Thursday_Hours</th>\n",
              "      <th>Friday_Hours</th>\n",
              "      <th>Saturday_Hours</th>\n",
              "    </tr>\n",
              "  </thead>\n",
              "  <tbody>\n",
              "    <tr>\n",
              "      <th>174</th>\n",
              "      <td>Bellevue Store</td>\n",
              "      <td>47.572888</td>\n",
              "      <td>-122.172531</td>\n",
              "      <td>12620 Se 41st Pl</td>\n",
              "      <td>Bellevue</td>\n",
              "      <td>WA</td>\n",
              "      <td>King</td>\n",
              "      <td>Possibly Closed</td>\n",
              "      <td>07:00 - 19:00</td>\n",
              "      <td>07:00 - 19:00</td>\n",
              "      <td>07:00 - 19:00</td>\n",
              "      <td>07:00 - 19:00</td>\n",
              "      <td>07:00 - 19:00</td>\n",
              "      <td>07:00 - 19:00</td>\n",
              "      <td>07:00 - 19:00</td>\n",
              "    </tr>\n",
              "    <tr>\n",
              "      <th>4664</th>\n",
              "      <td>Louisville Supercenter</td>\n",
              "      <td>38.171432</td>\n",
              "      <td>-85.870209</td>\n",
              "      <td>7100 Raggard Rd</td>\n",
              "      <td>Louisville</td>\n",
              "      <td>KY</td>\n",
              "      <td>Jefferson</td>\n",
              "      <td>Possibly Closed</td>\n",
              "      <td>07:00 - 19:00</td>\n",
              "      <td>07:00 - 19:00</td>\n",
              "      <td>07:00 - 19:00</td>\n",
              "      <td>07:00 - 19:00</td>\n",
              "      <td>07:00 - 19:00</td>\n",
              "      <td>07:00 - 19:00</td>\n",
              "      <td>07:00 - 19:00</td>\n",
              "    </tr>\n",
              "    <tr>\n",
              "      <th>4665</th>\n",
              "      <td>Cincinnati Supercenter</td>\n",
              "      <td>39.296846</td>\n",
              "      <td>-84.518984</td>\n",
              "      <td>1143 Smiley Ave</td>\n",
              "      <td>Cincinnati</td>\n",
              "      <td>OH</td>\n",
              "      <td>Hamilton</td>\n",
              "      <td>Possibly Closed</td>\n",
              "      <td>07:00 - 19:00</td>\n",
              "      <td>07:00 - 19:00</td>\n",
              "      <td>07:00 - 19:00</td>\n",
              "      <td>07:00 - 19:00</td>\n",
              "      <td>07:00 - 19:00</td>\n",
              "      <td>07:00 - 19:00</td>\n",
              "      <td>07:00 - 19:00</td>\n",
              "    </tr>\n",
              "  </tbody>\n",
              "</table>\n",
              "</div>\n",
              "      <button class=\"colab-df-convert\" onclick=\"convertToInteractive('df-779b5c86-4bf8-4c55-a9c8-6e3a81b34836')\"\n",
              "              title=\"Convert this dataframe to an interactive table.\"\n",
              "              style=\"display:none;\">\n",
              "        \n",
              "  <svg xmlns=\"http://www.w3.org/2000/svg\" height=\"24px\"viewBox=\"0 0 24 24\"\n",
              "       width=\"24px\">\n",
              "    <path d=\"M0 0h24v24H0V0z\" fill=\"none\"/>\n",
              "    <path d=\"M18.56 5.44l.94 2.06.94-2.06 2.06-.94-2.06-.94-.94-2.06-.94 2.06-2.06.94zm-11 1L8.5 8.5l.94-2.06 2.06-.94-2.06-.94L8.5 2.5l-.94 2.06-2.06.94zm10 10l.94 2.06.94-2.06 2.06-.94-2.06-.94-.94-2.06-.94 2.06-2.06.94z\"/><path d=\"M17.41 7.96l-1.37-1.37c-.4-.4-.92-.59-1.43-.59-.52 0-1.04.2-1.43.59L10.3 9.45l-7.72 7.72c-.78.78-.78 2.05 0 2.83L4 21.41c.39.39.9.59 1.41.59.51 0 1.02-.2 1.41-.59l7.78-7.78 2.81-2.81c.8-.78.8-2.07 0-2.86zM5.41 20L4 18.59l7.72-7.72 1.47 1.35L5.41 20z\"/>\n",
              "  </svg>\n",
              "      </button>\n",
              "      \n",
              "  <style>\n",
              "    .colab-df-container {\n",
              "      display:flex;\n",
              "      flex-wrap:wrap;\n",
              "      gap: 12px;\n",
              "    }\n",
              "\n",
              "    .colab-df-convert {\n",
              "      background-color: #E8F0FE;\n",
              "      border: none;\n",
              "      border-radius: 50%;\n",
              "      cursor: pointer;\n",
              "      display: none;\n",
              "      fill: #1967D2;\n",
              "      height: 32px;\n",
              "      padding: 0 0 0 0;\n",
              "      width: 32px;\n",
              "    }\n",
              "\n",
              "    .colab-df-convert:hover {\n",
              "      background-color: #E2EBFA;\n",
              "      box-shadow: 0px 1px 2px rgba(60, 64, 67, 0.3), 0px 1px 3px 1px rgba(60, 64, 67, 0.15);\n",
              "      fill: #174EA6;\n",
              "    }\n",
              "\n",
              "    [theme=dark] .colab-df-convert {\n",
              "      background-color: #3B4455;\n",
              "      fill: #D2E3FC;\n",
              "    }\n",
              "\n",
              "    [theme=dark] .colab-df-convert:hover {\n",
              "      background-color: #434B5C;\n",
              "      box-shadow: 0px 1px 3px 1px rgba(0, 0, 0, 0.15);\n",
              "      filter: drop-shadow(0px 1px 2px rgba(0, 0, 0, 0.3));\n",
              "      fill: #FFFFFF;\n",
              "    }\n",
              "  </style>\n",
              "\n",
              "      <script>\n",
              "        const buttonEl =\n",
              "          document.querySelector('#df-779b5c86-4bf8-4c55-a9c8-6e3a81b34836 button.colab-df-convert');\n",
              "        buttonEl.style.display =\n",
              "          google.colab.kernel.accessAllowed ? 'block' : 'none';\n",
              "\n",
              "        async function convertToInteractive(key) {\n",
              "          const element = document.querySelector('#df-779b5c86-4bf8-4c55-a9c8-6e3a81b34836');\n",
              "          const dataTable =\n",
              "            await google.colab.kernel.invokeFunction('convertToInteractive',\n",
              "                                                     [key], {});\n",
              "          if (!dataTable) return;\n",
              "\n",
              "          const docLinkHtml = 'Like what you see? Visit the ' +\n",
              "            '<a target=\"_blank\" href=https://colab.research.google.com/notebooks/data_table.ipynb>data table notebook</a>'\n",
              "            + ' to learn more about interactive tables.';\n",
              "          element.innerHTML = '';\n",
              "          dataTable['output_type'] = 'display_data';\n",
              "          await google.colab.output.renderOutput(dataTable, element);\n",
              "          const docLink = document.createElement('div');\n",
              "          docLink.innerHTML = docLinkHtml;\n",
              "          element.appendChild(docLink);\n",
              "        }\n",
              "      </script>\n",
              "    </div>\n",
              "  </div>\n",
              "  "
            ]
          },
          "metadata": {},
          "execution_count": 896
        }
      ]
    },
    {
      "cell_type": "markdown",
      "source": [
        "**These are the 3 walmart stores which is possibly closed:**\n",
        "\n",
        "\n",
        "*   Bellevue Store\t\n",
        "*   Louisville Supercenter\n",
        "*   Cincinnati Supercenter\n",
        "\n"
      ],
      "metadata": {
        "id": "I84uHPPE5_Tc"
      }
    },
    {
      "cell_type": "code",
      "source": [
        "#these are the two continues variables of the data.latitude and longitude\n",
        "#this information tells about the geographical location of stores.\n",
        "\n",
        "walmart.describe()"
      ],
      "metadata": {
        "colab": {
          "base_uri": "https://localhost:8080/",
          "height": 300
        },
        "id": "QKobaOLPAVc2",
        "outputId": "a93a1737-4bee-4afb-da16-f115ddacdddf"
      },
      "execution_count": null,
      "outputs": [
        {
          "output_type": "execute_result",
          "data": {
            "text/plain": [
              "          Latitude    Longitude\n",
              "count  4666.000000  4666.000000\n",
              "mean     36.451054   -91.538159\n",
              "std       5.284875    13.693092\n",
              "min      17.973966  -159.365025\n",
              "25%      32.965483   -97.131349\n",
              "50%      36.187974   -88.414395\n",
              "75%      40.372891   -81.708958\n",
              "max      64.856378   -65.644554"
            ],
            "text/html": [
              "\n",
              "  <div id=\"df-b7611b2e-c8c5-48d5-88f4-9c361bcfad04\">\n",
              "    <div class=\"colab-df-container\">\n",
              "      <div>\n",
              "<style scoped>\n",
              "    .dataframe tbody tr th:only-of-type {\n",
              "        vertical-align: middle;\n",
              "    }\n",
              "\n",
              "    .dataframe tbody tr th {\n",
              "        vertical-align: top;\n",
              "    }\n",
              "\n",
              "    .dataframe thead th {\n",
              "        text-align: right;\n",
              "    }\n",
              "</style>\n",
              "<table border=\"1\" class=\"dataframe\">\n",
              "  <thead>\n",
              "    <tr style=\"text-align: right;\">\n",
              "      <th></th>\n",
              "      <th>Latitude</th>\n",
              "      <th>Longitude</th>\n",
              "    </tr>\n",
              "  </thead>\n",
              "  <tbody>\n",
              "    <tr>\n",
              "      <th>count</th>\n",
              "      <td>4666.000000</td>\n",
              "      <td>4666.000000</td>\n",
              "    </tr>\n",
              "    <tr>\n",
              "      <th>mean</th>\n",
              "      <td>36.451054</td>\n",
              "      <td>-91.538159</td>\n",
              "    </tr>\n",
              "    <tr>\n",
              "      <th>std</th>\n",
              "      <td>5.284875</td>\n",
              "      <td>13.693092</td>\n",
              "    </tr>\n",
              "    <tr>\n",
              "      <th>min</th>\n",
              "      <td>17.973966</td>\n",
              "      <td>-159.365025</td>\n",
              "    </tr>\n",
              "    <tr>\n",
              "      <th>25%</th>\n",
              "      <td>32.965483</td>\n",
              "      <td>-97.131349</td>\n",
              "    </tr>\n",
              "    <tr>\n",
              "      <th>50%</th>\n",
              "      <td>36.187974</td>\n",
              "      <td>-88.414395</td>\n",
              "    </tr>\n",
              "    <tr>\n",
              "      <th>75%</th>\n",
              "      <td>40.372891</td>\n",
              "      <td>-81.708958</td>\n",
              "    </tr>\n",
              "    <tr>\n",
              "      <th>max</th>\n",
              "      <td>64.856378</td>\n",
              "      <td>-65.644554</td>\n",
              "    </tr>\n",
              "  </tbody>\n",
              "</table>\n",
              "</div>\n",
              "      <button class=\"colab-df-convert\" onclick=\"convertToInteractive('df-b7611b2e-c8c5-48d5-88f4-9c361bcfad04')\"\n",
              "              title=\"Convert this dataframe to an interactive table.\"\n",
              "              style=\"display:none;\">\n",
              "        \n",
              "  <svg xmlns=\"http://www.w3.org/2000/svg\" height=\"24px\"viewBox=\"0 0 24 24\"\n",
              "       width=\"24px\">\n",
              "    <path d=\"M0 0h24v24H0V0z\" fill=\"none\"/>\n",
              "    <path d=\"M18.56 5.44l.94 2.06.94-2.06 2.06-.94-2.06-.94-.94-2.06-.94 2.06-2.06.94zm-11 1L8.5 8.5l.94-2.06 2.06-.94-2.06-.94L8.5 2.5l-.94 2.06-2.06.94zm10 10l.94 2.06.94-2.06 2.06-.94-2.06-.94-.94-2.06-.94 2.06-2.06.94z\"/><path d=\"M17.41 7.96l-1.37-1.37c-.4-.4-.92-.59-1.43-.59-.52 0-1.04.2-1.43.59L10.3 9.45l-7.72 7.72c-.78.78-.78 2.05 0 2.83L4 21.41c.39.39.9.59 1.41.59.51 0 1.02-.2 1.41-.59l7.78-7.78 2.81-2.81c.8-.78.8-2.07 0-2.86zM5.41 20L4 18.59l7.72-7.72 1.47 1.35L5.41 20z\"/>\n",
              "  </svg>\n",
              "      </button>\n",
              "      \n",
              "  <style>\n",
              "    .colab-df-container {\n",
              "      display:flex;\n",
              "      flex-wrap:wrap;\n",
              "      gap: 12px;\n",
              "    }\n",
              "\n",
              "    .colab-df-convert {\n",
              "      background-color: #E8F0FE;\n",
              "      border: none;\n",
              "      border-radius: 50%;\n",
              "      cursor: pointer;\n",
              "      display: none;\n",
              "      fill: #1967D2;\n",
              "      height: 32px;\n",
              "      padding: 0 0 0 0;\n",
              "      width: 32px;\n",
              "    }\n",
              "\n",
              "    .colab-df-convert:hover {\n",
              "      background-color: #E2EBFA;\n",
              "      box-shadow: 0px 1px 2px rgba(60, 64, 67, 0.3), 0px 1px 3px 1px rgba(60, 64, 67, 0.15);\n",
              "      fill: #174EA6;\n",
              "    }\n",
              "\n",
              "    [theme=dark] .colab-df-convert {\n",
              "      background-color: #3B4455;\n",
              "      fill: #D2E3FC;\n",
              "    }\n",
              "\n",
              "    [theme=dark] .colab-df-convert:hover {\n",
              "      background-color: #434B5C;\n",
              "      box-shadow: 0px 1px 3px 1px rgba(0, 0, 0, 0.15);\n",
              "      filter: drop-shadow(0px 1px 2px rgba(0, 0, 0, 0.3));\n",
              "      fill: #FFFFFF;\n",
              "    }\n",
              "  </style>\n",
              "\n",
              "      <script>\n",
              "        const buttonEl =\n",
              "          document.querySelector('#df-b7611b2e-c8c5-48d5-88f4-9c361bcfad04 button.colab-df-convert');\n",
              "        buttonEl.style.display =\n",
              "          google.colab.kernel.accessAllowed ? 'block' : 'none';\n",
              "\n",
              "        async function convertToInteractive(key) {\n",
              "          const element = document.querySelector('#df-b7611b2e-c8c5-48d5-88f4-9c361bcfad04');\n",
              "          const dataTable =\n",
              "            await google.colab.kernel.invokeFunction('convertToInteractive',\n",
              "                                                     [key], {});\n",
              "          if (!dataTable) return;\n",
              "\n",
              "          const docLinkHtml = 'Like what you see? Visit the ' +\n",
              "            '<a target=\"_blank\" href=https://colab.research.google.com/notebooks/data_table.ipynb>data table notebook</a>'\n",
              "            + ' to learn more about interactive tables.';\n",
              "          element.innerHTML = '';\n",
              "          dataTable['output_type'] = 'display_data';\n",
              "          await google.colab.output.renderOutput(dataTable, element);\n",
              "          const docLink = document.createElement('div');\n",
              "          docLink.innerHTML = docLinkHtml;\n",
              "          element.appendChild(docLink);\n",
              "        }\n",
              "      </script>\n",
              "    </div>\n",
              "  </div>\n",
              "  "
            ]
          },
          "metadata": {},
          "execution_count": 897
        }
      ]
    },
    {
      "cell_type": "code",
      "source": [
        ""
      ],
      "metadata": {
        "id": "c1a5UL0md6l_"
      },
      "execution_count": null,
      "outputs": []
    },
    {
      "cell_type": "markdown",
      "source": [
        "# **Inference From the Walmart data**\n",
        "\n",
        "Walmart is an American multinational retail corporation that operates a chain of hypermarkets, discount department stores, and grocery stores from the United States. The details of the Walmart stores data are collected recently on April 25th 2022\n",
        "•\tEach store is having store number, and its name is given in the data\n",
        "•\tAddress, street, city, state and zip code of the stores is given.\n",
        "\n",
        "The data contains 4666 rows and 23 columns\n",
        "Some of the column names are not in proper order, rearranged them by adding new names in a dictionary. Here the key will be old variable names and values in the dictionary is new name. There is no duplicate values in the data. We don’t need the address column in the data we can remove it. also we are removing the updated date column from the data, there is no much use with some of the variables of the data so we can remove those variables also. All the Stores having NAICS and SIC codes same, so we are going to eliminate those variables..\n",
        "next we divided the Hours into separate columns. We filled the hours column by most repeated values. None of the data can be deleted, because the ratio is high. Mostly the data contain only categorical variable(Nominal)\n",
        "\n",
        "Top 5 states where the Supercentres are mostly built is given below:\\\n",
        "**Texas, Florida, California, North Carolina, Georgia**\n",
        "\n",
        "States that there is less stores is given below:\\\n",
        "**District of Columbia, Vermont, Delaware, Alaska, Rhode Island**\n",
        "\n",
        "Most of the supercentre are named in name of city names of US like: San Antonio Supercentre, Houston Supercentre, Jacksonville and Orlando.\\\n",
        "The cities where supercentres are mostly seen are: San Antonio, Houston, Orlando, Jacksonville\\\n",
        "Stores are mostly built in these county of US:\\\n",
        "Maricopa, Orange, Jefferson, Washington\n",
        "\n",
        "While collecting information only 3 stores are possibly closed. balance all supercentre is still working in US. These are the 3 Walmart stores which is possibly closed:\\\n",
        "**Bellevue Store, Louisville Supercentre, Cincinnati Supercentre**\n",
        "\n",
        "\n",
        "\n"
      ],
      "metadata": {
        "id": "Jy2MNxMgMPfk"
      }
    },
    {
      "cell_type": "markdown",
      "source": [
        "## **The Kroger data Analysis..**"
      ],
      "metadata": {
        "id": "Hx8aNygT7DYp"
      }
    },
    {
      "cell_type": "markdown",
      "source": [
        "![download.png](data:image/png;base64,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)\n",
        "  \n",
        "\n"
      ],
      "metadata": {
        "id": "tjBenBmUNENe"
      }
    },
    {
      "cell_type": "markdown",
      "source": [
        "\n",
        "Kroger, is an American retail company that operates supermarkets and multi-department stores throughout the United States.This dataset is about the stores of Kroger company across US.\n",
        "\n",
        "The details of the Kroger stores data are collected recently on April 18th 2022\n",
        "\n",
        "\n",
        "*   Each store is having store number, and its name is given in the data\n",
        "*   Address, street, city , state and zip code of the stores is given.\n",
        "*   store open hours are given here.\n",
        "\n"
      ],
      "metadata": {
        "id": "jPTaaXUdPWGs"
      }
    },
    {
      "cell_type": "code",
      "source": [
        "kroger=pd.read_csv('/content/Kroger_USA.csv.zip')\n",
        "kroger.head(2)"
      ],
      "metadata": {
        "colab": {
          "base_uri": "https://localhost:8080/",
          "height": 332
        },
        "id": "V8eTOLoIAuJH",
        "outputId": "2f4196ed-19ce-4f58-9da8-62f78044ea30"
      },
      "execution_count": null,
      "outputs": [
        {
          "output_type": "execute_result",
          "data": {
            "text/plain": [
              "   Store No.                                  Name   Latitude   Longitude  \\\n",
              "0    2613055  Walgreens Pickup: Winston Ave Kroger  39.041550  -84.506668   \n",
              "1   49100660                          Kroger Tempe  33.379424 -111.910917   \n",
              "\n",
              "                                  Address                Street     City  \\\n",
              "0    4299 Winston Ave, Latonia, KY, 41015      4299 Winston Ave  Latonia   \n",
              "1  5100 S Mcclintock Dr, Tempe, AZ, 85282  5100 S Mcclintock Dr    Tempe   \n",
              "\n",
              "  State  Zip_Code    County         Phone  \\\n",
              "0    KY     41015    Kenton  859-991-7483   \n",
              "1    AZ     85282  Maricopa           NaN   \n",
              "\n",
              "                               Open Hours  \\\n",
              "0  sunday - saturday :- 9:00 am - 9:00 pm   \n",
              "1           sunday - saturday :- 24 hours   \n",
              "\n",
              "                                               URL Provider Updated Date  \\\n",
              "0  https://www.kroger.com/stores/details/026/13055   Kroger   2022-04-18   \n",
              "1  https://www.kroger.com/stores/details/491/00660   Kroger   2022-04-18   \n",
              "\n",
              "  Country Status                                      Direction URL  \\\n",
              "0     USA   Open  https://www.google.com/maps/dir/Current+Locati...   \n",
              "1     USA   Open  https://www.google.com/maps/dir/Current+Locati...   \n",
              "\n",
              "  Stock Ticker  \n",
              "0      KR:NYSE  \n",
              "1      KR:NYSE  "
            ],
            "text/html": [
              "\n",
              "  <div id=\"df-f0d7e798-56a4-4eff-b0eb-6b3142960eab\">\n",
              "    <div class=\"colab-df-container\">\n",
              "      <div>\n",
              "<style scoped>\n",
              "    .dataframe tbody tr th:only-of-type {\n",
              "        vertical-align: middle;\n",
              "    }\n",
              "\n",
              "    .dataframe tbody tr th {\n",
              "        vertical-align: top;\n",
              "    }\n",
              "\n",
              "    .dataframe thead th {\n",
              "        text-align: right;\n",
              "    }\n",
              "</style>\n",
              "<table border=\"1\" class=\"dataframe\">\n",
              "  <thead>\n",
              "    <tr style=\"text-align: right;\">\n",
              "      <th></th>\n",
              "      <th>Store No.</th>\n",
              "      <th>Name</th>\n",
              "      <th>Latitude</th>\n",
              "      <th>Longitude</th>\n",
              "      <th>Address</th>\n",
              "      <th>Street</th>\n",
              "      <th>City</th>\n",
              "      <th>State</th>\n",
              "      <th>Zip_Code</th>\n",
              "      <th>County</th>\n",
              "      <th>Phone</th>\n",
              "      <th>Open Hours</th>\n",
              "      <th>URL</th>\n",
              "      <th>Provider</th>\n",
              "      <th>Updated Date</th>\n",
              "      <th>Country</th>\n",
              "      <th>Status</th>\n",
              "      <th>Direction URL</th>\n",
              "      <th>Stock Ticker</th>\n",
              "    </tr>\n",
              "  </thead>\n",
              "  <tbody>\n",
              "    <tr>\n",
              "      <th>0</th>\n",
              "      <td>2613055</td>\n",
              "      <td>Walgreens Pickup: Winston Ave Kroger</td>\n",
              "      <td>39.041550</td>\n",
              "      <td>-84.506668</td>\n",
              "      <td>4299 Winston Ave, Latonia, KY, 41015</td>\n",
              "      <td>4299 Winston Ave</td>\n",
              "      <td>Latonia</td>\n",
              "      <td>KY</td>\n",
              "      <td>41015</td>\n",
              "      <td>Kenton</td>\n",
              "      <td>859-991-7483</td>\n",
              "      <td>sunday - saturday :- 9:00 am - 9:00 pm</td>\n",
              "      <td>https://www.kroger.com/stores/details/026/13055</td>\n",
              "      <td>Kroger</td>\n",
              "      <td>2022-04-18</td>\n",
              "      <td>USA</td>\n",
              "      <td>Open</td>\n",
              "      <td>https://www.google.com/maps/dir/Current+Locati...</td>\n",
              "      <td>KR:NYSE</td>\n",
              "    </tr>\n",
              "    <tr>\n",
              "      <th>1</th>\n",
              "      <td>49100660</td>\n",
              "      <td>Kroger Tempe</td>\n",
              "      <td>33.379424</td>\n",
              "      <td>-111.910917</td>\n",
              "      <td>5100 S Mcclintock Dr, Tempe, AZ, 85282</td>\n",
              "      <td>5100 S Mcclintock Dr</td>\n",
              "      <td>Tempe</td>\n",
              "      <td>AZ</td>\n",
              "      <td>85282</td>\n",
              "      <td>Maricopa</td>\n",
              "      <td>NaN</td>\n",
              "      <td>sunday - saturday :- 24 hours</td>\n",
              "      <td>https://www.kroger.com/stores/details/491/00660</td>\n",
              "      <td>Kroger</td>\n",
              "      <td>2022-04-18</td>\n",
              "      <td>USA</td>\n",
              "      <td>Open</td>\n",
              "      <td>https://www.google.com/maps/dir/Current+Locati...</td>\n",
              "      <td>KR:NYSE</td>\n",
              "    </tr>\n",
              "  </tbody>\n",
              "</table>\n",
              "</div>\n",
              "      <button class=\"colab-df-convert\" onclick=\"convertToInteractive('df-f0d7e798-56a4-4eff-b0eb-6b3142960eab')\"\n",
              "              title=\"Convert this dataframe to an interactive table.\"\n",
              "              style=\"display:none;\">\n",
              "        \n",
              "  <svg xmlns=\"http://www.w3.org/2000/svg\" height=\"24px\"viewBox=\"0 0 24 24\"\n",
              "       width=\"24px\">\n",
              "    <path d=\"M0 0h24v24H0V0z\" fill=\"none\"/>\n",
              "    <path d=\"M18.56 5.44l.94 2.06.94-2.06 2.06-.94-2.06-.94-.94-2.06-.94 2.06-2.06.94zm-11 1L8.5 8.5l.94-2.06 2.06-.94-2.06-.94L8.5 2.5l-.94 2.06-2.06.94zm10 10l.94 2.06.94-2.06 2.06-.94-2.06-.94-.94-2.06-.94 2.06-2.06.94z\"/><path d=\"M17.41 7.96l-1.37-1.37c-.4-.4-.92-.59-1.43-.59-.52 0-1.04.2-1.43.59L10.3 9.45l-7.72 7.72c-.78.78-.78 2.05 0 2.83L4 21.41c.39.39.9.59 1.41.59.51 0 1.02-.2 1.41-.59l7.78-7.78 2.81-2.81c.8-.78.8-2.07 0-2.86zM5.41 20L4 18.59l7.72-7.72 1.47 1.35L5.41 20z\"/>\n",
              "  </svg>\n",
              "      </button>\n",
              "      \n",
              "  <style>\n",
              "    .colab-df-container {\n",
              "      display:flex;\n",
              "      flex-wrap:wrap;\n",
              "      gap: 12px;\n",
              "    }\n",
              "\n",
              "    .colab-df-convert {\n",
              "      background-color: #E8F0FE;\n",
              "      border: none;\n",
              "      border-radius: 50%;\n",
              "      cursor: pointer;\n",
              "      display: none;\n",
              "      fill: #1967D2;\n",
              "      height: 32px;\n",
              "      padding: 0 0 0 0;\n",
              "      width: 32px;\n",
              "    }\n",
              "\n",
              "    .colab-df-convert:hover {\n",
              "      background-color: #E2EBFA;\n",
              "      box-shadow: 0px 1px 2px rgba(60, 64, 67, 0.3), 0px 1px 3px 1px rgba(60, 64, 67, 0.15);\n",
              "      fill: #174EA6;\n",
              "    }\n",
              "\n",
              "    [theme=dark] .colab-df-convert {\n",
              "      background-color: #3B4455;\n",
              "      fill: #D2E3FC;\n",
              "    }\n",
              "\n",
              "    [theme=dark] .colab-df-convert:hover {\n",
              "      background-color: #434B5C;\n",
              "      box-shadow: 0px 1px 3px 1px rgba(0, 0, 0, 0.15);\n",
              "      filter: drop-shadow(0px 1px 2px rgba(0, 0, 0, 0.3));\n",
              "      fill: #FFFFFF;\n",
              "    }\n",
              "  </style>\n",
              "\n",
              "      <script>\n",
              "        const buttonEl =\n",
              "          document.querySelector('#df-f0d7e798-56a4-4eff-b0eb-6b3142960eab button.colab-df-convert');\n",
              "        buttonEl.style.display =\n",
              "          google.colab.kernel.accessAllowed ? 'block' : 'none';\n",
              "\n",
              "        async function convertToInteractive(key) {\n",
              "          const element = document.querySelector('#df-f0d7e798-56a4-4eff-b0eb-6b3142960eab');\n",
              "          const dataTable =\n",
              "            await google.colab.kernel.invokeFunction('convertToInteractive',\n",
              "                                                     [key], {});\n",
              "          if (!dataTable) return;\n",
              "\n",
              "          const docLinkHtml = 'Like what you see? Visit the ' +\n",
              "            '<a target=\"_blank\" href=https://colab.research.google.com/notebooks/data_table.ipynb>data table notebook</a>'\n",
              "            + ' to learn more about interactive tables.';\n",
              "          element.innerHTML = '';\n",
              "          dataTable['output_type'] = 'display_data';\n",
              "          await google.colab.output.renderOutput(dataTable, element);\n",
              "          const docLink = document.createElement('div');\n",
              "          docLink.innerHTML = docLinkHtml;\n",
              "          element.appendChild(docLink);\n",
              "        }\n",
              "      </script>\n",
              "    </div>\n",
              "  </div>\n",
              "  "
            ]
          },
          "metadata": {},
          "execution_count": 898
        }
      ]
    },
    {
      "cell_type": "markdown",
      "source": [
        "### **Analysis for Kroger Store data**"
      ],
      "metadata": {
        "id": "C9OthCCy8NxZ"
      }
    },
    {
      "cell_type": "markdown",
      "source": [
        "### Data Cleaning process"
      ],
      "metadata": {
        "id": "eLwgGLkD8Nxa"
      }
    },
    {
      "cell_type": "code",
      "source": [
        "kroger.columns"
      ],
      "metadata": {
        "colab": {
          "base_uri": "https://localhost:8080/"
        },
        "id": "YPGg9sF_VCDg",
        "outputId": "aa1f10b6-52e7-453e-f301-b380d39bf4a1"
      },
      "execution_count": null,
      "outputs": [
        {
          "output_type": "execute_result",
          "data": {
            "text/plain": [
              "Index(['Store No.', 'Name', 'Latitude', 'Longitude', 'Address', 'Street',\n",
              "       'City', 'State', 'Zip_Code', 'County', 'Phone', 'Open Hours', 'URL',\n",
              "       'Provider', 'Updated Date', 'Country', 'Status', 'Direction URL',\n",
              "       'Stock Ticker'],\n",
              "      dtype='object')"
            ]
          },
          "metadata": {},
          "execution_count": 899
        }
      ]
    },
    {
      "cell_type": "markdown",
      "source": [
        "**To arrange the column names**"
      ],
      "metadata": {
        "id": "P2bsvYFZW7na"
      }
    },
    {
      "cell_type": "code",
      "source": [
        "kroger.rename(columns= {'Store No.':'Store_No', 'Open Hours':'Open_Hours', 'Updated Date':'Updated_Date', 'Direction URL':'URL', 'Stock Ticker':'Stock_Ticker'}, inplace=True)"
      ],
      "metadata": {
        "id": "6iaTEu8JVCO4"
      },
      "execution_count": null,
      "outputs": []
    },
    {
      "cell_type": "code",
      "source": [
        "kroger.head(2)"
      ],
      "metadata": {
        "colab": {
          "base_uri": "https://localhost:8080/",
          "height": 315
        },
        "id": "wepisTKhVCRK",
        "outputId": "2ecad304-8ef8-42c3-f58a-43023cd7ff3d"
      },
      "execution_count": null,
      "outputs": [
        {
          "output_type": "execute_result",
          "data": {
            "text/plain": [
              "   Store_No                                  Name   Latitude   Longitude  \\\n",
              "0   2613055  Walgreens Pickup: Winston Ave Kroger  39.041550  -84.506668   \n",
              "1  49100660                          Kroger Tempe  33.379424 -111.910917   \n",
              "\n",
              "                                  Address                Street     City  \\\n",
              "0    4299 Winston Ave, Latonia, KY, 41015      4299 Winston Ave  Latonia   \n",
              "1  5100 S Mcclintock Dr, Tempe, AZ, 85282  5100 S Mcclintock Dr    Tempe   \n",
              "\n",
              "  State  Zip_Code    County         Phone  \\\n",
              "0    KY     41015    Kenton  859-991-7483   \n",
              "1    AZ     85282  Maricopa           NaN   \n",
              "\n",
              "                               Open_Hours  \\\n",
              "0  sunday - saturday :- 9:00 am - 9:00 pm   \n",
              "1           sunday - saturday :- 24 hours   \n",
              "\n",
              "                                               URL Provider Updated_Date  \\\n",
              "0  https://www.kroger.com/stores/details/026/13055   Kroger   2022-04-18   \n",
              "1  https://www.kroger.com/stores/details/491/00660   Kroger   2022-04-18   \n",
              "\n",
              "  Country Status                                                URL  \\\n",
              "0     USA   Open  https://www.google.com/maps/dir/Current+Locati...   \n",
              "1     USA   Open  https://www.google.com/maps/dir/Current+Locati...   \n",
              "\n",
              "  Stock_Ticker  \n",
              "0      KR:NYSE  \n",
              "1      KR:NYSE  "
            ],
            "text/html": [
              "\n",
              "  <div id=\"df-0262a742-8a36-43ef-957f-561f11b0b791\">\n",
              "    <div class=\"colab-df-container\">\n",
              "      <div>\n",
              "<style scoped>\n",
              "    .dataframe tbody tr th:only-of-type {\n",
              "        vertical-align: middle;\n",
              "    }\n",
              "\n",
              "    .dataframe tbody tr th {\n",
              "        vertical-align: top;\n",
              "    }\n",
              "\n",
              "    .dataframe thead th {\n",
              "        text-align: right;\n",
              "    }\n",
              "</style>\n",
              "<table border=\"1\" class=\"dataframe\">\n",
              "  <thead>\n",
              "    <tr style=\"text-align: right;\">\n",
              "      <th></th>\n",
              "      <th>Store_No</th>\n",
              "      <th>Name</th>\n",
              "      <th>Latitude</th>\n",
              "      <th>Longitude</th>\n",
              "      <th>Address</th>\n",
              "      <th>Street</th>\n",
              "      <th>City</th>\n",
              "      <th>State</th>\n",
              "      <th>Zip_Code</th>\n",
              "      <th>County</th>\n",
              "      <th>Phone</th>\n",
              "      <th>Open_Hours</th>\n",
              "      <th>URL</th>\n",
              "      <th>Provider</th>\n",
              "      <th>Updated_Date</th>\n",
              "      <th>Country</th>\n",
              "      <th>Status</th>\n",
              "      <th>URL</th>\n",
              "      <th>Stock_Ticker</th>\n",
              "    </tr>\n",
              "  </thead>\n",
              "  <tbody>\n",
              "    <tr>\n",
              "      <th>0</th>\n",
              "      <td>2613055</td>\n",
              "      <td>Walgreens Pickup: Winston Ave Kroger</td>\n",
              "      <td>39.041550</td>\n",
              "      <td>-84.506668</td>\n",
              "      <td>4299 Winston Ave, Latonia, KY, 41015</td>\n",
              "      <td>4299 Winston Ave</td>\n",
              "      <td>Latonia</td>\n",
              "      <td>KY</td>\n",
              "      <td>41015</td>\n",
              "      <td>Kenton</td>\n",
              "      <td>859-991-7483</td>\n",
              "      <td>sunday - saturday :- 9:00 am - 9:00 pm</td>\n",
              "      <td>https://www.kroger.com/stores/details/026/13055</td>\n",
              "      <td>Kroger</td>\n",
              "      <td>2022-04-18</td>\n",
              "      <td>USA</td>\n",
              "      <td>Open</td>\n",
              "      <td>https://www.google.com/maps/dir/Current+Locati...</td>\n",
              "      <td>KR:NYSE</td>\n",
              "    </tr>\n",
              "    <tr>\n",
              "      <th>1</th>\n",
              "      <td>49100660</td>\n",
              "      <td>Kroger Tempe</td>\n",
              "      <td>33.379424</td>\n",
              "      <td>-111.910917</td>\n",
              "      <td>5100 S Mcclintock Dr, Tempe, AZ, 85282</td>\n",
              "      <td>5100 S Mcclintock Dr</td>\n",
              "      <td>Tempe</td>\n",
              "      <td>AZ</td>\n",
              "      <td>85282</td>\n",
              "      <td>Maricopa</td>\n",
              "      <td>NaN</td>\n",
              "      <td>sunday - saturday :- 24 hours</td>\n",
              "      <td>https://www.kroger.com/stores/details/491/00660</td>\n",
              "      <td>Kroger</td>\n",
              "      <td>2022-04-18</td>\n",
              "      <td>USA</td>\n",
              "      <td>Open</td>\n",
              "      <td>https://www.google.com/maps/dir/Current+Locati...</td>\n",
              "      <td>KR:NYSE</td>\n",
              "    </tr>\n",
              "  </tbody>\n",
              "</table>\n",
              "</div>\n",
              "      <button class=\"colab-df-convert\" onclick=\"convertToInteractive('df-0262a742-8a36-43ef-957f-561f11b0b791')\"\n",
              "              title=\"Convert this dataframe to an interactive table.\"\n",
              "              style=\"display:none;\">\n",
              "        \n",
              "  <svg xmlns=\"http://www.w3.org/2000/svg\" height=\"24px\"viewBox=\"0 0 24 24\"\n",
              "       width=\"24px\">\n",
              "    <path d=\"M0 0h24v24H0V0z\" fill=\"none\"/>\n",
              "    <path d=\"M18.56 5.44l.94 2.06.94-2.06 2.06-.94-2.06-.94-.94-2.06-.94 2.06-2.06.94zm-11 1L8.5 8.5l.94-2.06 2.06-.94-2.06-.94L8.5 2.5l-.94 2.06-2.06.94zm10 10l.94 2.06.94-2.06 2.06-.94-2.06-.94-.94-2.06-.94 2.06-2.06.94z\"/><path d=\"M17.41 7.96l-1.37-1.37c-.4-.4-.92-.59-1.43-.59-.52 0-1.04.2-1.43.59L10.3 9.45l-7.72 7.72c-.78.78-.78 2.05 0 2.83L4 21.41c.39.39.9.59 1.41.59.51 0 1.02-.2 1.41-.59l7.78-7.78 2.81-2.81c.8-.78.8-2.07 0-2.86zM5.41 20L4 18.59l7.72-7.72 1.47 1.35L5.41 20z\"/>\n",
              "  </svg>\n",
              "      </button>\n",
              "      \n",
              "  <style>\n",
              "    .colab-df-container {\n",
              "      display:flex;\n",
              "      flex-wrap:wrap;\n",
              "      gap: 12px;\n",
              "    }\n",
              "\n",
              "    .colab-df-convert {\n",
              "      background-color: #E8F0FE;\n",
              "      border: none;\n",
              "      border-radius: 50%;\n",
              "      cursor: pointer;\n",
              "      display: none;\n",
              "      fill: #1967D2;\n",
              "      height: 32px;\n",
              "      padding: 0 0 0 0;\n",
              "      width: 32px;\n",
              "    }\n",
              "\n",
              "    .colab-df-convert:hover {\n",
              "      background-color: #E2EBFA;\n",
              "      box-shadow: 0px 1px 2px rgba(60, 64, 67, 0.3), 0px 1px 3px 1px rgba(60, 64, 67, 0.15);\n",
              "      fill: #174EA6;\n",
              "    }\n",
              "\n",
              "    [theme=dark] .colab-df-convert {\n",
              "      background-color: #3B4455;\n",
              "      fill: #D2E3FC;\n",
              "    }\n",
              "\n",
              "    [theme=dark] .colab-df-convert:hover {\n",
              "      background-color: #434B5C;\n",
              "      box-shadow: 0px 1px 3px 1px rgba(0, 0, 0, 0.15);\n",
              "      filter: drop-shadow(0px 1px 2px rgba(0, 0, 0, 0.3));\n",
              "      fill: #FFFFFF;\n",
              "    }\n",
              "  </style>\n",
              "\n",
              "      <script>\n",
              "        const buttonEl =\n",
              "          document.querySelector('#df-0262a742-8a36-43ef-957f-561f11b0b791 button.colab-df-convert');\n",
              "        buttonEl.style.display =\n",
              "          google.colab.kernel.accessAllowed ? 'block' : 'none';\n",
              "\n",
              "        async function convertToInteractive(key) {\n",
              "          const element = document.querySelector('#df-0262a742-8a36-43ef-957f-561f11b0b791');\n",
              "          const dataTable =\n",
              "            await google.colab.kernel.invokeFunction('convertToInteractive',\n",
              "                                                     [key], {});\n",
              "          if (!dataTable) return;\n",
              "\n",
              "          const docLinkHtml = 'Like what you see? Visit the ' +\n",
              "            '<a target=\"_blank\" href=https://colab.research.google.com/notebooks/data_table.ipynb>data table notebook</a>'\n",
              "            + ' to learn more about interactive tables.';\n",
              "          element.innerHTML = '';\n",
              "          dataTable['output_type'] = 'display_data';\n",
              "          await google.colab.output.renderOutput(dataTable, element);\n",
              "          const docLink = document.createElement('div');\n",
              "          docLink.innerHTML = docLinkHtml;\n",
              "          element.appendChild(docLink);\n",
              "        }\n",
              "      </script>\n",
              "    </div>\n",
              "  </div>\n",
              "  "
            ]
          },
          "metadata": {},
          "execution_count": 901
        }
      ]
    },
    {
      "cell_type": "code",
      "source": [
        "kroger.shape"
      ],
      "metadata": {
        "colab": {
          "base_uri": "https://localhost:8080/"
        },
        "id": "NUKrBA3lWVfS",
        "outputId": "5886735d-5047-4f27-8c28-681fb378607c"
      },
      "execution_count": null,
      "outputs": [
        {
          "output_type": "execute_result",
          "data": {
            "text/plain": [
              "(1341, 19)"
            ]
          },
          "metadata": {},
          "execution_count": 902
        }
      ]
    },
    {
      "cell_type": "markdown",
      "source": [
        "In kroger stores data their is 1341 rows and 19 columns"
      ],
      "metadata": {
        "id": "tUvdeD9fXUP7"
      }
    },
    {
      "cell_type": "code",
      "source": [
        "kroger.duplicated().sum()"
      ],
      "metadata": {
        "colab": {
          "base_uri": "https://localhost:8080/"
        },
        "id": "aw6aHgBjXTLt",
        "outputId": "7bf43a4c-ba9f-4935-ad5d-c807e74385ab"
      },
      "execution_count": null,
      "outputs": [
        {
          "output_type": "execute_result",
          "data": {
            "text/plain": [
              "0"
            ]
          },
          "metadata": {},
          "execution_count": 903
        }
      ]
    },
    {
      "cell_type": "markdown",
      "source": [
        "No duplicate recordes in the data."
      ],
      "metadata": {
        "id": "oEvhwWRrawSe"
      }
    },
    {
      "cell_type": "code",
      "source": [
        "kroger.info()"
      ],
      "metadata": {
        "colab": {
          "base_uri": "https://localhost:8080/"
        },
        "id": "Ci9c2ptfVCTX",
        "outputId": "341551a6-9d1e-4dbf-8887-a2a745e65c01"
      },
      "execution_count": null,
      "outputs": [
        {
          "output_type": "stream",
          "name": "stdout",
          "text": [
            "<class 'pandas.core.frame.DataFrame'>\n",
            "RangeIndex: 1341 entries, 0 to 1340\n",
            "Data columns (total 19 columns):\n",
            " #   Column        Non-Null Count  Dtype  \n",
            "---  ------        --------------  -----  \n",
            " 0   Store_No      1341 non-null   int64  \n",
            " 1   Name          1341 non-null   object \n",
            " 2   Latitude      1341 non-null   float64\n",
            " 3   Longitude     1341 non-null   float64\n",
            " 4   Address       1341 non-null   object \n",
            " 5   Street        1341 non-null   object \n",
            " 6   City          1341 non-null   object \n",
            " 7   State         1341 non-null   object \n",
            " 8   Zip_Code      1341 non-null   int64  \n",
            " 9   County        1341 non-null   object \n",
            " 10  Phone         1320 non-null   object \n",
            " 11  Open_Hours    1317 non-null   object \n",
            " 12  URL           1341 non-null   object \n",
            " 13  Provider      1341 non-null   object \n",
            " 14  Updated_Date  1341 non-null   object \n",
            " 15  Country       1341 non-null   object \n",
            " 16  Status        1341 non-null   object \n",
            " 17  URL           1341 non-null   object \n",
            " 18  Stock_Ticker  1341 non-null   object \n",
            "dtypes: float64(2), int64(2), object(15)\n",
            "memory usage: 199.2+ KB\n"
          ]
        }
      ]
    },
    {
      "cell_type": "code",
      "source": [
        "kroger.isna().sum()"
      ],
      "metadata": {
        "colab": {
          "base_uri": "https://localhost:8080/"
        },
        "id": "KgzSuU97VCVB",
        "outputId": "916f3f47-af5f-477c-d2ff-aad42cc05ed7"
      },
      "execution_count": null,
      "outputs": [
        {
          "output_type": "execute_result",
          "data": {
            "text/plain": [
              "Store_No         0\n",
              "Name             0\n",
              "Latitude         0\n",
              "Longitude        0\n",
              "Address          0\n",
              "Street           0\n",
              "City             0\n",
              "State            0\n",
              "Zip_Code         0\n",
              "County           0\n",
              "Phone           21\n",
              "Open_Hours      24\n",
              "URL              0\n",
              "Provider         0\n",
              "Updated_Date     0\n",
              "Country          0\n",
              "Status           0\n",
              "URL              0\n",
              "Stock_Ticker     0\n",
              "dtype: int64"
            ]
          },
          "metadata": {},
          "execution_count": 905
        }
      ]
    },
    {
      "cell_type": "markdown",
      "source": [
        "Inside the data, In phone and open hours their is some null values, Phone variable is not needed for anlysis so we can drop it."
      ],
      "metadata": {
        "id": "HW3sK8JLa6Fq"
      }
    },
    {
      "cell_type": "code",
      "source": [
        "kroger['Updated_Date'].value_counts()"
      ],
      "metadata": {
        "colab": {
          "base_uri": "https://localhost:8080/"
        },
        "id": "gMcft5Y_qqe1",
        "outputId": "8e6d3122-abf1-49f7-bda5-c9ebdaeb5577"
      },
      "execution_count": null,
      "outputs": [
        {
          "output_type": "execute_result",
          "data": {
            "text/plain": [
              "2022-04-18    1341\n",
              "Name: Updated_Date, dtype: int64"
            ]
          },
          "metadata": {},
          "execution_count": 906
        }
      ]
    },
    {
      "cell_type": "code",
      "source": [
        "#dropping these variables, beacuse no use with these data\n",
        "kroger.drop(['Address','Updated_Date', 'Country','URL','Phone', 'Provider', 'Zip_Code', 'Store_No', 'Stock_Ticker'], axis=1, inplace=True)"
      ],
      "metadata": {
        "id": "BlpalY6Ea4RA"
      },
      "execution_count": null,
      "outputs": []
    },
    {
      "cell_type": "code",
      "source": [
        "kroger.head(4)"
      ],
      "metadata": {
        "colab": {
          "base_uri": "https://localhost:8080/",
          "height": 175
        },
        "id": "gTY8-aZOVCXR",
        "outputId": "78016f07-f6c7-4067-c6d6-99ad803fd698"
      },
      "execution_count": null,
      "outputs": [
        {
          "output_type": "execute_result",
          "data": {
            "text/plain": [
              "                                   Name   Latitude   Longitude  \\\n",
              "0  Walgreens Pickup: Winston Ave Kroger  39.041550  -84.506668   \n",
              "1                          Kroger Tempe  33.379424 -111.910917   \n",
              "2                       Maumelle Kroger  34.847856  -92.408438   \n",
              "3                      W Memphis Kroger  35.167868  -90.191514   \n",
              "\n",
              "                 Street          City State      County  \\\n",
              "0      4299 Winston Ave       Latonia    KY      Kenton   \n",
              "1  5100 S Mcclintock Dr         Tempe    AZ    Maricopa   \n",
              "2        110 Commons Dr      Maumelle    AR     Pulaski   \n",
              "3      300 W Service Rd  West Memphis    AR  Crittenden   \n",
              "\n",
              "                                Open_Hours Status  \n",
              "0   sunday - saturday :- 9:00 am - 9:00 pm   Open  \n",
              "1            sunday - saturday :- 24 hours   Open  \n",
              "2  sunday - saturday :- 7:00 am - 11:00 pm   Open  \n",
              "3  sunday - saturday :- 7:00 am - 10:00 pm   Open  "
            ],
            "text/html": [
              "\n",
              "  <div id=\"df-47cc7662-f059-42c3-81ff-1a32c838cb57\">\n",
              "    <div class=\"colab-df-container\">\n",
              "      <div>\n",
              "<style scoped>\n",
              "    .dataframe tbody tr th:only-of-type {\n",
              "        vertical-align: middle;\n",
              "    }\n",
              "\n",
              "    .dataframe tbody tr th {\n",
              "        vertical-align: top;\n",
              "    }\n",
              "\n",
              "    .dataframe thead th {\n",
              "        text-align: right;\n",
              "    }\n",
              "</style>\n",
              "<table border=\"1\" class=\"dataframe\">\n",
              "  <thead>\n",
              "    <tr style=\"text-align: right;\">\n",
              "      <th></th>\n",
              "      <th>Name</th>\n",
              "      <th>Latitude</th>\n",
              "      <th>Longitude</th>\n",
              "      <th>Street</th>\n",
              "      <th>City</th>\n",
              "      <th>State</th>\n",
              "      <th>County</th>\n",
              "      <th>Open_Hours</th>\n",
              "      <th>Status</th>\n",
              "    </tr>\n",
              "  </thead>\n",
              "  <tbody>\n",
              "    <tr>\n",
              "      <th>0</th>\n",
              "      <td>Walgreens Pickup: Winston Ave Kroger</td>\n",
              "      <td>39.041550</td>\n",
              "      <td>-84.506668</td>\n",
              "      <td>4299 Winston Ave</td>\n",
              "      <td>Latonia</td>\n",
              "      <td>KY</td>\n",
              "      <td>Kenton</td>\n",
              "      <td>sunday - saturday :- 9:00 am - 9:00 pm</td>\n",
              "      <td>Open</td>\n",
              "    </tr>\n",
              "    <tr>\n",
              "      <th>1</th>\n",
              "      <td>Kroger Tempe</td>\n",
              "      <td>33.379424</td>\n",
              "      <td>-111.910917</td>\n",
              "      <td>5100 S Mcclintock Dr</td>\n",
              "      <td>Tempe</td>\n",
              "      <td>AZ</td>\n",
              "      <td>Maricopa</td>\n",
              "      <td>sunday - saturday :- 24 hours</td>\n",
              "      <td>Open</td>\n",
              "    </tr>\n",
              "    <tr>\n",
              "      <th>2</th>\n",
              "      <td>Maumelle Kroger</td>\n",
              "      <td>34.847856</td>\n",
              "      <td>-92.408438</td>\n",
              "      <td>110 Commons Dr</td>\n",
              "      <td>Maumelle</td>\n",
              "      <td>AR</td>\n",
              "      <td>Pulaski</td>\n",
              "      <td>sunday - saturday :- 7:00 am - 11:00 pm</td>\n",
              "      <td>Open</td>\n",
              "    </tr>\n",
              "    <tr>\n",
              "      <th>3</th>\n",
              "      <td>W Memphis Kroger</td>\n",
              "      <td>35.167868</td>\n",
              "      <td>-90.191514</td>\n",
              "      <td>300 W Service Rd</td>\n",
              "      <td>West Memphis</td>\n",
              "      <td>AR</td>\n",
              "      <td>Crittenden</td>\n",
              "      <td>sunday - saturday :- 7:00 am - 10:00 pm</td>\n",
              "      <td>Open</td>\n",
              "    </tr>\n",
              "  </tbody>\n",
              "</table>\n",
              "</div>\n",
              "      <button class=\"colab-df-convert\" onclick=\"convertToInteractive('df-47cc7662-f059-42c3-81ff-1a32c838cb57')\"\n",
              "              title=\"Convert this dataframe to an interactive table.\"\n",
              "              style=\"display:none;\">\n",
              "        \n",
              "  <svg xmlns=\"http://www.w3.org/2000/svg\" height=\"24px\"viewBox=\"0 0 24 24\"\n",
              "       width=\"24px\">\n",
              "    <path d=\"M0 0h24v24H0V0z\" fill=\"none\"/>\n",
              "    <path d=\"M18.56 5.44l.94 2.06.94-2.06 2.06-.94-2.06-.94-.94-2.06-.94 2.06-2.06.94zm-11 1L8.5 8.5l.94-2.06 2.06-.94-2.06-.94L8.5 2.5l-.94 2.06-2.06.94zm10 10l.94 2.06.94-2.06 2.06-.94-2.06-.94-.94-2.06-.94 2.06-2.06.94z\"/><path d=\"M17.41 7.96l-1.37-1.37c-.4-.4-.92-.59-1.43-.59-.52 0-1.04.2-1.43.59L10.3 9.45l-7.72 7.72c-.78.78-.78 2.05 0 2.83L4 21.41c.39.39.9.59 1.41.59.51 0 1.02-.2 1.41-.59l7.78-7.78 2.81-2.81c.8-.78.8-2.07 0-2.86zM5.41 20L4 18.59l7.72-7.72 1.47 1.35L5.41 20z\"/>\n",
              "  </svg>\n",
              "      </button>\n",
              "      \n",
              "  <style>\n",
              "    .colab-df-container {\n",
              "      display:flex;\n",
              "      flex-wrap:wrap;\n",
              "      gap: 12px;\n",
              "    }\n",
              "\n",
              "    .colab-df-convert {\n",
              "      background-color: #E8F0FE;\n",
              "      border: none;\n",
              "      border-radius: 50%;\n",
              "      cursor: pointer;\n",
              "      display: none;\n",
              "      fill: #1967D2;\n",
              "      height: 32px;\n",
              "      padding: 0 0 0 0;\n",
              "      width: 32px;\n",
              "    }\n",
              "\n",
              "    .colab-df-convert:hover {\n",
              "      background-color: #E2EBFA;\n",
              "      box-shadow: 0px 1px 2px rgba(60, 64, 67, 0.3), 0px 1px 3px 1px rgba(60, 64, 67, 0.15);\n",
              "      fill: #174EA6;\n",
              "    }\n",
              "\n",
              "    [theme=dark] .colab-df-convert {\n",
              "      background-color: #3B4455;\n",
              "      fill: #D2E3FC;\n",
              "    }\n",
              "\n",
              "    [theme=dark] .colab-df-convert:hover {\n",
              "      background-color: #434B5C;\n",
              "      box-shadow: 0px 1px 3px 1px rgba(0, 0, 0, 0.15);\n",
              "      filter: drop-shadow(0px 1px 2px rgba(0, 0, 0, 0.3));\n",
              "      fill: #FFFFFF;\n",
              "    }\n",
              "  </style>\n",
              "\n",
              "      <script>\n",
              "        const buttonEl =\n",
              "          document.querySelector('#df-47cc7662-f059-42c3-81ff-1a32c838cb57 button.colab-df-convert');\n",
              "        buttonEl.style.display =\n",
              "          google.colab.kernel.accessAllowed ? 'block' : 'none';\n",
              "\n",
              "        async function convertToInteractive(key) {\n",
              "          const element = document.querySelector('#df-47cc7662-f059-42c3-81ff-1a32c838cb57');\n",
              "          const dataTable =\n",
              "            await google.colab.kernel.invokeFunction('convertToInteractive',\n",
              "                                                     [key], {});\n",
              "          if (!dataTable) return;\n",
              "\n",
              "          const docLinkHtml = 'Like what you see? Visit the ' +\n",
              "            '<a target=\"_blank\" href=https://colab.research.google.com/notebooks/data_table.ipynb>data table notebook</a>'\n",
              "            + ' to learn more about interactive tables.';\n",
              "          element.innerHTML = '';\n",
              "          dataTable['output_type'] = 'display_data';\n",
              "          await google.colab.output.renderOutput(dataTable, element);\n",
              "          const docLink = document.createElement('div');\n",
              "          docLink.innerHTML = docLinkHtml;\n",
              "          element.appendChild(docLink);\n",
              "        }\n",
              "      </script>\n",
              "    </div>\n",
              "  </div>\n",
              "  "
            ]
          },
          "metadata": {},
          "execution_count": 908
        }
      ]
    },
    {
      "cell_type": "markdown",
      "source": [
        "**Here in next codes we are going to divide the hours**"
      ],
      "metadata": {
        "id": "xJY1MMHBUUQI"
      }
    },
    {
      "cell_type": "code",
      "source": [
        "kroger.Open_Hours.head(11)"
      ],
      "metadata": {
        "colab": {
          "base_uri": "https://localhost:8080/"
        },
        "outputId": "b65a61d8-f242-4d93-ccda-43d4be298200",
        "id": "6jJxd3JRUUQJ"
      },
      "execution_count": null,
      "outputs": [
        {
          "output_type": "execute_result",
          "data": {
            "text/plain": [
              "0      sunday - saturday :- 9:00 am - 9:00 pm\n",
              "1               sunday - saturday :- 24 hours\n",
              "2     sunday - saturday :- 7:00 am - 11:00 pm\n",
              "3     sunday - saturday :- 7:00 am - 10:00 pm\n",
              "4     sunday - saturday :- 6:00 am - 11:00 pm\n",
              "5               sunday - saturday :- 24 hours\n",
              "6     sunday - saturday :- 7:00 am - 11:00 pm\n",
              "7               sunday - saturday :- 24 hours\n",
              "8     sunday - saturday :- 7:00 am - 10:00 pm\n",
              "9     sunday - saturday :- 8:00 am - 10:00 pm\n",
              "10                                        NaN\n",
              "Name: Open_Hours, dtype: object"
            ]
          },
          "metadata": {},
          "execution_count": 909
        }
      ]
    },
    {
      "cell_type": "code",
      "source": [
        "kroger['Open_Hours'].str.split('|')"
      ],
      "metadata": {
        "colab": {
          "base_uri": "https://localhost:8080/"
        },
        "outputId": "d983fe26-6796-4c71-9ffd-c68e1604fc5b",
        "id": "WSrezgrYUUQK"
      },
      "execution_count": null,
      "outputs": [
        {
          "output_type": "execute_result",
          "data": {
            "text/plain": [
              "0        [sunday - saturday :- 9:00 am - 9:00 pm]\n",
              "1                 [sunday - saturday :- 24 hours]\n",
              "2       [sunday - saturday :- 7:00 am - 11:00 pm]\n",
              "3       [sunday - saturday :- 7:00 am - 10:00 pm]\n",
              "4       [sunday - saturday :- 6:00 am - 11:00 pm]\n",
              "                          ...                    \n",
              "1336    [sunday - saturday :- 7:00 am - 11:00 pm]\n",
              "1337    [sunday - saturday :- 7:00 am - 10:00 pm]\n",
              "1338    [sunday - saturday :- 7:00 am - 10:00 pm]\n",
              "1339    [sunday - saturday :- 7:00 am - 10:00 pm]\n",
              "1340              [sunday - saturday :- 24 hours]\n",
              "Name: Open_Hours, Length: 1341, dtype: object"
            ]
          },
          "metadata": {},
          "execution_count": 910
        }
      ]
    },
    {
      "cell_type": "code",
      "source": [
        "kroger['Hours']=kroger['Open_Hours'].str.split(':-').str[1]\n"
      ],
      "metadata": {
        "id": "451jFtt9UUQL"
      },
      "execution_count": null,
      "outputs": []
    },
    {
      "cell_type": "code",
      "source": [
        "kroger.head(2)"
      ],
      "metadata": {
        "colab": {
          "base_uri": "https://localhost:8080/",
          "height": 112
        },
        "outputId": "1f7b1cb9-318c-4030-ca5c-6a38a7c2e84e",
        "id": "hjLuCAl-UUQL"
      },
      "execution_count": null,
      "outputs": [
        {
          "output_type": "execute_result",
          "data": {
            "text/plain": [
              "                                   Name   Latitude   Longitude  \\\n",
              "0  Walgreens Pickup: Winston Ave Kroger  39.041550  -84.506668   \n",
              "1                          Kroger Tempe  33.379424 -111.910917   \n",
              "\n",
              "                 Street     City State    County  \\\n",
              "0      4299 Winston Ave  Latonia    KY    Kenton   \n",
              "1  5100 S Mcclintock Dr    Tempe    AZ  Maricopa   \n",
              "\n",
              "                               Open_Hours Status               Hours  \n",
              "0  sunday - saturday :- 9:00 am - 9:00 pm   Open   9:00 am - 9:00 pm  \n",
              "1           sunday - saturday :- 24 hours   Open            24 hours  "
            ],
            "text/html": [
              "\n",
              "  <div id=\"df-ebbb492e-4e28-4d7d-b86b-e22b838a57c8\">\n",
              "    <div class=\"colab-df-container\">\n",
              "      <div>\n",
              "<style scoped>\n",
              "    .dataframe tbody tr th:only-of-type {\n",
              "        vertical-align: middle;\n",
              "    }\n",
              "\n",
              "    .dataframe tbody tr th {\n",
              "        vertical-align: top;\n",
              "    }\n",
              "\n",
              "    .dataframe thead th {\n",
              "        text-align: right;\n",
              "    }\n",
              "</style>\n",
              "<table border=\"1\" class=\"dataframe\">\n",
              "  <thead>\n",
              "    <tr style=\"text-align: right;\">\n",
              "      <th></th>\n",
              "      <th>Name</th>\n",
              "      <th>Latitude</th>\n",
              "      <th>Longitude</th>\n",
              "      <th>Street</th>\n",
              "      <th>City</th>\n",
              "      <th>State</th>\n",
              "      <th>County</th>\n",
              "      <th>Open_Hours</th>\n",
              "      <th>Status</th>\n",
              "      <th>Hours</th>\n",
              "    </tr>\n",
              "  </thead>\n",
              "  <tbody>\n",
              "    <tr>\n",
              "      <th>0</th>\n",
              "      <td>Walgreens Pickup: Winston Ave Kroger</td>\n",
              "      <td>39.041550</td>\n",
              "      <td>-84.506668</td>\n",
              "      <td>4299 Winston Ave</td>\n",
              "      <td>Latonia</td>\n",
              "      <td>KY</td>\n",
              "      <td>Kenton</td>\n",
              "      <td>sunday - saturday :- 9:00 am - 9:00 pm</td>\n",
              "      <td>Open</td>\n",
              "      <td>9:00 am - 9:00 pm</td>\n",
              "    </tr>\n",
              "    <tr>\n",
              "      <th>1</th>\n",
              "      <td>Kroger Tempe</td>\n",
              "      <td>33.379424</td>\n",
              "      <td>-111.910917</td>\n",
              "      <td>5100 S Mcclintock Dr</td>\n",
              "      <td>Tempe</td>\n",
              "      <td>AZ</td>\n",
              "      <td>Maricopa</td>\n",
              "      <td>sunday - saturday :- 24 hours</td>\n",
              "      <td>Open</td>\n",
              "      <td>24 hours</td>\n",
              "    </tr>\n",
              "  </tbody>\n",
              "</table>\n",
              "</div>\n",
              "      <button class=\"colab-df-convert\" onclick=\"convertToInteractive('df-ebbb492e-4e28-4d7d-b86b-e22b838a57c8')\"\n",
              "              title=\"Convert this dataframe to an interactive table.\"\n",
              "              style=\"display:none;\">\n",
              "        \n",
              "  <svg xmlns=\"http://www.w3.org/2000/svg\" height=\"24px\"viewBox=\"0 0 24 24\"\n",
              "       width=\"24px\">\n",
              "    <path d=\"M0 0h24v24H0V0z\" fill=\"none\"/>\n",
              "    <path d=\"M18.56 5.44l.94 2.06.94-2.06 2.06-.94-2.06-.94-.94-2.06-.94 2.06-2.06.94zm-11 1L8.5 8.5l.94-2.06 2.06-.94-2.06-.94L8.5 2.5l-.94 2.06-2.06.94zm10 10l.94 2.06.94-2.06 2.06-.94-2.06-.94-.94-2.06-.94 2.06-2.06.94z\"/><path d=\"M17.41 7.96l-1.37-1.37c-.4-.4-.92-.59-1.43-.59-.52 0-1.04.2-1.43.59L10.3 9.45l-7.72 7.72c-.78.78-.78 2.05 0 2.83L4 21.41c.39.39.9.59 1.41.59.51 0 1.02-.2 1.41-.59l7.78-7.78 2.81-2.81c.8-.78.8-2.07 0-2.86zM5.41 20L4 18.59l7.72-7.72 1.47 1.35L5.41 20z\"/>\n",
              "  </svg>\n",
              "      </button>\n",
              "      \n",
              "  <style>\n",
              "    .colab-df-container {\n",
              "      display:flex;\n",
              "      flex-wrap:wrap;\n",
              "      gap: 12px;\n",
              "    }\n",
              "\n",
              "    .colab-df-convert {\n",
              "      background-color: #E8F0FE;\n",
              "      border: none;\n",
              "      border-radius: 50%;\n",
              "      cursor: pointer;\n",
              "      display: none;\n",
              "      fill: #1967D2;\n",
              "      height: 32px;\n",
              "      padding: 0 0 0 0;\n",
              "      width: 32px;\n",
              "    }\n",
              "\n",
              "    .colab-df-convert:hover {\n",
              "      background-color: #E2EBFA;\n",
              "      box-shadow: 0px 1px 2px rgba(60, 64, 67, 0.3), 0px 1px 3px 1px rgba(60, 64, 67, 0.15);\n",
              "      fill: #174EA6;\n",
              "    }\n",
              "\n",
              "    [theme=dark] .colab-df-convert {\n",
              "      background-color: #3B4455;\n",
              "      fill: #D2E3FC;\n",
              "    }\n",
              "\n",
              "    [theme=dark] .colab-df-convert:hover {\n",
              "      background-color: #434B5C;\n",
              "      box-shadow: 0px 1px 3px 1px rgba(0, 0, 0, 0.15);\n",
              "      filter: drop-shadow(0px 1px 2px rgba(0, 0, 0, 0.3));\n",
              "      fill: #FFFFFF;\n",
              "    }\n",
              "  </style>\n",
              "\n",
              "      <script>\n",
              "        const buttonEl =\n",
              "          document.querySelector('#df-ebbb492e-4e28-4d7d-b86b-e22b838a57c8 button.colab-df-convert');\n",
              "        buttonEl.style.display =\n",
              "          google.colab.kernel.accessAllowed ? 'block' : 'none';\n",
              "\n",
              "        async function convertToInteractive(key) {\n",
              "          const element = document.querySelector('#df-ebbb492e-4e28-4d7d-b86b-e22b838a57c8');\n",
              "          const dataTable =\n",
              "            await google.colab.kernel.invokeFunction('convertToInteractive',\n",
              "                                                     [key], {});\n",
              "          if (!dataTable) return;\n",
              "\n",
              "          const docLinkHtml = 'Like what you see? Visit the ' +\n",
              "            '<a target=\"_blank\" href=https://colab.research.google.com/notebooks/data_table.ipynb>data table notebook</a>'\n",
              "            + ' to learn more about interactive tables.';\n",
              "          element.innerHTML = '';\n",
              "          dataTable['output_type'] = 'display_data';\n",
              "          await google.colab.output.renderOutput(dataTable, element);\n",
              "          const docLink = document.createElement('div');\n",
              "          docLink.innerHTML = docLinkHtml;\n",
              "          element.appendChild(docLink);\n",
              "        }\n",
              "      </script>\n",
              "    </div>\n",
              "  </div>\n",
              "  "
            ]
          },
          "metadata": {},
          "execution_count": 912
        }
      ]
    },
    {
      "cell_type": "code",
      "source": [
        "kroger.columns"
      ],
      "metadata": {
        "colab": {
          "base_uri": "https://localhost:8080/"
        },
        "outputId": "4291fa4d-d7c8-4b40-eccf-563532f5b608",
        "id": "YYYVgaY9UUQN"
      },
      "execution_count": null,
      "outputs": [
        {
          "output_type": "execute_result",
          "data": {
            "text/plain": [
              "Index(['Name', 'Latitude', 'Longitude', 'Street', 'City', 'State', 'County',\n",
              "       'Open_Hours', 'Status', 'Hours'],\n",
              "      dtype='object')"
            ]
          },
          "metadata": {},
          "execution_count": 913
        }
      ]
    },
    {
      "cell_type": "code",
      "source": [
        "kroger.drop(['Open_Hours'], axis=1, inplace=True)"
      ],
      "metadata": {
        "id": "1OKev3CUUUQN"
      },
      "execution_count": null,
      "outputs": []
    },
    {
      "cell_type": "code",
      "source": [
        "kroger.head(2)"
      ],
      "metadata": {
        "colab": {
          "base_uri": "https://localhost:8080/",
          "height": 112
        },
        "outputId": "72a31d95-c76e-4cd4-c179-b147bcdd358e",
        "id": "dewKhhbjUUQN"
      },
      "execution_count": null,
      "outputs": [
        {
          "output_type": "execute_result",
          "data": {
            "text/plain": [
              "                                   Name   Latitude   Longitude  \\\n",
              "0  Walgreens Pickup: Winston Ave Kroger  39.041550  -84.506668   \n",
              "1                          Kroger Tempe  33.379424 -111.910917   \n",
              "\n",
              "                 Street     City State    County Status               Hours  \n",
              "0      4299 Winston Ave  Latonia    KY    Kenton   Open   9:00 am - 9:00 pm  \n",
              "1  5100 S Mcclintock Dr    Tempe    AZ  Maricopa   Open            24 hours  "
            ],
            "text/html": [
              "\n",
              "  <div id=\"df-5b7700d8-ab05-4d90-8275-fb730e5d93c8\">\n",
              "    <div class=\"colab-df-container\">\n",
              "      <div>\n",
              "<style scoped>\n",
              "    .dataframe tbody tr th:only-of-type {\n",
              "        vertical-align: middle;\n",
              "    }\n",
              "\n",
              "    .dataframe tbody tr th {\n",
              "        vertical-align: top;\n",
              "    }\n",
              "\n",
              "    .dataframe thead th {\n",
              "        text-align: right;\n",
              "    }\n",
              "</style>\n",
              "<table border=\"1\" class=\"dataframe\">\n",
              "  <thead>\n",
              "    <tr style=\"text-align: right;\">\n",
              "      <th></th>\n",
              "      <th>Name</th>\n",
              "      <th>Latitude</th>\n",
              "      <th>Longitude</th>\n",
              "      <th>Street</th>\n",
              "      <th>City</th>\n",
              "      <th>State</th>\n",
              "      <th>County</th>\n",
              "      <th>Status</th>\n",
              "      <th>Hours</th>\n",
              "    </tr>\n",
              "  </thead>\n",
              "  <tbody>\n",
              "    <tr>\n",
              "      <th>0</th>\n",
              "      <td>Walgreens Pickup: Winston Ave Kroger</td>\n",
              "      <td>39.041550</td>\n",
              "      <td>-84.506668</td>\n",
              "      <td>4299 Winston Ave</td>\n",
              "      <td>Latonia</td>\n",
              "      <td>KY</td>\n",
              "      <td>Kenton</td>\n",
              "      <td>Open</td>\n",
              "      <td>9:00 am - 9:00 pm</td>\n",
              "    </tr>\n",
              "    <tr>\n",
              "      <th>1</th>\n",
              "      <td>Kroger Tempe</td>\n",
              "      <td>33.379424</td>\n",
              "      <td>-111.910917</td>\n",
              "      <td>5100 S Mcclintock Dr</td>\n",
              "      <td>Tempe</td>\n",
              "      <td>AZ</td>\n",
              "      <td>Maricopa</td>\n",
              "      <td>Open</td>\n",
              "      <td>24 hours</td>\n",
              "    </tr>\n",
              "  </tbody>\n",
              "</table>\n",
              "</div>\n",
              "      <button class=\"colab-df-convert\" onclick=\"convertToInteractive('df-5b7700d8-ab05-4d90-8275-fb730e5d93c8')\"\n",
              "              title=\"Convert this dataframe to an interactive table.\"\n",
              "              style=\"display:none;\">\n",
              "        \n",
              "  <svg xmlns=\"http://www.w3.org/2000/svg\" height=\"24px\"viewBox=\"0 0 24 24\"\n",
              "       width=\"24px\">\n",
              "    <path d=\"M0 0h24v24H0V0z\" fill=\"none\"/>\n",
              "    <path d=\"M18.56 5.44l.94 2.06.94-2.06 2.06-.94-2.06-.94-.94-2.06-.94 2.06-2.06.94zm-11 1L8.5 8.5l.94-2.06 2.06-.94-2.06-.94L8.5 2.5l-.94 2.06-2.06.94zm10 10l.94 2.06.94-2.06 2.06-.94-2.06-.94-.94-2.06-.94 2.06-2.06.94z\"/><path d=\"M17.41 7.96l-1.37-1.37c-.4-.4-.92-.59-1.43-.59-.52 0-1.04.2-1.43.59L10.3 9.45l-7.72 7.72c-.78.78-.78 2.05 0 2.83L4 21.41c.39.39.9.59 1.41.59.51 0 1.02-.2 1.41-.59l7.78-7.78 2.81-2.81c.8-.78.8-2.07 0-2.86zM5.41 20L4 18.59l7.72-7.72 1.47 1.35L5.41 20z\"/>\n",
              "  </svg>\n",
              "      </button>\n",
              "      \n",
              "  <style>\n",
              "    .colab-df-container {\n",
              "      display:flex;\n",
              "      flex-wrap:wrap;\n",
              "      gap: 12px;\n",
              "    }\n",
              "\n",
              "    .colab-df-convert {\n",
              "      background-color: #E8F0FE;\n",
              "      border: none;\n",
              "      border-radius: 50%;\n",
              "      cursor: pointer;\n",
              "      display: none;\n",
              "      fill: #1967D2;\n",
              "      height: 32px;\n",
              "      padding: 0 0 0 0;\n",
              "      width: 32px;\n",
              "    }\n",
              "\n",
              "    .colab-df-convert:hover {\n",
              "      background-color: #E2EBFA;\n",
              "      box-shadow: 0px 1px 2px rgba(60, 64, 67, 0.3), 0px 1px 3px 1px rgba(60, 64, 67, 0.15);\n",
              "      fill: #174EA6;\n",
              "    }\n",
              "\n",
              "    [theme=dark] .colab-df-convert {\n",
              "      background-color: #3B4455;\n",
              "      fill: #D2E3FC;\n",
              "    }\n",
              "\n",
              "    [theme=dark] .colab-df-convert:hover {\n",
              "      background-color: #434B5C;\n",
              "      box-shadow: 0px 1px 3px 1px rgba(0, 0, 0, 0.15);\n",
              "      filter: drop-shadow(0px 1px 2px rgba(0, 0, 0, 0.3));\n",
              "      fill: #FFFFFF;\n",
              "    }\n",
              "  </style>\n",
              "\n",
              "      <script>\n",
              "        const buttonEl =\n",
              "          document.querySelector('#df-5b7700d8-ab05-4d90-8275-fb730e5d93c8 button.colab-df-convert');\n",
              "        buttonEl.style.display =\n",
              "          google.colab.kernel.accessAllowed ? 'block' : 'none';\n",
              "\n",
              "        async function convertToInteractive(key) {\n",
              "          const element = document.querySelector('#df-5b7700d8-ab05-4d90-8275-fb730e5d93c8');\n",
              "          const dataTable =\n",
              "            await google.colab.kernel.invokeFunction('convertToInteractive',\n",
              "                                                     [key], {});\n",
              "          if (!dataTable) return;\n",
              "\n",
              "          const docLinkHtml = 'Like what you see? Visit the ' +\n",
              "            '<a target=\"_blank\" href=https://colab.research.google.com/notebooks/data_table.ipynb>data table notebook</a>'\n",
              "            + ' to learn more about interactive tables.';\n",
              "          element.innerHTML = '';\n",
              "          dataTable['output_type'] = 'display_data';\n",
              "          await google.colab.output.renderOutput(dataTable, element);\n",
              "          const docLink = document.createElement('div');\n",
              "          docLink.innerHTML = docLinkHtml;\n",
              "          element.appendChild(docLink);\n",
              "        }\n",
              "      </script>\n",
              "    </div>\n",
              "  </div>\n",
              "  "
            ]
          },
          "metadata": {},
          "execution_count": 915
        }
      ]
    },
    {
      "cell_type": "code",
      "source": [
        "kroger.info()"
      ],
      "metadata": {
        "colab": {
          "base_uri": "https://localhost:8080/"
        },
        "outputId": "5db72794-932a-4eae-a89c-826c029281ea",
        "id": "MnsREG2NUUQO"
      },
      "execution_count": null,
      "outputs": [
        {
          "output_type": "stream",
          "name": "stdout",
          "text": [
            "<class 'pandas.core.frame.DataFrame'>\n",
            "RangeIndex: 1341 entries, 0 to 1340\n",
            "Data columns (total 9 columns):\n",
            " #   Column     Non-Null Count  Dtype  \n",
            "---  ------     --------------  -----  \n",
            " 0   Name       1341 non-null   object \n",
            " 1   Latitude   1341 non-null   float64\n",
            " 2   Longitude  1341 non-null   float64\n",
            " 3   Street     1341 non-null   object \n",
            " 4   City       1341 non-null   object \n",
            " 5   State      1341 non-null   object \n",
            " 6   County     1341 non-null   object \n",
            " 7   Status     1341 non-null   object \n",
            " 8   Hours      1317 non-null   object \n",
            "dtypes: float64(2), object(7)\n",
            "memory usage: 94.4+ KB\n"
          ]
        }
      ]
    },
    {
      "cell_type": "code",
      "source": [
        "kroger.isnull().sum()"
      ],
      "metadata": {
        "colab": {
          "base_uri": "https://localhost:8080/"
        },
        "outputId": "580c5f5e-b443-474a-ae6b-d381f9264f03",
        "id": "lVAKqRK0bxzP"
      },
      "execution_count": null,
      "outputs": [
        {
          "output_type": "execute_result",
          "data": {
            "text/plain": [
              "Name          0\n",
              "Latitude      0\n",
              "Longitude     0\n",
              "Street        0\n",
              "City          0\n",
              "State         0\n",
              "County        0\n",
              "Status        0\n",
              "Hours        24\n",
              "dtype: int64"
            ]
          },
          "metadata": {},
          "execution_count": 917
        }
      ]
    },
    {
      "cell_type": "markdown",
      "source": [
        "**inside this data their is null values in Hours of each day so by checking the percentage we need to fill the hours to clean the data**..\\\n",
        " "
      ],
      "metadata": {
        "id": "rXlbptsqUUQO"
      }
    },
    {
      "cell_type": "code",
      "source": [
        "kroger.Hours.value_counts()"
      ],
      "metadata": {
        "colab": {
          "base_uri": "https://localhost:8080/"
        },
        "id": "G7G5SKSddhNf",
        "outputId": "61078f55-3ea5-4b53-d458-aff9aac518bd"
      },
      "execution_count": null,
      "outputs": [
        {
          "output_type": "execute_result",
          "data": {
            "text/plain": [
              " 6:00 am - 11:00 pm                         402\n",
              " 7:00 am - 10:00 pm                         316\n",
              " 6:00 am - 10:00 pm                         234\n",
              " 7:00 am - 11:00 pm                         132\n",
              " 6:00 am - 1:00 am                           93\n",
              " 6:00 am - 12:00 am                          32\n",
              " 24 hours                                    30\n",
              " 8:00 am - 10:00 pm                          27\n",
              " 7:00 am - 9:00 pm                           25\n",
              " 8:00 am - 10:00 pm | monday - saturday       4\n",
              " 8:00 am - 12:00 am                           3\n",
              " 7:00 am - 12:00 am                           3\n",
              " 5:00 am - 11:00 pm                           2\n",
              " closed | monday - friday                     2\n",
              " 6:00 am - 9:00 pm                            2\n",
              " 8:00 am - 8:00 pm                            1\n",
              " 8:00 am - 11:00 pm                           1\n",
              " 9:00 am - 7:00 pm | monday - saturday        1\n",
              " 8:00 am - 9:00 pm                            1\n",
              " 9:00 am - 9:00 pm                            1\n",
              " 6:00 am - 12:00 am | monday - saturday       1\n",
              " 3:00 pm - 9:00 pm                            1\n",
              " 6:00 am - 11:00 pm | monday - thursday       1\n",
              " 10:00 am - 5:00 pm | monday - friday         1\n",
              " 7:00 am - 7:00 pm | monday - saturday        1\n",
              "Name: Hours, dtype: int64"
            ]
          },
          "metadata": {},
          "execution_count": 918
        }
      ]
    },
    {
      "cell_type": "code",
      "source": [
        "kroger.Hours"
      ],
      "metadata": {
        "colab": {
          "base_uri": "https://localhost:8080/"
        },
        "id": "2Ao7S-zyaOjC",
        "outputId": "ea5195a1-2b61-441a-d991-a1134017677a"
      },
      "execution_count": null,
      "outputs": [
        {
          "output_type": "execute_result",
          "data": {
            "text/plain": [
              "0         9:00 am - 9:00 pm\n",
              "1                  24 hours\n",
              "2        7:00 am - 11:00 pm\n",
              "3        7:00 am - 10:00 pm\n",
              "4        6:00 am - 11:00 pm\n",
              "               ...         \n",
              "1336     7:00 am - 11:00 pm\n",
              "1337     7:00 am - 10:00 pm\n",
              "1338     7:00 am - 10:00 pm\n",
              "1339     7:00 am - 10:00 pm\n",
              "1340               24 hours\n",
              "Name: Hours, Length: 1341, dtype: object"
            ]
          },
          "metadata": {},
          "execution_count": 919
        }
      ]
    },
    {
      "cell_type": "code",
      "source": [
        "#filling Thursday Hours\n",
        "\n",
        "100*(kroger.Hours.isnull().sum()/kroger.shape[0])\n",
        "#the ratio of null values is high in Hours variable,so we need to replace null values by most repeated value"
      ],
      "metadata": {
        "colab": {
          "base_uri": "https://localhost:8080/"
        },
        "outputId": "b696ade6-35a3-4a48-caf3-b76c04b8466d",
        "id": "wpd_zZLCcsvu"
      },
      "execution_count": null,
      "outputs": [
        {
          "output_type": "execute_result",
          "data": {
            "text/plain": [
              "1.7897091722595078"
            ]
          },
          "metadata": {},
          "execution_count": 920
        }
      ]
    },
    {
      "cell_type": "code",
      "source": [
        "kroger.Hours.mode()"
      ],
      "metadata": {
        "colab": {
          "base_uri": "https://localhost:8080/"
        },
        "outputId": "d7c2842f-9df2-405c-c81c-a9b9ccc5e4ac",
        "id": "iCi2WKx4csvw"
      },
      "execution_count": null,
      "outputs": [
        {
          "output_type": "execute_result",
          "data": {
            "text/plain": [
              "0     6:00 am - 11:00 pm\n",
              "dtype: object"
            ]
          },
          "metadata": {},
          "execution_count": 921
        }
      ]
    },
    {
      "cell_type": "code",
      "source": [
        "Hours_mode=kroger.Hours.mode()\n",
        "Hours_mode"
      ],
      "metadata": {
        "colab": {
          "base_uri": "https://localhost:8080/"
        },
        "outputId": "1870e795-883c-417e-96e2-6213b5832d9a",
        "id": "RbdTxDkdcsvw"
      },
      "execution_count": null,
      "outputs": [
        {
          "output_type": "execute_result",
          "data": {
            "text/plain": [
              "0     6:00 am - 11:00 pm\n",
              "dtype: object"
            ]
          },
          "metadata": {},
          "execution_count": 922
        }
      ]
    },
    {
      "cell_type": "code",
      "source": [
        "Hours_mode[0]"
      ],
      "metadata": {
        "colab": {
          "base_uri": "https://localhost:8080/",
          "height": 36
        },
        "outputId": "1a95fa66-4594-4431-9868-d1a52914e798",
        "id": "c8T3CzW9csvx"
      },
      "execution_count": null,
      "outputs": [
        {
          "output_type": "execute_result",
          "data": {
            "text/plain": [
              "' 6:00 am - 11:00 pm'"
            ],
            "application/vnd.google.colaboratory.intrinsic+json": {
              "type": "string"
            }
          },
          "metadata": {},
          "execution_count": 923
        }
      ]
    },
    {
      "cell_type": "code",
      "source": [
        "kroger.Hours.fillna(Hours_mode[0],inplace=True)\n",
        "kroger.Hours.value_counts(normalize=True)"
      ],
      "metadata": {
        "colab": {
          "base_uri": "https://localhost:8080/"
        },
        "outputId": "7c4b59c6-3931-4a7b-b9c0-6a46680d72e8",
        "id": "UXEQ8Rsmcsvx"
      },
      "execution_count": null,
      "outputs": [
        {
          "output_type": "execute_result",
          "data": {
            "text/plain": [
              " 6:00 am - 11:00 pm                         0.317673\n",
              " 7:00 am - 10:00 pm                         0.235645\n",
              " 6:00 am - 10:00 pm                         0.174497\n",
              " 7:00 am - 11:00 pm                         0.098434\n",
              " 6:00 am - 1:00 am                          0.069351\n",
              " 6:00 am - 12:00 am                         0.023863\n",
              " 24 hours                                   0.022371\n",
              " 8:00 am - 10:00 pm                         0.020134\n",
              " 7:00 am - 9:00 pm                          0.018643\n",
              " 8:00 am - 10:00 pm | monday - saturday     0.002983\n",
              " 8:00 am - 12:00 am                         0.002237\n",
              " 7:00 am - 12:00 am                         0.002237\n",
              " 5:00 am - 11:00 pm                         0.001491\n",
              " closed | monday - friday                   0.001491\n",
              " 6:00 am - 9:00 pm                          0.001491\n",
              " 8:00 am - 8:00 pm                          0.000746\n",
              " 8:00 am - 11:00 pm                         0.000746\n",
              " 9:00 am - 7:00 pm | monday - saturday      0.000746\n",
              " 8:00 am - 9:00 pm                          0.000746\n",
              " 9:00 am - 9:00 pm                          0.000746\n",
              " 6:00 am - 12:00 am | monday - saturday     0.000746\n",
              " 3:00 pm - 9:00 pm                          0.000746\n",
              " 6:00 am - 11:00 pm | monday - thursday     0.000746\n",
              " 10:00 am - 5:00 pm | monday - friday       0.000746\n",
              " 7:00 am - 7:00 pm | monday - saturday      0.000746\n",
              "Name: Hours, dtype: float64"
            ]
          },
          "metadata": {},
          "execution_count": 924
        }
      ]
    },
    {
      "cell_type": "code",
      "source": [
        "kroger.Hours.isnull().sum()"
      ],
      "metadata": {
        "colab": {
          "base_uri": "https://localhost:8080/"
        },
        "outputId": "ef567183-e244-4a22-d776-18123d62cb99",
        "id": "afZO7Hircsvx"
      },
      "execution_count": null,
      "outputs": [
        {
          "output_type": "execute_result",
          "data": {
            "text/plain": [
              "0"
            ]
          },
          "metadata": {},
          "execution_count": 925
        }
      ]
    },
    {
      "cell_type": "markdown",
      "source": [
        "## Data Analysis and Visualization in Kroger Data"
      ],
      "metadata": {
        "id": "JM3t_1cwTMnE"
      }
    },
    {
      "cell_type": "code",
      "source": [
        "kroger['Name'].value_counts()"
      ],
      "metadata": {
        "colab": {
          "base_uri": "https://localhost:8080/"
        },
        "id": "MhN6INwQVCYq",
        "outputId": "68f26bac-763c-4923-dbf2-a9efae5b98b0"
      },
      "execution_count": null,
      "outputs": [
        {
          "output_type": "execute_result",
          "data": {
            "text/plain": [
              "Kroger Marketplace                         13\n",
              "Kroger                                     12\n",
              "Kroger Atlanta                              3\n",
              "Springfield Kroger                          3\n",
              "Oakland Kroger                              3\n",
              "                                           ..\n",
              "Latonia Kroger                              1\n",
              "I-471 Memorial Pkwy Carothers Rd Kroger     1\n",
              "Maysville Kroger                            1\n",
              "Parkway Sc Kroger                           1\n",
              "Hinton Fuel Kroger                          1\n",
              "Name: Name, Length: 1269, dtype: int64"
            ]
          },
          "metadata": {},
          "execution_count": 926
        }
      ]
    },
    {
      "cell_type": "markdown",
      "source": [
        "Most of the kroger store names are.\n",
        "*   Kroger Marketplace   \n",
        "*   Kroger  "
      ],
      "metadata": {
        "id": "VEUbl0t7sG-a"
      }
    },
    {
      "cell_type": "code",
      "source": [
        "kroger['State'].value_counts()"
      ],
      "metadata": {
        "colab": {
          "base_uri": "https://localhost:8080/"
        },
        "id": "jdw5Kx2LVCcJ",
        "outputId": "7058a836-76c3-4294-e4c6-594a37e9a1f0"
      },
      "execution_count": null,
      "outputs": [
        {
          "output_type": "execute_result",
          "data": {
            "text/plain": [
              "OH    211\n",
              "TX    209\n",
              "GA    168\n",
              "TN    154\n",
              "KY    133\n",
              "MI    122\n",
              "IN    107\n",
              "VA     69\n",
              "WV     43\n",
              "IL     31\n",
              "MS     30\n",
              "AR     27\n",
              "SC     13\n",
              "AL     10\n",
              "LA      8\n",
              "MO      3\n",
              "AZ      2\n",
              "FL      1\n",
              "Name: State, dtype: int64"
            ]
          },
          "metadata": {},
          "execution_count": 927
        }
      ]
    },
    {
      "cell_type": "code",
      "source": [
        "state=kroger['State'].value_counts().plot.bar(color = 'blue', figsize = (15, 5))\n",
        "plt.title('Count of the state codes\\n',fontdict={'fontsize':20,'fontweight':5,'color':'Blue'})\n",
        "plt.xlabel('State codes', fontdict={'fontsize':15,'fontweight':5,'color':'Blue'})\n",
        "plt.ylabel('count', fontdict={'fontsize':15,'fontweight':5,'color':'Blue'})"
      ],
      "metadata": {
        "colab": {
          "base_uri": "https://localhost:8080/",
          "height": 406
        },
        "outputId": "6a781bb9-28c3-4f40-b032-53f848eb5d47",
        "id": "RVieOspz_kQW"
      },
      "execution_count": null,
      "outputs": [
        {
          "output_type": "execute_result",
          "data": {
            "text/plain": [
              "Text(0, 0.5, 'count')"
            ]
          },
          "metadata": {},
          "execution_count": 928
        },
        {
          "output_type": "display_data",
          "data": {
            "text/plain": [
              "<Figure size 1080x360 with 1 Axes>"
            ],
            "image/png": "[encoded data removed]"
          },
          "metadata": {
            "needs_background": "light"
          }
        }
      ]
    },
    {
      "cell_type": "markdown",
      "source": [
        "Most of the kroger stores are located in these states.\n",
        "*   \tOhio\n",
        "*     Texas\n",
        "*     Georgia\n",
        "*     Tennessee\n",
        "*     Kentucky\n",
        "\n",
        "Least Kroger stores are in these states:\n",
        "*    Florida\n",
        "*    Arizona\n",
        "*    Missouri\n",
        "*    Louisiana\n",
        "*    Alabama"
      ],
      "metadata": {
        "id": "DUNVVCzXsfT_"
      }
    },
    {
      "cell_type": "code",
      "source": [
        "kroger['County'].value_counts()"
      ],
      "metadata": {
        "colab": {
          "base_uri": "https://localhost:8080/"
        },
        "id": "pLElQ3GDriLk",
        "outputId": "8ccd991c-cefd-4714-ee12-6be31f711b73"
      },
      "execution_count": null,
      "outputs": [
        {
          "output_type": "execute_result",
          "data": {
            "text/plain": [
              "Harris        63\n",
              "Franklin      44\n",
              "Hamilton      40\n",
              "Montgomery    35\n",
              "Jefferson     33\n",
              "              ..\n",
              "Meade          1\n",
              "Powell         1\n",
              "Boyle          1\n",
              "Rowan          1\n",
              "Upshur         1\n",
              "Name: County, Length: 281, dtype: int64"
            ]
          },
          "metadata": {},
          "execution_count": 929
        }
      ]
    },
    {
      "cell_type": "markdown",
      "source": [
        "Stores are mostly bulit in these county of US:\n",
        "\n",
        "\n",
        "*   Harris\n",
        "*   Franklin\n",
        "*   Hamilton\n",
        "*   Montgomery"
      ],
      "metadata": {
        "id": "kIYSAFX4uoQo"
      }
    },
    {
      "cell_type": "code",
      "source": [
        "kroger['Status'].value_counts()"
      ],
      "metadata": {
        "colab": {
          "base_uri": "https://localhost:8080/"
        },
        "id": "Dd8PxJZhric0",
        "outputId": "c4300a23-8682-4724-f1f9-94763e31f8db"
      },
      "execution_count": null,
      "outputs": [
        {
          "output_type": "execute_result",
          "data": {
            "text/plain": [
              "Open    1341\n",
              "Name: Status, dtype: int64"
            ]
          },
          "metadata": {},
          "execution_count": 930
        }
      ]
    },
    {
      "cell_type": "markdown",
      "source": [
        "All the stores of kroger company is still open till 18th april 2022"
      ],
      "metadata": {
        "id": "PGajNItYuVmn"
      }
    },
    {
      "cell_type": "code",
      "source": [
        "Storestatus=kroger['Status'].value_counts().plot.bar(color = 'cyan')\n",
        "plt.title('Status of kroger Supercenters on April 18th 2022\\n',fontdict={'fontsize':20,'fontweight':5,'color':'Blue'})\n",
        "plt.xlabel('status', fontdict={'fontsize':15,'fontweight':5,'color':'Blue'})\n",
        "plt.ylabel('count', fontdict={'fontsize':15,'fontweight':5,'color':'Blue'})"
      ],
      "metadata": {
        "colab": {
          "base_uri": "https://localhost:8080/",
          "height": 362
        },
        "outputId": "af7bc1db-80f9-435f-eea8-3e883eb2c53b",
        "id": "OtjJeRBu_TBu"
      },
      "execution_count": null,
      "outputs": [
        {
          "output_type": "execute_result",
          "data": {
            "text/plain": [
              "Text(0, 0.5, 'count')"
            ]
          },
          "metadata": {},
          "execution_count": 931
        },
        {
          "output_type": "display_data",
          "data": {
            "text/plain": [
              "<Figure size 432x288 with 1 Axes>"
            ],
            "image/png": "[encoded data removed]"
          },
          "metadata": {
            "needs_background": "light"
          }
        }
      ]
    },
    {
      "cell_type": "code",
      "source": [
        "kroger.describe()"
      ],
      "metadata": {
        "id": "DxF6EfBbr8ts",
        "colab": {
          "base_uri": "https://localhost:8080/",
          "height": 300
        },
        "outputId": "4263a463-0a10-4989-c770-a8e1be2979b4"
      },
      "execution_count": null,
      "outputs": [
        {
          "output_type": "execute_result",
          "data": {
            "text/plain": [
              "          Latitude    Longitude\n",
              "count  1341.000000  1341.000000\n",
              "mean     36.798331   -86.418126\n",
              "std       3.655962     5.087295\n",
              "min      28.637873  -111.910917\n",
              "25%      33.855093   -88.718981\n",
              "50%      37.271869   -84.530927\n",
              "75%      39.705857   -83.545016\n",
              "max      43.624561   -76.028079"
            ],
            "text/html": [
              "\n",
              "  <div id=\"df-d1cda7a0-c551-4c99-bf40-71c5fe51703b\">\n",
              "    <div class=\"colab-df-container\">\n",
              "      <div>\n",
              "<style scoped>\n",
              "    .dataframe tbody tr th:only-of-type {\n",
              "        vertical-align: middle;\n",
              "    }\n",
              "\n",
              "    .dataframe tbody tr th {\n",
              "        vertical-align: top;\n",
              "    }\n",
              "\n",
              "    .dataframe thead th {\n",
              "        text-align: right;\n",
              "    }\n",
              "</style>\n",
              "<table border=\"1\" class=\"dataframe\">\n",
              "  <thead>\n",
              "    <tr style=\"text-align: right;\">\n",
              "      <th></th>\n",
              "      <th>Latitude</th>\n",
              "      <th>Longitude</th>\n",
              "    </tr>\n",
              "  </thead>\n",
              "  <tbody>\n",
              "    <tr>\n",
              "      <th>count</th>\n",
              "      <td>1341.000000</td>\n",
              "      <td>1341.000000</td>\n",
              "    </tr>\n",
              "    <tr>\n",
              "      <th>mean</th>\n",
              "      <td>36.798331</td>\n",
              "      <td>-86.418126</td>\n",
              "    </tr>\n",
              "    <tr>\n",
              "      <th>std</th>\n",
              "      <td>3.655962</td>\n",
              "      <td>5.087295</td>\n",
              "    </tr>\n",
              "    <tr>\n",
              "      <th>min</th>\n",
              "      <td>28.637873</td>\n",
              "      <td>-111.910917</td>\n",
              "    </tr>\n",
              "    <tr>\n",
              "      <th>25%</th>\n",
              "      <td>33.855093</td>\n",
              "      <td>-88.718981</td>\n",
              "    </tr>\n",
              "    <tr>\n",
              "      <th>50%</th>\n",
              "      <td>37.271869</td>\n",
              "      <td>-84.530927</td>\n",
              "    </tr>\n",
              "    <tr>\n",
              "      <th>75%</th>\n",
              "      <td>39.705857</td>\n",
              "      <td>-83.545016</td>\n",
              "    </tr>\n",
              "    <tr>\n",
              "      <th>max</th>\n",
              "      <td>43.624561</td>\n",
              "      <td>-76.028079</td>\n",
              "    </tr>\n",
              "  </tbody>\n",
              "</table>\n",
              "</div>\n",
              "      <button class=\"colab-df-convert\" onclick=\"convertToInteractive('df-d1cda7a0-c551-4c99-bf40-71c5fe51703b')\"\n",
              "              title=\"Convert this dataframe to an interactive table.\"\n",
              "              style=\"display:none;\">\n",
              "        \n",
              "  <svg xmlns=\"http://www.w3.org/2000/svg\" height=\"24px\"viewBox=\"0 0 24 24\"\n",
              "       width=\"24px\">\n",
              "    <path d=\"M0 0h24v24H0V0z\" fill=\"none\"/>\n",
              "    <path d=\"M18.56 5.44l.94 2.06.94-2.06 2.06-.94-2.06-.94-.94-2.06-.94 2.06-2.06.94zm-11 1L8.5 8.5l.94-2.06 2.06-.94-2.06-.94L8.5 2.5l-.94 2.06-2.06.94zm10 10l.94 2.06.94-2.06 2.06-.94-2.06-.94-.94-2.06-.94 2.06-2.06.94z\"/><path d=\"M17.41 7.96l-1.37-1.37c-.4-.4-.92-.59-1.43-.59-.52 0-1.04.2-1.43.59L10.3 9.45l-7.72 7.72c-.78.78-.78 2.05 0 2.83L4 21.41c.39.39.9.59 1.41.59.51 0 1.02-.2 1.41-.59l7.78-7.78 2.81-2.81c.8-.78.8-2.07 0-2.86zM5.41 20L4 18.59l7.72-7.72 1.47 1.35L5.41 20z\"/>\n",
              "  </svg>\n",
              "      </button>\n",
              "      \n",
              "  <style>\n",
              "    .colab-df-container {\n",
              "      display:flex;\n",
              "      flex-wrap:wrap;\n",
              "      gap: 12px;\n",
              "    }\n",
              "\n",
              "    .colab-df-convert {\n",
              "      background-color: #E8F0FE;\n",
              "      border: none;\n",
              "      border-radius: 50%;\n",
              "      cursor: pointer;\n",
              "      display: none;\n",
              "      fill: #1967D2;\n",
              "      height: 32px;\n",
              "      padding: 0 0 0 0;\n",
              "      width: 32px;\n",
              "    }\n",
              "\n",
              "    .colab-df-convert:hover {\n",
              "      background-color: #E2EBFA;\n",
              "      box-shadow: 0px 1px 2px rgba(60, 64, 67, 0.3), 0px 1px 3px 1px rgba(60, 64, 67, 0.15);\n",
              "      fill: #174EA6;\n",
              "    }\n",
              "\n",
              "    [theme=dark] .colab-df-convert {\n",
              "      background-color: #3B4455;\n",
              "      fill: #D2E3FC;\n",
              "    }\n",
              "\n",
              "    [theme=dark] .colab-df-convert:hover {\n",
              "      background-color: #434B5C;\n",
              "      box-shadow: 0px 1px 3px 1px rgba(0, 0, 0, 0.15);\n",
              "      filter: drop-shadow(0px 1px 2px rgba(0, 0, 0, 0.3));\n",
              "      fill: #FFFFFF;\n",
              "    }\n",
              "  </style>\n",
              "\n",
              "      <script>\n",
              "        const buttonEl =\n",
              "          document.querySelector('#df-d1cda7a0-c551-4c99-bf40-71c5fe51703b button.colab-df-convert');\n",
              "        buttonEl.style.display =\n",
              "          google.colab.kernel.accessAllowed ? 'block' : 'none';\n",
              "\n",
              "        async function convertToInteractive(key) {\n",
              "          const element = document.querySelector('#df-d1cda7a0-c551-4c99-bf40-71c5fe51703b');\n",
              "          const dataTable =\n",
              "            await google.colab.kernel.invokeFunction('convertToInteractive',\n",
              "                                                     [key], {});\n",
              "          if (!dataTable) return;\n",
              "\n",
              "          const docLinkHtml = 'Like what you see? Visit the ' +\n",
              "            '<a target=\"_blank\" href=https://colab.research.google.com/notebooks/data_table.ipynb>data table notebook</a>'\n",
              "            + ' to learn more about interactive tables.';\n",
              "          element.innerHTML = '';\n",
              "          dataTable['output_type'] = 'display_data';\n",
              "          await google.colab.output.renderOutput(dataTable, element);\n",
              "          const docLink = document.createElement('div');\n",
              "          docLink.innerHTML = docLinkHtml;\n",
              "          element.appendChild(docLink);\n",
              "        }\n",
              "      </script>\n",
              "    </div>\n",
              "  </div>\n",
              "  "
            ]
          },
          "metadata": {},
          "execution_count": 932
        }
      ]
    },
    {
      "cell_type": "code",
      "source": [
        ""
      ],
      "metadata": {
        "id": "XViT9EveARiQ"
      },
      "execution_count": null,
      "outputs": []
    },
    {
      "cell_type": "markdown",
      "source": [
        "# **Inference from Kroger Data**\n",
        "\n",
        "Kroger, is an American retail company that operates supermarkets and multi-department stores throughout the United States. This dataset is about the stores of Kroger company across US. The details of the Kroger stores data are collected recently on April 18th 2022\n",
        "•\tEach store is having store number, and its name is given in the data\n",
        "•\tAddress, street, city, state and zip code of the stores is given.\n",
        "•\tstore open hours are given here.\n",
        "In Kroger stores data there is 1341 rows and 19 columns. No duplicate recordes in the data.\n",
        "Inside the data, in phone and open hours there is some null values, Phone variable is not needed for analysis so we can drop it. inside this data there is null values in Hours of each day so by checking the percentage we need to fill the hours to clean the data..\n",
        "Most of the Kroger store names are.\n",
        "**Kroger Marketplace, Kroger**\n",
        "\n",
        "Most of the Kroger stores are located in these states.\n",
        "**Ohio, Texas, Georgia, Tennessee, Kentucky**\n",
        "\n",
        "Least Kroger stores are in these states:\n",
        "\n",
        "**Florida, Arizona, Missouri, Louisiana, Alabama** \n",
        "\n",
        "Stores are mostly built in these county of US:\n",
        "\n",
        "**Harris, Franklin, Hamilton, Montgomery**\n",
        "\n",
        "All the stores of Kroger company is still open till 18th April 2022\n"
      ],
      "metadata": {
        "id": "9NsYoeswOQYq"
      }
    },
    {
      "cell_type": "markdown",
      "source": [
        "# ***conclusion***\n",
        "\n",
        "Walmart superstores are most in US than Kroger Superstores\\\n",
        "Kroger stores are all Marketplace and Walmart stores are supercentres\n"
      ],
      "metadata": {
        "id": "VrwqEqaoOiuT"
      }
    }
  ]
}